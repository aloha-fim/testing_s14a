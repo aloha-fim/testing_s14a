{
  "cells": [
    {
      "cell_type": "markdown",
      "metadata": {
        "id": "LAsvAX3Y0PFl"
      },
      "source": [
        "Modified code originally provided by Zona."
      ]
    },
    {
      "cell_type": "code",
      "execution_count": null,
      "metadata": {
        "id": "_dCCK31DJFe7"
      },
      "outputs": [],
      "source": [
        "import torch\n",
        "from torch.autograd import Variable as V\n",
        "import torch.nn as nn\n",
        "import torchvision.models as models\n",
        "from torchvision import transforms as trn\n",
        "import numpy as np\n",
        "import cv2\n",
        "from PIL import Image\n",
        "import pickle"
      ]
    },
    {
      "cell_type": "code",
      "execution_count": null,
      "metadata": {
        "id": "Z_I9eTSIOj8l"
      },
      "outputs": [],
      "source": [
        "def returnTF():\n",
        "# process image before being input into CNN model\n",
        "  tf = trn.Compose([\n",
        "    trn.Resize((256,256)),\n",
        "    trn.CenterCrop(224),\n",
        "    trn.ToTensor(),\n",
        "    trn.Normalize([0.485, 0.456, 0.406], [0.229, 0.224, 0.225])])\n",
        "  return tf\n",
        "\n",
        "def load_model():\n",
        "\n",
        "  #load pretrained places CNN model provided by Zona\n",
        "  with open('cnn_model.pkl', 'rb') as f:\n",
        "    cnn_model = pickle.load(f)\n",
        "\n",
        "    #remove classification and avgpool layers from model\n",
        "    model = nn.Sequential(*list(cnn_model.children())[:-2])\n",
        "\n",
        "  return model\n",
        "\n",
        "def get_cnn_features(img):\n",
        "  '''\n",
        "  Retrieves features from CNN model from input image\n",
        "  '''\n",
        "  model = load_model()\n",
        "\n",
        "  # load and apply the transformer\n",
        "  tf = returnTF()\n",
        "  input_img = V(tf(img).unsqueeze(0))\n",
        "\n",
        "  #classification layer removed so output of model is output of last layer of CNN\n",
        "  features_blobs = model(input_img).cpu().detach().numpy().squeeze(0)\n",
        "  features = cv2.resize(features_blobs, (18,18), interpolation=cv2.INTER_AREA).flatten()[:2048] #resize to 2048 elements same as provided dataset\n",
        "  features[features == 0] = -1 #replace zeros with -1 to match data cleaning treatment for dataset\n",
        "\n",
        "  return features"
      ]
    }
  ],
  "metadata": {
    "colab": {
      "provenance": []
    },
    "kernelspec": {
      "display_name": "Python 3",
      "name": "python3"
    },
    "language_info": {
      "name": "python"
    }
  },
  "nbformat": 4,
  "nbformat_minor": 0
}
