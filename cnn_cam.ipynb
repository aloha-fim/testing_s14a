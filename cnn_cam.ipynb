{
  "cells": [
    {
      "cell_type": "markdown",
      "metadata": {
        "id": "NDscewAP1u0X"
      },
      "source": [
        "Modified code originally provided by Zona."
      ]
    },
    {
      "cell_type": "code",
      "execution_count": null,
      "metadata": {
        "id": "9T2e7SrsAPtD"
      },
      "outputs": [],
      "source": [
        "import torch\n",
        "import torchvision.models as models\n",
        "from torchvision import transforms as trn\n",
        "from torch.nn import functional as F\n",
        "import pickle\n",
        "import numpy as np\n",
        "from PIL import Image\n",
        "import cv2\n",
        "from pytorch_grad_cam import GradCAM\n",
        "from pytorch_grad_cam.utils.model_targets import ClassifierOutputTarget\n",
        "from pytorch_grad_cam.utils.image import show_cam_on_image, \\\n",
        "    deprocess_image, \\\n",
        "    preprocess_image"
      ]
    },
    {
      "cell_type": "code",
      "execution_count": null,
      "metadata": {
        "id": "TRqd6z4ACtu3"
      },
      "outputs": [],
      "source": [
        "def get_cam(img):\n",
        "  '''\n",
        "  returns input image with CAM heatmap overlay\n",
        "  '''\n",
        "\n",
        "  #load pretrained places CNN model provided by Zona\n",
        "  with open('cnn_model.pkl', 'rb') as f:\n",
        "    cnn_model = pickle.load(f)\n",
        "\n",
        "  # process image before being input into CNN model\n",
        "  centre_crop = trn.Compose([\n",
        "          trn.Resize((256,256)),\n",
        "          trn.CenterCrop(224),\n",
        "          trn.ToTensor(),\n",
        "          trn.Normalize([0.485, 0.456, 0.406], [0.229, 0.224, 0.225])\n",
        "  ])\n",
        "\n",
        "  with torch.no_grad():\n",
        "    input_img = centre_crop(img).unsqueeze(0)\n",
        "\n",
        "  # forward pass to classify image\n",
        "  logit = cnn_model.forward(input_img)\n",
        "  h_x = F.softmax(logit, 1).data.squeeze()\n",
        "  probs, idx = h_x.sort(0, True)\n",
        "\n",
        "  #process input image before overlay CAM\n",
        "  img = np.array(img)\n",
        "  img = cv2.resize(img, (224, 224))\n",
        "  img = np.float32(img) / 255\n",
        "  input_tensor = preprocess_image(img, mean=[0.485, 0.456, 0.406], std=[0.229, 0.224, 0.225])\n",
        "\n",
        "  #overlay CAM on image\n",
        "  targets = [ClassifierOutputTarget(idx[0])]\n",
        "  target_layers = [cnn_model.layer4]\n",
        "  with GradCAM(model=cnn_model, target_layers=target_layers) as cam:\n",
        "      grayscale_cams = cam(input_tensor=input_tensor, targets=targets)\n",
        "      cam_image = show_cam_on_image(img, grayscale_cams[0, :], use_rgb=True)\n",
        "\n",
        "  return cam_image"
      ]
    }
  ],
  "metadata": {
    "colab": {
      "provenance": []
    },
    "kernelspec": {
      "display_name": "Python 3",
      "name": "python3"
    },
    "language_info": {
      "name": "python"
    }
  },
  "nbformat": 4,
  "nbformat_minor": 0
}
