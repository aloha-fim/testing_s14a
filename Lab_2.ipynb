{
  "cells": [
    {
      "cell_type": "markdown",
      "metadata": {
        "collapsed": true,
        "id": "VUbRcgdTa3po"
      },
      "source": []
    },
    {
      "cell_type": "markdown",
      "metadata": {},
      "source": []
    },
    {
      "cell_type": "markdown",
      "metadata": {},
      "source": [
        "# S-14a: Lab\n",
        "\n",
        "## Numpy | Pandas | Sklearn"
      ]
    },
    {
      "cell_type": "markdown",
      "metadata": {
        "id": "NdcUAAmla3pq"
      },
      "source": [
        "### Numpy"
      ]
    },
    {
      "cell_type": "markdown",
      "metadata": {
        "id": "uLn_LzaOa3pr"
      },
      "source": [
        "NumPy is the fundamental package for scientific computing with Python. It contains among other things:\n",
        "\n",
        "- a powerful N-dimensional array object\n",
        "- sophisticated (broadcasting) functions\n",
        "- tools for integrating C/C++ and Fortran code\n",
        "- useful linear algebra, Fourier transform, and random number capabilities\n",
        "\n",
        "Besides its obvious scientific uses, NumPy can also be used as an efficient multi-dimensional container of generic data. Arbitrary data-types can be defined. This allows NumPy to seamlessly and speedily integrate with a wide variety of databases.\n",
        "\n",
        "For more information, check this page: http://www.numpy.org/"
      ]
    },
    {
      "cell_type": "code",
      "execution_count": 61,
      "metadata": {
        "collapsed": true,
        "id": "C7rDfjsBa3pr"
      },
      "outputs": [],
      "source": [
        "# Load library\n",
        "import numpy as np"
      ]
    },
    {
      "cell_type": "markdown",
      "metadata": {
        "id": "HWCS1xSxa3ps"
      },
      "source": [
        "Let us explore numpy through examples."
      ]
    },
    {
      "cell_type": "markdown",
      "metadata": {
        "id": "bzIglqm0a3pt"
      },
      "source": [
        "#### Arrays"
      ]
    },
    {
      "cell_type": "code",
      "execution_count": 62,
      "metadata": {
        "colab": {
          "base_uri": "https://localhost:8080/"
        },
        "id": "DJ6lmvVva3pt",
        "outputId": "d0ffd687-5e0a-4018-8c4b-40bfafec2646"
      },
      "outputs": [
        {
          "name": "stdout",
          "output_type": "stream",
          "text": [
            "(3,)\n",
            "1 2 3\n",
            "[5 2 3]\n"
          ]
        }
      ],
      "source": [
        "a = np.array([1, 2, 3])\n",
        "print(a.shape)\n",
        "print(a[0], a[1], a[2])\n",
        "\n",
        "a[0] = 5\n",
        "print(a)"
      ]
    },
    {
      "cell_type": "code",
      "execution_count": 63,
      "metadata": {
        "colab": {
          "base_uri": "https://localhost:8080/"
        },
        "id": "4LLr4Xila3pu",
        "outputId": "832b2d8d-1b16-418b-c278-0c451c351139"
      },
      "outputs": [
        {
          "name": "stdout",
          "output_type": "stream",
          "text": [
            "(2, 3)\n",
            "1 2 4\n"
          ]
        }
      ],
      "source": [
        "b = np.array([[1, 2, 3], [4, 5, 6]])\n",
        "print(b.shape)\n",
        "print(b[0, 0], b[0, 1], b[1, 0])"
      ]
    },
    {
      "cell_type": "code",
      "execution_count": 64,
      "metadata": {
        "colab": {
          "base_uri": "https://localhost:8080/"
        },
        "id": "ebtjEat7a3pu",
        "outputId": "a28daa9e-a88d-4447-807a-48fa76995f94"
      },
      "outputs": [
        {
          "name": "stdout",
          "output_type": "stream",
          "text": [
            "[[0. 0.]\n",
            " [0. 0.]]\n"
          ]
        }
      ],
      "source": [
        "a = np.zeros((2, 2))\n",
        "print(a)"
      ]
    },
    {
      "cell_type": "code",
      "execution_count": 65,
      "metadata": {
        "colab": {
          "base_uri": "https://localhost:8080/"
        },
        "id": "EdzVdyJPa3pv",
        "outputId": "4bc404ed-8aaa-4a6d-d2df-b7358bb5d214"
      },
      "outputs": [
        {
          "name": "stdout",
          "output_type": "stream",
          "text": [
            "[[1. 1.]]\n"
          ]
        }
      ],
      "source": [
        "b = np.ones((1, 2))\n",
        "print(b)"
      ]
    },
    {
      "cell_type": "code",
      "execution_count": 66,
      "metadata": {
        "colab": {
          "base_uri": "https://localhost:8080/"
        },
        "id": "gI60B68ra3pv",
        "outputId": "66ea8163-58d4-40db-c877-940b9892ea96"
      },
      "outputs": [
        {
          "name": "stdout",
          "output_type": "stream",
          "text": [
            "[[0.37898585 0.66838395]\n",
            " [0.02931972 0.63590036]]\n"
          ]
        }
      ],
      "source": [
        "e = np.random.random((2, 2))\n",
        "print(e)"
      ]
    },
    {
      "cell_type": "markdown",
      "metadata": {
        "id": "vACnwO2xa3pv"
      },
      "source": [
        "#### Array indexing"
      ]
    },
    {
      "cell_type": "code",
      "execution_count": 67,
      "metadata": {
        "colab": {
          "base_uri": "https://localhost:8080/"
        },
        "id": "6-oLi4Fya3pv",
        "outputId": "dbd38721-8607-4af5-d09c-612b05acdc1f"
      },
      "outputs": [
        {
          "name": "stdout",
          "output_type": "stream",
          "text": [
            "[[ 1  2  3  4]\n",
            " [ 5  6  7  8]\n",
            " [ 9 10 11 12]]\n",
            "2\n"
          ]
        }
      ],
      "source": [
        "a = np.array([[1, 2, 3, 4], [5, 6, 7, 8], [9, 10, 11, 12]])\n",
        "print(a)\n",
        "print(a[0, 1])"
      ]
    },
    {
      "cell_type": "code",
      "execution_count": 68,
      "metadata": {
        "colab": {
          "base_uri": "https://localhost:8080/"
        },
        "id": "O5ykXc18a3pv",
        "outputId": "9b46a13e-f5f6-4d3b-b00a-aa7ede2ba237"
      },
      "outputs": [
        {
          "name": "stdout",
          "output_type": "stream",
          "text": [
            "[[2 3]\n",
            " [6 7]]\n"
          ]
        }
      ],
      "source": [
        "b = a[:2, 1:3]\n",
        "print(b)"
      ]
    },
    {
      "cell_type": "markdown",
      "metadata": {
        "id": "puS3SfFxa3pv"
      },
      "source": [
        "#### Excercise"
      ]
    },
    {
      "cell_type": "code",
      "execution_count": 69,
      "metadata": {
        "id": "qDzc4Hyxa3pv"
      },
      "outputs": [],
      "source": [
        "a = np.array([[1, 2, 3, 4], [5, 6, 7, 8], [9, 10, 11, 12]])\n",
        "\n",
        "# print 1st and 3rd row, all columns, and shape\n",
        "# print 2nd row, 2nd and 3rd column, and shape"
      ]
    },
    {
      "cell_type": "markdown",
      "metadata": {
        "id": "cwpoOR48a3pw"
      },
      "source": [
        "#### Array math"
      ]
    },
    {
      "cell_type": "code",
      "execution_count": 70,
      "metadata": {
        "colab": {
          "base_uri": "https://localhost:8080/"
        },
        "id": "EqwrKDfba3pw",
        "outputId": "69c41fcf-18b1-4fed-cd0d-06016f8dba1d"
      },
      "outputs": [
        {
          "name": "stdout",
          "output_type": "stream",
          "text": [
            "[[ 6.  8.]\n",
            " [10. 12.]]\n",
            "[[ 6.  8.]\n",
            " [10. 12.]]\n"
          ]
        }
      ],
      "source": [
        "x = np.array([[1, 2], [3, 4]], dtype=np.float64)\n",
        "y = np.array([[5, 6], [7, 8]], dtype=np.float64)\n",
        "print(x + y)\n",
        "print(np.add(x, y))"
      ]
    },
    {
      "cell_type": "code",
      "execution_count": 71,
      "metadata": {
        "colab": {
          "base_uri": "https://localhost:8080/"
        },
        "id": "4KKvBoyFa3pw",
        "outputId": "e10fc764-f8a1-4ebe-ea2c-5ff106cd6bee"
      },
      "outputs": [
        {
          "name": "stdout",
          "output_type": "stream",
          "text": [
            "[[-4. -4.]\n",
            " [-4. -4.]]\n",
            "[[-4. -4.]\n",
            " [-4. -4.]]\n"
          ]
        }
      ],
      "source": [
        "print(x - y)\n",
        "print(np.subtract(x, y))"
      ]
    },
    {
      "cell_type": "code",
      "execution_count": 72,
      "metadata": {
        "colab": {
          "base_uri": "https://localhost:8080/"
        },
        "id": "C5in1OJ6a3pw",
        "outputId": "233390b9-8e50-4fb9-f03b-1dc602f589ad"
      },
      "outputs": [
        {
          "name": "stdout",
          "output_type": "stream",
          "text": [
            "[[ 5. 12.]\n",
            " [21. 32.]]\n",
            "[[ 5. 12.]\n",
            " [21. 32.]]\n"
          ]
        }
      ],
      "source": [
        "print(x * y)\n",
        "print(np.multiply(x, y))"
      ]
    },
    {
      "cell_type": "code",
      "execution_count": 73,
      "metadata": {
        "colab": {
          "base_uri": "https://localhost:8080/"
        },
        "id": "Ja9CBa02a3pw",
        "outputId": "bc1a973d-4c76-4708-d11e-b04a6429cfe1"
      },
      "outputs": [
        {
          "name": "stdout",
          "output_type": "stream",
          "text": [
            "[[0.2        0.33333333]\n",
            " [0.42857143 0.5       ]]\n",
            "[[0.2        0.33333333]\n",
            " [0.42857143 0.5       ]]\n"
          ]
        }
      ],
      "source": [
        "print(x / y)\n",
        "print(np.divide(x, y))"
      ]
    },
    {
      "cell_type": "code",
      "execution_count": 74,
      "metadata": {
        "colab": {
          "base_uri": "https://localhost:8080/"
        },
        "id": "XyqXGv5-a3pw",
        "outputId": "e3af9b0a-8b21-4288-f725-d7f182a388fe"
      },
      "outputs": [
        {
          "name": "stdout",
          "output_type": "stream",
          "text": [
            "[[1.         1.41421356]\n",
            " [1.73205081 2.        ]]\n"
          ]
        }
      ],
      "source": [
        "print(np.sqrt(x))"
      ]
    },
    {
      "cell_type": "code",
      "execution_count": 75,
      "metadata": {
        "colab": {
          "base_uri": "https://localhost:8080/"
        },
        "id": "L2eP7baya3pw",
        "outputId": "6d31b1dc-c89a-4ecc-e0cb-91a16db9923b"
      },
      "outputs": [
        {
          "name": "stdout",
          "output_type": "stream",
          "text": [
            "10\n",
            "[4 6]\n",
            "[3 7]\n"
          ]
        }
      ],
      "source": [
        "x = np.array([[1, 2], [3, 4]])\n",
        "\n",
        "print(np.sum(x))\n",
        "print(np.sum(x, axis=0))\n",
        "print(np.sum(x, axis=1))"
      ]
    },
    {
      "cell_type": "code",
      "execution_count": 76,
      "metadata": {
        "colab": {
          "base_uri": "https://localhost:8080/"
        },
        "id": "I3uvGrM9a3pw",
        "outputId": "8918b4cf-09d8-46a7-99fd-60c1c1c5f7e4"
      },
      "outputs": [
        {
          "name": "stdout",
          "output_type": "stream",
          "text": [
            "[[1 2]\n",
            " [3 4]]\n",
            "[[1 3]\n",
            " [2 4]]\n"
          ]
        }
      ],
      "source": [
        "x = np.array([[1, 2], [3, 4]])\n",
        "print(x)\n",
        "print(x.T)"
      ]
    },
    {
      "cell_type": "code",
      "execution_count": 77,
      "metadata": {
        "colab": {
          "base_uri": "https://localhost:8080/"
        },
        "id": "9u-XlZDba3pw",
        "outputId": "18f69877-a4ea-4ff6-ba6b-07bea099bbc8"
      },
      "outputs": [
        {
          "name": "stdout",
          "output_type": "stream",
          "text": [
            "[1 2 3]\n",
            "[1 2 3]\n"
          ]
        }
      ],
      "source": [
        "v = np.array([1, 2, 3])\n",
        "print(v)\n",
        "print(v.T)"
      ]
    },
    {
      "cell_type": "markdown",
      "metadata": {
        "id": "maZcMs6Ka3pw"
      },
      "source": [
        "#### Broadcasting"
      ]
    },
    {
      "cell_type": "markdown",
      "metadata": {
        "id": "Bl79YlRva3pw"
      },
      "source": [
        "note: print x, v, and y arrays"
      ]
    },
    {
      "cell_type": "code",
      "execution_count": 78,
      "metadata": {
        "colab": {
          "base_uri": "https://localhost:8080/"
        },
        "id": "uZUn3XICa3pw",
        "outputId": "bed4d88b-d0e4-4be8-a3c2-a0783e613619"
      },
      "outputs": [
        {
          "name": "stdout",
          "output_type": "stream",
          "text": [
            "[[ 2  2  4]\n",
            " [ 5  5  7]\n",
            " [ 8  8 10]\n",
            " [11 11 13]]\n"
          ]
        }
      ],
      "source": [
        "x = np.array([[1, 2, 3], [4, 5, 6], [7, 8, 9], [10, 11, 12]])\n",
        "v = np.array([1, 0, 1])\n",
        "y = np.empty_like(x)\n",
        "\n",
        "for i in range(4):\n",
        "    y[i, :] = x[i, :] + v\n",
        "\n",
        "print(y)"
      ]
    },
    {
      "cell_type": "markdown",
      "metadata": {
        "id": "pjBRl77ja3px"
      },
      "source": [
        "### Plotting"
      ]
    },
    {
      "cell_type": "markdown",
      "metadata": {
        "id": "3R7Z8I8la3px"
      },
      "source": [
        "Matplotlib is a Python 2D plotting library which produces publication quality figures in a variety of hardcopy formats and interactive environments across platforms. Matplotlib can be used in Python scripts, the Python and IPython shells, the Jupyter notebook, web application servers, and four graphical user interface toolkits.\n",
        "\n",
        "Matplotlib tries to make easy things easy and hard things possible. You can generate plots, histograms, power spectra, bar charts, errorcharts, scatterplots, etc., with just a few lines of code. For examples, see the sample plots and thumbnail gallery: https://matplotlib.org/index.html\n",
        "\n",
        "For simple plotting the pyplot module provides a MATLAB-like interface, particularly when combined with IPython. For the power user, you have full control of line styles, font properties, axes properties, etc, via an object oriented interface or via a set of functions familiar to MATLAB users."
      ]
    },
    {
      "cell_type": "code",
      "execution_count": 79,
      "metadata": {
        "colab": {
          "base_uri": "https://localhost:8080/",
          "height": 430
        },
        "id": "wzqBcS19a3px",
        "outputId": "3c449282-7aa3-45a4-978d-72b4d78b772a"
      },
      "outputs": [
        {
          "data": {
            "image/png": "[encoded data removed]",
            "text/plain": [
              "<Figure size 432x288 with 1 Axes>"
            ]
          },
          "metadata": {
            "needs_background": "light"
          },
          "output_type": "display_data"
        }
      ],
      "source": [
        "import matplotlib.pyplot as plt\n",
        "\n",
        "x = np.arange(0, 3 * np.pi, 0.1)\n",
        "y = np.sin(x)\n",
        "\n",
        "plt.plot(x, y)\n",
        "plt.show()"
      ]
    },
    {
      "cell_type": "code",
      "execution_count": 80,
      "metadata": {
        "colab": {
          "base_uri": "https://localhost:8080/",
          "height": 472
        },
        "id": "5SFcuizFa3px",
        "outputId": "aa28f078-e48b-4ef9-98ec-c64e89143aa2"
      },
      "outputs": [
        {
          "data": {
            "image/png": "[encoded data removed]",
            "text/plain": [
              "<Figure size 432x288 with 1 Axes>"
            ]
          },
          "metadata": {
            "needs_background": "light"
          },
          "output_type": "display_data"
        }
      ],
      "source": [
        "x = np.arange(0, 3 * np.pi, 0.1)\n",
        "y_sin = np.sin(x)\n",
        "y_cos = np.cos(x)\n",
        "\n",
        "plt.plot(x, y_sin)\n",
        "plt.plot(x, y_cos)\n",
        "plt.xlabel('x axis label')\n",
        "plt.ylabel('y axis label')\n",
        "plt.title('Sine and Cosine')\n",
        "plt.legend(['Sine', 'Cosine'])\n",
        "plt.show()"
      ]
    },
    {
      "cell_type": "code",
      "execution_count": 81,
      "metadata": {
        "colab": {
          "base_uri": "https://localhost:8080/",
          "height": 452
        },
        "id": "LV6fhbnMa3px",
        "outputId": "d0831912-7258-42b8-f797-6705eda6f685"
      },
      "outputs": [
        {
          "data": {
            "image/png": "[encoded data removed]",
            "text/plain": [
              "<Figure size 432x288 with 2 Axes>"
            ]
          },
          "metadata": {
            "needs_background": "light"
          },
          "output_type": "display_data"
        }
      ],
      "source": [
        "x = np.arange(0, 3 * np.pi, 0.1)\n",
        "y_sin = np.sin(x)\n",
        "y_cos = np.cos(x)\n",
        "\n",
        "plt.subplot(2, 1, 1)\n",
        "plt.plot(x, y_sin)\n",
        "plt.title('Sine')\n",
        "\n",
        "plt.subplot(2, 1, 2)\n",
        "plt.plot(x, y_cos)\n",
        "plt.title('Cosine')\n",
        "plt.show()"
      ]
    },
    {
      "cell_type": "markdown",
      "metadata": {
        "id": "lPNlgLoWa3px"
      },
      "source": [
        "### Pandas"
      ]
    },
    {
      "cell_type": "markdown",
      "metadata": {
        "id": "A1NMuM1da3px"
      },
      "source": [
        "Pandas is an open source, BSD-licensed library providing high-performance, easy-to-use data structures and data analysis tools for the Python programming language.\n",
        "\n",
        "pandas is a NumFOCUS sponsored project. This will help ensure the success of development of pandas as a world-class open-source project, and makes it possible to donate to the project.\n",
        "\n",
        "For more information, check this page: https://pandas.pydata.org/"
      ]
    },
    {
      "cell_type": "code",
      "execution_count": 82,
      "metadata": {
        "collapsed": true,
        "id": "z7LTIgz3a3px"
      },
      "outputs": [],
      "source": [
        "# Load library\n",
        "import pandas as pd"
      ]
    },
    {
      "cell_type": "code",
      "execution_count": 83,
      "metadata": {
        "colab": {
          "base_uri": "https://localhost:8080/",
          "height": 353
        },
        "collapsed": true,
        "id": "obedRfKea3px",
        "outputId": "2f084366-fbfb-4c08-949c-ea11b77b7331"
      },
      "outputs": [],
      "source": [
        "# Import dataset\n",
        "dataset = pd.read_csv(\"Boston_March2018.csv\")"
      ]
    },
    {
      "cell_type": "code",
      "execution_count": 84,
      "metadata": {
        "id": "aephCkDCa3px"
      },
      "outputs": [
        {
          "data": {
            "text/html": [
              "<div>\n",
              "<style scoped>\n",
              "    .dataframe tbody tr th:only-of-type {\n",
              "        vertical-align: middle;\n",
              "    }\n",
              "\n",
              "    .dataframe tbody tr th {\n",
              "        vertical-align: top;\n",
              "    }\n",
              "\n",
              "    .dataframe thead th {\n",
              "        text-align: right;\n",
              "    }\n",
              "</style>\n",
              "<table border=\"1\" class=\"dataframe\">\n",
              "  <thead>\n",
              "    <tr style=\"text-align: right;\">\n",
              "      <th></th>\n",
              "      <th>MLSNUM</th>\n",
              "      <th>STATUS</th>\n",
              "      <th>LISTPRICE</th>\n",
              "      <th>SOLDPRICE</th>\n",
              "      <th>LISTDATE</th>\n",
              "      <th>SOLDDATE</th>\n",
              "      <th>EXPIREDDATE</th>\n",
              "      <th>DOM</th>\n",
              "      <th>DTO</th>\n",
              "      <th>ADDRESS</th>\n",
              "      <th>...</th>\n",
              "      <th>COOLING</th>\n",
              "      <th>ELEMENTARYSCHOOL</th>\n",
              "      <th>JUNIORHIGHSCHOOL</th>\n",
              "      <th>HIGHSCHOOL</th>\n",
              "      <th>OTHERFEATURES</th>\n",
              "      <th>PROPTYPE</th>\n",
              "      <th>STREETNAME</th>\n",
              "      <th>HOUSENUM1</th>\n",
              "      <th>HOUSENUM2</th>\n",
              "      <th>PHOTOURL</th>\n",
              "    </tr>\n",
              "  </thead>\n",
              "  <tbody>\n",
              "    <tr>\n",
              "      <th>0</th>\n",
              "      <td>72049670</td>\n",
              "      <td>SLD</td>\n",
              "      <td>239900.0</td>\n",
              "      <td>247000.0</td>\n",
              "      <td>8/6/2016</td>\n",
              "      <td>3/1/2018</td>\n",
              "      <td>NaN</td>\n",
              "      <td>295</td>\n",
              "      <td>295</td>\n",
              "      <td>16 Pine St</td>\n",
              "      <td>...</td>\n",
              "      <td>NaN</td>\n",
              "      <td>NaN</td>\n",
              "      <td>NaN</td>\n",
              "      <td>NaN</td>\n",
              "      <td>NaN</td>\n",
              "      <td>MF</td>\n",
              "      <td>Pine St</td>\n",
              "      <td>16</td>\n",
              "      <td>16</td>\n",
              "      <td>http://media.mlspin.com/photo.aspx?mls=72049670</td>\n",
              "    </tr>\n",
              "    <tr>\n",
              "      <th>1</th>\n",
              "      <td>72056522</td>\n",
              "      <td>SLD</td>\n",
              "      <td>338000.0</td>\n",
              "      <td>338000.0</td>\n",
              "      <td>8/22/2016</td>\n",
              "      <td>3/1/2018</td>\n",
              "      <td>NaN</td>\n",
              "      <td>545</td>\n",
              "      <td>515</td>\n",
              "      <td>80 Cherry Drive</td>\n",
              "      <td>...</td>\n",
              "      <td>NaN</td>\n",
              "      <td>NaN</td>\n",
              "      <td>NaN</td>\n",
              "      <td>NaN</td>\n",
              "      <td>Basement:Yes;Fireplaces:1;Roof:Asphalt/Fibergl...</td>\n",
              "      <td>CC</td>\n",
              "      <td>Cherry Drive</td>\n",
              "      <td>80</td>\n",
              "      <td>80</td>\n",
              "      <td>http://media.mlspin.com/photo.aspx?mls=72056522</td>\n",
              "    </tr>\n",
              "    <tr>\n",
              "      <th>2</th>\n",
              "      <td>72080286</td>\n",
              "      <td>SLD</td>\n",
              "      <td>2999999.0</td>\n",
              "      <td>2950000.0</td>\n",
              "      <td>10/12/2016</td>\n",
              "      <td>3/1/2018</td>\n",
              "      <td>NaN</td>\n",
              "      <td>504</td>\n",
              "      <td>493</td>\n",
              "      <td>80 Monadnock Road</td>\n",
              "      <td>...</td>\n",
              "      <td>NaN</td>\n",
              "      <td>WPS</td>\n",
              "      <td>WMS</td>\n",
              "      <td>WHS</td>\n",
              "      <td>Basement:Yes;Fireplaces:3;Roof:Asphalt/Fibergl...</td>\n",
              "      <td>SF</td>\n",
              "      <td>Monadnock Road</td>\n",
              "      <td>80</td>\n",
              "      <td>80</td>\n",
              "      <td>http://media.mlspin.com/photo.aspx?mls=72080286</td>\n",
              "    </tr>\n",
              "    <tr>\n",
              "      <th>3</th>\n",
              "      <td>72118879</td>\n",
              "      <td>SLD</td>\n",
              "      <td>2600000.0</td>\n",
              "      <td>2600000.0</td>\n",
              "      <td>2/14/2017</td>\n",
              "      <td>3/1/2018</td>\n",
              "      <td>NaN</td>\n",
              "      <td>28</td>\n",
              "      <td>14</td>\n",
              "      <td>15 Trevino Circle</td>\n",
              "      <td>...</td>\n",
              "      <td>NaN</td>\n",
              "      <td>West Elementary</td>\n",
              "      <td>West Middle</td>\n",
              "      <td>Andover High</td>\n",
              "      <td>Basement:Yes;Fireplaces:3;Roof:--;Floor:--;App...</td>\n",
              "      <td>SF</td>\n",
              "      <td>Trevino Circle</td>\n",
              "      <td>15</td>\n",
              "      <td>15</td>\n",
              "      <td>http://media.mlspin.com/photo.aspx?mls=72118879</td>\n",
              "    </tr>\n",
              "    <tr>\n",
              "      <th>4</th>\n",
              "      <td>72124101</td>\n",
              "      <td>SLD</td>\n",
              "      <td>525000.0</td>\n",
              "      <td>525000.0</td>\n",
              "      <td>2/28/2017</td>\n",
              "      <td>3/1/2018</td>\n",
              "      <td>NaN</td>\n",
              "      <td>867</td>\n",
              "      <td>287</td>\n",
              "      <td>53 Maple Ridge Rd</td>\n",
              "      <td>...</td>\n",
              "      <td>NaN</td>\n",
              "      <td>NaN</td>\n",
              "      <td>NaN</td>\n",
              "      <td>Northampton</td>\n",
              "      <td>Basement:Yes;Fireplaces:1;Roof:Asphalt/Fibergl...</td>\n",
              "      <td>SF</td>\n",
              "      <td>Maple Ridge Rd</td>\n",
              "      <td>53</td>\n",
              "      <td>53</td>\n",
              "      <td>http://media.mlspin.com/photo.aspx?mls=72124101</td>\n",
              "    </tr>\n",
              "  </tbody>\n",
              "</table>\n",
              "<p>5 rows × 38 columns</p>\n",
              "</div>"
            ],
            "text/plain": [
              "     MLSNUM STATUS  LISTPRICE  SOLDPRICE    LISTDATE  SOLDDATE  EXPIREDDATE  \\\n",
              "0  72049670    SLD   239900.0   247000.0    8/6/2016  3/1/2018          NaN   \n",
              "1  72056522    SLD   338000.0   338000.0   8/22/2016  3/1/2018          NaN   \n",
              "2  72080286    SLD  2999999.0  2950000.0  10/12/2016  3/1/2018          NaN   \n",
              "3  72118879    SLD  2600000.0  2600000.0   2/14/2017  3/1/2018          NaN   \n",
              "4  72124101    SLD   525000.0   525000.0   2/28/2017  3/1/2018          NaN   \n",
              "\n",
              "   DOM  DTO            ADDRESS  ... COOLING ELEMENTARYSCHOOL  \\\n",
              "0  295  295         16 Pine St  ...     NaN              NaN   \n",
              "1  545  515    80 Cherry Drive  ...     NaN              NaN   \n",
              "2  504  493  80 Monadnock Road  ...     NaN              WPS   \n",
              "3   28   14  15 Trevino Circle  ...     NaN  West Elementary   \n",
              "4  867  287  53 Maple Ridge Rd  ...     NaN              NaN   \n",
              "\n",
              "   JUNIORHIGHSCHOOL    HIGHSCHOOL  \\\n",
              "0               NaN           NaN   \n",
              "1               NaN           NaN   \n",
              "2               WMS           WHS   \n",
              "3       West Middle  Andover High   \n",
              "4               NaN   Northampton   \n",
              "\n",
              "                                       OTHERFEATURES  PROPTYPE  \\\n",
              "0                                                NaN        MF   \n",
              "1  Basement:Yes;Fireplaces:1;Roof:Asphalt/Fibergl...        CC   \n",
              "2  Basement:Yes;Fireplaces:3;Roof:Asphalt/Fibergl...        SF   \n",
              "3  Basement:Yes;Fireplaces:3;Roof:--;Floor:--;App...        SF   \n",
              "4  Basement:Yes;Fireplaces:1;Roof:Asphalt/Fibergl...        SF   \n",
              "\n",
              "       STREETNAME  HOUSENUM1  HOUSENUM2  \\\n",
              "0         Pine St         16         16   \n",
              "1    Cherry Drive         80         80   \n",
              "2  Monadnock Road         80         80   \n",
              "3  Trevino Circle         15         15   \n",
              "4  Maple Ridge Rd         53         53   \n",
              "\n",
              "                                          PHOTOURL  \n",
              "0  http://media.mlspin.com/photo.aspx?mls=72049670  \n",
              "1  http://media.mlspin.com/photo.aspx?mls=72056522  \n",
              "2  http://media.mlspin.com/photo.aspx?mls=72080286  \n",
              "3  http://media.mlspin.com/photo.aspx?mls=72118879  \n",
              "4  http://media.mlspin.com/photo.aspx?mls=72124101  \n",
              "\n",
              "[5 rows x 38 columns]"
            ]
          },
          "execution_count": 84,
          "metadata": {},
          "output_type": "execute_result"
        }
      ],
      "source": [
        "dataset.head()"
      ]
    },
    {
      "cell_type": "code",
      "execution_count": 85,
      "metadata": {
        "id": "_k9FEg8Ca3py"
      },
      "outputs": [
        {
          "data": {
            "text/plain": [
              "Index(['MLSNUM', 'STATUS', 'LISTPRICE', 'SOLDPRICE', 'LISTDATE', 'SOLDDATE',\n",
              "       'EXPIREDDATE', 'DOM', 'DTO', 'ADDRESS', 'CITY', 'STATE', 'ZIP', 'AREA',\n",
              "       'BEDS', 'BATHS', 'SQFT', 'AGE', 'LOTSIZE', 'AGENTNAME', 'OFFICENAME',\n",
              "       'OFFICEPHONE', 'SHOWINGINSTRUCTIONS', 'REMARKS', 'STYLE', 'LEVEL',\n",
              "       'GARAGE', 'HEATING', 'COOLING', 'ELEMENTARYSCHOOL', 'JUNIORHIGHSCHOOL',\n",
              "       'HIGHSCHOOL', 'OTHERFEATURES', 'PROPTYPE', 'STREETNAME', 'HOUSENUM1',\n",
              "       'HOUSENUM2', 'PHOTOURL'],\n",
              "      dtype='object')"
            ]
          },
          "execution_count": 85,
          "metadata": {},
          "output_type": "execute_result"
        }
      ],
      "source": [
        "dataset.columns"
      ]
    },
    {
      "cell_type": "code",
      "execution_count": 86,
      "metadata": {
        "id": "MTsRm8LDa3p3"
      },
      "outputs": [
        {
          "data": {
            "text/plain": [
              "0     239900.0\n",
              "1     338000.0\n",
              "2    2999999.0\n",
              "3    2600000.0\n",
              "4     525000.0\n",
              "Name: LISTPRICE, dtype: float64"
            ]
          },
          "execution_count": 86,
          "metadata": {},
          "output_type": "execute_result"
        }
      ],
      "source": [
        "dataset.LISTPRICE.head()"
      ]
    },
    {
      "cell_type": "code",
      "execution_count": 87,
      "metadata": {
        "id": "B3r7Da6Oa3p3"
      },
      "outputs": [
        {
          "data": {
            "text/plain": [
              "0     239900.0\n",
              "1     338000.0\n",
              "2    2999999.0\n",
              "3    2600000.0\n",
              "4     525000.0\n",
              "Name: LISTPRICE, dtype: float64"
            ]
          },
          "execution_count": 87,
          "metadata": {},
          "output_type": "execute_result"
        }
      ],
      "source": [
        "dataset['LISTPRICE'].head()"
      ]
    },
    {
      "cell_type": "code",
      "execution_count": 88,
      "metadata": {
        "id": "UTt1r71Ra3p3"
      },
      "outputs": [
        {
          "data": {
            "text/html": [
              "<div>\n",
              "<style scoped>\n",
              "    .dataframe tbody tr th:only-of-type {\n",
              "        vertical-align: middle;\n",
              "    }\n",
              "\n",
              "    .dataframe tbody tr th {\n",
              "        vertical-align: top;\n",
              "    }\n",
              "\n",
              "    .dataframe thead th {\n",
              "        text-align: right;\n",
              "    }\n",
              "</style>\n",
              "<table border=\"1\" class=\"dataframe\">\n",
              "  <thead>\n",
              "    <tr style=\"text-align: right;\">\n",
              "      <th></th>\n",
              "      <th>LISTPRICE</th>\n",
              "      <th>SOLDPRICE</th>\n",
              "    </tr>\n",
              "  </thead>\n",
              "  <tbody>\n",
              "    <tr>\n",
              "      <th>0</th>\n",
              "      <td>239900.0</td>\n",
              "      <td>247000.0</td>\n",
              "    </tr>\n",
              "    <tr>\n",
              "      <th>1</th>\n",
              "      <td>338000.0</td>\n",
              "      <td>338000.0</td>\n",
              "    </tr>\n",
              "    <tr>\n",
              "      <th>2</th>\n",
              "      <td>2999999.0</td>\n",
              "      <td>2950000.0</td>\n",
              "    </tr>\n",
              "    <tr>\n",
              "      <th>3</th>\n",
              "      <td>2600000.0</td>\n",
              "      <td>2600000.0</td>\n",
              "    </tr>\n",
              "    <tr>\n",
              "      <th>4</th>\n",
              "      <td>525000.0</td>\n",
              "      <td>525000.0</td>\n",
              "    </tr>\n",
              "  </tbody>\n",
              "</table>\n",
              "</div>"
            ],
            "text/plain": [
              "   LISTPRICE  SOLDPRICE\n",
              "0   239900.0   247000.0\n",
              "1   338000.0   338000.0\n",
              "2  2999999.0  2950000.0\n",
              "3  2600000.0  2600000.0\n",
              "4   525000.0   525000.0"
            ]
          },
          "execution_count": 88,
          "metadata": {},
          "output_type": "execute_result"
        }
      ],
      "source": [
        "columns_i_want=['LISTPRICE', 'SOLDPRICE']\n",
        "dataset[columns_i_want].head()"
      ]
    },
    {
      "cell_type": "code",
      "execution_count": 89,
      "metadata": {
        "id": "Y6rXc_e_a3p3"
      },
      "outputs": [
        {
          "data": {
            "text/plain": [
              "array(['MF', 'CC', 'SF'], dtype=object)"
            ]
          },
          "execution_count": 89,
          "metadata": {},
          "output_type": "execute_result"
        }
      ],
      "source": [
        "dataset.PROPTYPE.unique()"
      ]
    },
    {
      "cell_type": "code",
      "execution_count": 90,
      "metadata": {
        "id": "t9Pg89iSa3p4"
      },
      "outputs": [
        {
          "data": {
            "text/html": [
              "<div>\n",
              "<style scoped>\n",
              "    .dataframe tbody tr th:only-of-type {\n",
              "        vertical-align: middle;\n",
              "    }\n",
              "\n",
              "    .dataframe tbody tr th {\n",
              "        vertical-align: top;\n",
              "    }\n",
              "\n",
              "    .dataframe thead th {\n",
              "        text-align: right;\n",
              "    }\n",
              "</style>\n",
              "<table border=\"1\" class=\"dataframe\">\n",
              "  <thead>\n",
              "    <tr style=\"text-align: right;\">\n",
              "      <th></th>\n",
              "      <th>MLSNUM</th>\n",
              "      <th>STATUS</th>\n",
              "      <th>LISTPRICE</th>\n",
              "      <th>SOLDPRICE</th>\n",
              "      <th>LISTDATE</th>\n",
              "      <th>SOLDDATE</th>\n",
              "      <th>EXPIREDDATE</th>\n",
              "      <th>DOM</th>\n",
              "      <th>DTO</th>\n",
              "      <th>ADDRESS</th>\n",
              "      <th>...</th>\n",
              "      <th>COOLING</th>\n",
              "      <th>ELEMENTARYSCHOOL</th>\n",
              "      <th>JUNIORHIGHSCHOOL</th>\n",
              "      <th>HIGHSCHOOL</th>\n",
              "      <th>OTHERFEATURES</th>\n",
              "      <th>PROPTYPE</th>\n",
              "      <th>STREETNAME</th>\n",
              "      <th>HOUSENUM1</th>\n",
              "      <th>HOUSENUM2</th>\n",
              "      <th>PHOTOURL</th>\n",
              "    </tr>\n",
              "  </thead>\n",
              "  <tbody>\n",
              "    <tr>\n",
              "      <th>0</th>\n",
              "      <td>72049670</td>\n",
              "      <td>SLD</td>\n",
              "      <td>239900.0</td>\n",
              "      <td>247000.0</td>\n",
              "      <td>8/6/2016</td>\n",
              "      <td>3/1/2018</td>\n",
              "      <td>NaN</td>\n",
              "      <td>295</td>\n",
              "      <td>295</td>\n",
              "      <td>16 Pine St</td>\n",
              "      <td>...</td>\n",
              "      <td>NaN</td>\n",
              "      <td>NaN</td>\n",
              "      <td>NaN</td>\n",
              "      <td>NaN</td>\n",
              "      <td>NaN</td>\n",
              "      <td>MF</td>\n",
              "      <td>Pine St</td>\n",
              "      <td>16</td>\n",
              "      <td>16</td>\n",
              "      <td>http://media.mlspin.com/photo.aspx?mls=72049670</td>\n",
              "    </tr>\n",
              "    <tr>\n",
              "      <th>1</th>\n",
              "      <td>72056522</td>\n",
              "      <td>SLD</td>\n",
              "      <td>338000.0</td>\n",
              "      <td>338000.0</td>\n",
              "      <td>8/22/2016</td>\n",
              "      <td>3/1/2018</td>\n",
              "      <td>NaN</td>\n",
              "      <td>545</td>\n",
              "      <td>515</td>\n",
              "      <td>80 Cherry Drive</td>\n",
              "      <td>...</td>\n",
              "      <td>NaN</td>\n",
              "      <td>NaN</td>\n",
              "      <td>NaN</td>\n",
              "      <td>NaN</td>\n",
              "      <td>Basement:Yes;Fireplaces:1;Roof:Asphalt/Fibergl...</td>\n",
              "      <td>CC</td>\n",
              "      <td>Cherry Drive</td>\n",
              "      <td>80</td>\n",
              "      <td>80</td>\n",
              "      <td>http://media.mlspin.com/photo.aspx?mls=72056522</td>\n",
              "    </tr>\n",
              "  </tbody>\n",
              "</table>\n",
              "<p>2 rows × 38 columns</p>\n",
              "</div>"
            ],
            "text/plain": [
              "     MLSNUM STATUS  LISTPRICE  SOLDPRICE   LISTDATE  SOLDDATE  EXPIREDDATE  \\\n",
              "0  72049670    SLD   239900.0   247000.0   8/6/2016  3/1/2018          NaN   \n",
              "1  72056522    SLD   338000.0   338000.0  8/22/2016  3/1/2018          NaN   \n",
              "\n",
              "   DOM  DTO          ADDRESS  ... COOLING ELEMENTARYSCHOOL  JUNIORHIGHSCHOOL  \\\n",
              "0  295  295       16 Pine St  ...     NaN              NaN               NaN   \n",
              "1  545  515  80 Cherry Drive  ...     NaN              NaN               NaN   \n",
              "\n",
              "  HIGHSCHOOL                                      OTHERFEATURES  PROPTYPE  \\\n",
              "0        NaN                                                NaN        MF   \n",
              "1        NaN  Basement:Yes;Fireplaces:1;Roof:Asphalt/Fibergl...        CC   \n",
              "\n",
              "     STREETNAME  HOUSENUM1  HOUSENUM2  \\\n",
              "0       Pine St         16         16   \n",
              "1  Cherry Drive         80         80   \n",
              "\n",
              "                                          PHOTOURL  \n",
              "0  http://media.mlspin.com/photo.aspx?mls=72049670  \n",
              "1  http://media.mlspin.com/photo.aspx?mls=72056522  \n",
              "\n",
              "[2 rows x 38 columns]"
            ]
          },
          "execution_count": 90,
          "metadata": {},
          "output_type": "execute_result"
        }
      ],
      "source": [
        "dataset.iloc[:2]"
      ]
    },
    {
      "cell_type": "code",
      "execution_count": 91,
      "metadata": {
        "id": "DObgzKnPa3p4"
      },
      "outputs": [
        {
          "data": {
            "text/html": [
              "<div>\n",
              "<style scoped>\n",
              "    .dataframe tbody tr th:only-of-type {\n",
              "        vertical-align: middle;\n",
              "    }\n",
              "\n",
              "    .dataframe tbody tr th {\n",
              "        vertical-align: top;\n",
              "    }\n",
              "\n",
              "    .dataframe thead th {\n",
              "        text-align: right;\n",
              "    }\n",
              "</style>\n",
              "<table border=\"1\" class=\"dataframe\">\n",
              "  <thead>\n",
              "    <tr style=\"text-align: right;\">\n",
              "      <th></th>\n",
              "      <th>MLSNUM</th>\n",
              "      <th>STATUS</th>\n",
              "    </tr>\n",
              "  </thead>\n",
              "  <tbody>\n",
              "    <tr>\n",
              "      <th>0</th>\n",
              "      <td>72049670</td>\n",
              "      <td>SLD</td>\n",
              "    </tr>\n",
              "    <tr>\n",
              "      <th>1</th>\n",
              "      <td>72056522</td>\n",
              "      <td>SLD</td>\n",
              "    </tr>\n",
              "  </tbody>\n",
              "</table>\n",
              "</div>"
            ],
            "text/plain": [
              "     MLSNUM STATUS\n",
              "0  72049670    SLD\n",
              "1  72056522    SLD"
            ]
          },
          "execution_count": 91,
          "metadata": {},
          "output_type": "execute_result"
        }
      ],
      "source": [
        "dataset.iloc[:2, :2]"
      ]
    },
    {
      "cell_type": "code",
      "execution_count": 92,
      "metadata": {
        "id": "5Um1b9hja3p4",
        "scrolled": true
      },
      "outputs": [
        {
          "data": {
            "text/html": [
              "<div>\n",
              "<style scoped>\n",
              "    .dataframe tbody tr th:only-of-type {\n",
              "        vertical-align: middle;\n",
              "    }\n",
              "\n",
              "    .dataframe tbody tr th {\n",
              "        vertical-align: top;\n",
              "    }\n",
              "\n",
              "    .dataframe thead th {\n",
              "        text-align: right;\n",
              "    }\n",
              "</style>\n",
              "<table border=\"1\" class=\"dataframe\">\n",
              "  <thead>\n",
              "    <tr style=\"text-align: right;\">\n",
              "      <th></th>\n",
              "      <th>LISTDATE</th>\n",
              "      <th>SOLDDATE</th>\n",
              "    </tr>\n",
              "  </thead>\n",
              "  <tbody>\n",
              "    <tr>\n",
              "      <th>0</th>\n",
              "      <td>8/6/2016</td>\n",
              "      <td>3/1/2018</td>\n",
              "    </tr>\n",
              "    <tr>\n",
              "      <th>1</th>\n",
              "      <td>8/22/2016</td>\n",
              "      <td>3/1/2018</td>\n",
              "    </tr>\n",
              "    <tr>\n",
              "      <th>2</th>\n",
              "      <td>10/12/2016</td>\n",
              "      <td>3/1/2018</td>\n",
              "    </tr>\n",
              "    <tr>\n",
              "      <th>3</th>\n",
              "      <td>2/14/2017</td>\n",
              "      <td>3/1/2018</td>\n",
              "    </tr>\n",
              "    <tr>\n",
              "      <th>4</th>\n",
              "      <td>2/28/2017</td>\n",
              "      <td>3/1/2018</td>\n",
              "    </tr>\n",
              "  </tbody>\n",
              "</table>\n",
              "</div>"
            ],
            "text/plain": [
              "     LISTDATE  SOLDDATE\n",
              "0    8/6/2016  3/1/2018\n",
              "1   8/22/2016  3/1/2018\n",
              "2  10/12/2016  3/1/2018\n",
              "3   2/14/2017  3/1/2018\n",
              "4   2/28/2017  3/1/2018"
            ]
          },
          "execution_count": 92,
          "metadata": {},
          "output_type": "execute_result"
        }
      ],
      "source": [
        "dataset.iloc[:, 4:6].head()"
      ]
    },
    {
      "cell_type": "code",
      "execution_count": 93,
      "metadata": {
        "id": "tiiUU8Txa3p4",
        "scrolled": true
      },
      "outputs": [
        {
          "data": {
            "text/plain": [
              "0        True\n",
              "1        True\n",
              "2       False\n",
              "3       False\n",
              "4        True\n",
              "        ...  \n",
              "5166     True\n",
              "5167     True\n",
              "5168     True\n",
              "5169     True\n",
              "5170     True\n",
              "Name: SOLDPRICE, Length: 5171, dtype: bool"
            ]
          },
          "execution_count": 93,
          "metadata": {},
          "output_type": "execute_result"
        }
      ],
      "source": [
        "dataset.SOLDPRICE < 1000000"
      ]
    },
    {
      "cell_type": "code",
      "execution_count": 94,
      "metadata": {
        "id": "Lc9h32HKa3p4"
      },
      "outputs": [
        {
          "data": {
            "text/html": [
              "<div>\n",
              "<style scoped>\n",
              "    .dataframe tbody tr th:only-of-type {\n",
              "        vertical-align: middle;\n",
              "    }\n",
              "\n",
              "    .dataframe tbody tr th {\n",
              "        vertical-align: top;\n",
              "    }\n",
              "\n",
              "    .dataframe thead th {\n",
              "        text-align: right;\n",
              "    }\n",
              "</style>\n",
              "<table border=\"1\" class=\"dataframe\">\n",
              "  <thead>\n",
              "    <tr style=\"text-align: right;\">\n",
              "      <th></th>\n",
              "      <th>MLSNUM</th>\n",
              "      <th>STATUS</th>\n",
              "      <th>LISTPRICE</th>\n",
              "      <th>SOLDPRICE</th>\n",
              "      <th>LISTDATE</th>\n",
              "      <th>SOLDDATE</th>\n",
              "      <th>EXPIREDDATE</th>\n",
              "      <th>DOM</th>\n",
              "      <th>DTO</th>\n",
              "      <th>ADDRESS</th>\n",
              "      <th>...</th>\n",
              "      <th>COOLING</th>\n",
              "      <th>ELEMENTARYSCHOOL</th>\n",
              "      <th>JUNIORHIGHSCHOOL</th>\n",
              "      <th>HIGHSCHOOL</th>\n",
              "      <th>OTHERFEATURES</th>\n",
              "      <th>PROPTYPE</th>\n",
              "      <th>STREETNAME</th>\n",
              "      <th>HOUSENUM1</th>\n",
              "      <th>HOUSENUM2</th>\n",
              "      <th>PHOTOURL</th>\n",
              "    </tr>\n",
              "  </thead>\n",
              "  <tbody>\n",
              "    <tr>\n",
              "      <th>0</th>\n",
              "      <td>72049670</td>\n",
              "      <td>SLD</td>\n",
              "      <td>239900.0</td>\n",
              "      <td>247000.0</td>\n",
              "      <td>8/6/2016</td>\n",
              "      <td>3/1/2018</td>\n",
              "      <td>NaN</td>\n",
              "      <td>295</td>\n",
              "      <td>295</td>\n",
              "      <td>16 Pine St</td>\n",
              "      <td>...</td>\n",
              "      <td>NaN</td>\n",
              "      <td>NaN</td>\n",
              "      <td>NaN</td>\n",
              "      <td>NaN</td>\n",
              "      <td>NaN</td>\n",
              "      <td>MF</td>\n",
              "      <td>Pine St</td>\n",
              "      <td>16</td>\n",
              "      <td>16</td>\n",
              "      <td>http://media.mlspin.com/photo.aspx?mls=72049670</td>\n",
              "    </tr>\n",
              "    <tr>\n",
              "      <th>1</th>\n",
              "      <td>72056522</td>\n",
              "      <td>SLD</td>\n",
              "      <td>338000.0</td>\n",
              "      <td>338000.0</td>\n",
              "      <td>8/22/2016</td>\n",
              "      <td>3/1/2018</td>\n",
              "      <td>NaN</td>\n",
              "      <td>545</td>\n",
              "      <td>515</td>\n",
              "      <td>80 Cherry Drive</td>\n",
              "      <td>...</td>\n",
              "      <td>NaN</td>\n",
              "      <td>NaN</td>\n",
              "      <td>NaN</td>\n",
              "      <td>NaN</td>\n",
              "      <td>Basement:Yes;Fireplaces:1;Roof:Asphalt/Fibergl...</td>\n",
              "      <td>CC</td>\n",
              "      <td>Cherry Drive</td>\n",
              "      <td>80</td>\n",
              "      <td>80</td>\n",
              "      <td>http://media.mlspin.com/photo.aspx?mls=72056522</td>\n",
              "    </tr>\n",
              "    <tr>\n",
              "      <th>4</th>\n",
              "      <td>72124101</td>\n",
              "      <td>SLD</td>\n",
              "      <td>525000.0</td>\n",
              "      <td>525000.0</td>\n",
              "      <td>2/28/2017</td>\n",
              "      <td>3/1/2018</td>\n",
              "      <td>NaN</td>\n",
              "      <td>867</td>\n",
              "      <td>287</td>\n",
              "      <td>53 Maple Ridge Rd</td>\n",
              "      <td>...</td>\n",
              "      <td>NaN</td>\n",
              "      <td>NaN</td>\n",
              "      <td>NaN</td>\n",
              "      <td>Northampton</td>\n",
              "      <td>Basement:Yes;Fireplaces:1;Roof:Asphalt/Fibergl...</td>\n",
              "      <td>SF</td>\n",
              "      <td>Maple Ridge Rd</td>\n",
              "      <td>53</td>\n",
              "      <td>53</td>\n",
              "      <td>http://media.mlspin.com/photo.aspx?mls=72124101</td>\n",
              "    </tr>\n",
              "    <tr>\n",
              "      <th>5</th>\n",
              "      <td>72133120</td>\n",
              "      <td>SLD</td>\n",
              "      <td>468000.0</td>\n",
              "      <td>479000.0</td>\n",
              "      <td>3/20/2017</td>\n",
              "      <td>3/1/2018</td>\n",
              "      <td>NaN</td>\n",
              "      <td>273</td>\n",
              "      <td>273</td>\n",
              "      <td>27 Jennings Way</td>\n",
              "      <td>...</td>\n",
              "      <td>NaN</td>\n",
              "      <td>NaN</td>\n",
              "      <td>NaN</td>\n",
              "      <td>NaN</td>\n",
              "      <td>Basement:Yes;Fireplaces:0;Roof:Asphalt/Fibergl...</td>\n",
              "      <td>SF</td>\n",
              "      <td>Jennings Way</td>\n",
              "      <td>27</td>\n",
              "      <td>27</td>\n",
              "      <td>http://media.mlspin.com/photo.aspx?mls=72133120</td>\n",
              "    </tr>\n",
              "    <tr>\n",
              "      <th>6</th>\n",
              "      <td>72148511</td>\n",
              "      <td>SLD</td>\n",
              "      <td>209900.0</td>\n",
              "      <td>176505.0</td>\n",
              "      <td>4/19/2017</td>\n",
              "      <td>3/1/2018</td>\n",
              "      <td>NaN</td>\n",
              "      <td>311</td>\n",
              "      <td>287</td>\n",
              "      <td>26 HATHAWAY STREET</td>\n",
              "      <td>...</td>\n",
              "      <td>NaN</td>\n",
              "      <td>NaN</td>\n",
              "      <td>NaN</td>\n",
              "      <td>NaN</td>\n",
              "      <td>Basement:No;Fireplaces:0;Roof:--;Floor:--;Appl...</td>\n",
              "      <td>SF</td>\n",
              "      <td>HATHAWAY STREET</td>\n",
              "      <td>26</td>\n",
              "      <td>26</td>\n",
              "      <td>http://media.mlspin.com/photo.aspx?mls=72148511</td>\n",
              "    </tr>\n",
              "  </tbody>\n",
              "</table>\n",
              "<p>5 rows × 38 columns</p>\n",
              "</div>"
            ],
            "text/plain": [
              "     MLSNUM STATUS  LISTPRICE  SOLDPRICE   LISTDATE  SOLDDATE  EXPIREDDATE  \\\n",
              "0  72049670    SLD   239900.0   247000.0   8/6/2016  3/1/2018          NaN   \n",
              "1  72056522    SLD   338000.0   338000.0  8/22/2016  3/1/2018          NaN   \n",
              "4  72124101    SLD   525000.0   525000.0  2/28/2017  3/1/2018          NaN   \n",
              "5  72133120    SLD   468000.0   479000.0  3/20/2017  3/1/2018          NaN   \n",
              "6  72148511    SLD   209900.0   176505.0  4/19/2017  3/1/2018          NaN   \n",
              "\n",
              "   DOM  DTO             ADDRESS  ... COOLING ELEMENTARYSCHOOL  \\\n",
              "0  295  295          16 Pine St  ...     NaN              NaN   \n",
              "1  545  515     80 Cherry Drive  ...     NaN              NaN   \n",
              "4  867  287   53 Maple Ridge Rd  ...     NaN              NaN   \n",
              "5  273  273     27 Jennings Way  ...     NaN              NaN   \n",
              "6  311  287  26 HATHAWAY STREET  ...     NaN              NaN   \n",
              "\n",
              "   JUNIORHIGHSCHOOL   HIGHSCHOOL  \\\n",
              "0               NaN          NaN   \n",
              "1               NaN          NaN   \n",
              "4               NaN  Northampton   \n",
              "5               NaN          NaN   \n",
              "6               NaN          NaN   \n",
              "\n",
              "                                       OTHERFEATURES  PROPTYPE  \\\n",
              "0                                                NaN        MF   \n",
              "1  Basement:Yes;Fireplaces:1;Roof:Asphalt/Fibergl...        CC   \n",
              "4  Basement:Yes;Fireplaces:1;Roof:Asphalt/Fibergl...        SF   \n",
              "5  Basement:Yes;Fireplaces:0;Roof:Asphalt/Fibergl...        SF   \n",
              "6  Basement:No;Fireplaces:0;Roof:--;Floor:--;Appl...        SF   \n",
              "\n",
              "        STREETNAME  HOUSENUM1  HOUSENUM2  \\\n",
              "0          Pine St         16         16   \n",
              "1     Cherry Drive         80         80   \n",
              "4   Maple Ridge Rd         53         53   \n",
              "5     Jennings Way         27         27   \n",
              "6  HATHAWAY STREET         26         26   \n",
              "\n",
              "                                          PHOTOURL  \n",
              "0  http://media.mlspin.com/photo.aspx?mls=72049670  \n",
              "1  http://media.mlspin.com/photo.aspx?mls=72056522  \n",
              "4  http://media.mlspin.com/photo.aspx?mls=72124101  \n",
              "5  http://media.mlspin.com/photo.aspx?mls=72133120  \n",
              "6  http://media.mlspin.com/photo.aspx?mls=72148511  \n",
              "\n",
              "[5 rows x 38 columns]"
            ]
          },
          "execution_count": 94,
          "metadata": {},
          "output_type": "execute_result"
        }
      ],
      "source": [
        "dataset[dataset.SOLDPRICE < 1000000].head()"
      ]
    },
    {
      "cell_type": "code",
      "execution_count": 95,
      "metadata": {
        "colab": {
          "base_uri": "https://localhost:8080/",
          "height": 169
        },
        "id": "JHe_1MhIa3p4",
        "outputId": "56f25d86-b301-4e12-cabd-9670901e97e4"
      },
      "outputs": [
        {
          "data": {
            "text/plain": [
              "(2464492263.65, 476598.77463740093)"
            ]
          },
          "execution_count": 95,
          "metadata": {},
          "output_type": "execute_result"
        }
      ],
      "source": [
        "np.sum(dataset.SOLDPRICE), np.mean(dataset.SOLDPRICE)"
      ]
    },
    {
      "cell_type": "code",
      "execution_count": 96,
      "metadata": {
        "colab": {
          "base_uri": "https://localhost:8080/",
          "height": 169
        },
        "id": "ovuLRoUaa3p4",
        "outputId": "d07651be-ba56-4664-8b66-155cf5ddd4d8",
        "scrolled": true
      },
      "outputs": [
        {
          "data": {
            "text/html": [
              "<div>\n",
              "<style scoped>\n",
              "    .dataframe tbody tr th:only-of-type {\n",
              "        vertical-align: middle;\n",
              "    }\n",
              "\n",
              "    .dataframe tbody tr th {\n",
              "        vertical-align: top;\n",
              "    }\n",
              "\n",
              "    .dataframe thead th {\n",
              "        text-align: right;\n",
              "    }\n",
              "</style>\n",
              "<table border=\"1\" class=\"dataframe\">\n",
              "  <thead>\n",
              "    <tr style=\"text-align: right;\">\n",
              "      <th></th>\n",
              "      <th>MLSNUM</th>\n",
              "      <th>STATUS</th>\n",
              "      <th>LISTPRICE</th>\n",
              "      <th>SOLDPRICE</th>\n",
              "      <th>LISTDATE</th>\n",
              "      <th>SOLDDATE</th>\n",
              "      <th>EXPIREDDATE</th>\n",
              "      <th>DOM</th>\n",
              "      <th>DTO</th>\n",
              "      <th>ADDRESS</th>\n",
              "      <th>...</th>\n",
              "      <th>COOLING</th>\n",
              "      <th>ELEMENTARYSCHOOL</th>\n",
              "      <th>JUNIORHIGHSCHOOL</th>\n",
              "      <th>HIGHSCHOOL</th>\n",
              "      <th>OTHERFEATURES</th>\n",
              "      <th>PROPTYPE</th>\n",
              "      <th>STREETNAME</th>\n",
              "      <th>HOUSENUM1</th>\n",
              "      <th>HOUSENUM2</th>\n",
              "      <th>PHOTOURL</th>\n",
              "    </tr>\n",
              "  </thead>\n",
              "  <tbody>\n",
              "    <tr>\n",
              "      <th>4</th>\n",
              "      <td>72124101</td>\n",
              "      <td>SLD</td>\n",
              "      <td>525000.0</td>\n",
              "      <td>525000.0</td>\n",
              "      <td>2/28/2017</td>\n",
              "      <td>3/1/2018</td>\n",
              "      <td>NaN</td>\n",
              "      <td>867</td>\n",
              "      <td>287</td>\n",
              "      <td>53 Maple Ridge Rd</td>\n",
              "      <td>...</td>\n",
              "      <td>NaN</td>\n",
              "      <td>NaN</td>\n",
              "      <td>NaN</td>\n",
              "      <td>Northampton</td>\n",
              "      <td>Basement:Yes;Fireplaces:1;Roof:Asphalt/Fibergl...</td>\n",
              "      <td>SF</td>\n",
              "      <td>Maple Ridge Rd</td>\n",
              "      <td>53</td>\n",
              "      <td>53</td>\n",
              "      <td>http://media.mlspin.com/photo.aspx?mls=72124101</td>\n",
              "    </tr>\n",
              "    <tr>\n",
              "      <th>5</th>\n",
              "      <td>72133120</td>\n",
              "      <td>SLD</td>\n",
              "      <td>468000.0</td>\n",
              "      <td>479000.0</td>\n",
              "      <td>3/20/2017</td>\n",
              "      <td>3/1/2018</td>\n",
              "      <td>NaN</td>\n",
              "      <td>273</td>\n",
              "      <td>273</td>\n",
              "      <td>27 Jennings Way</td>\n",
              "      <td>...</td>\n",
              "      <td>NaN</td>\n",
              "      <td>NaN</td>\n",
              "      <td>NaN</td>\n",
              "      <td>NaN</td>\n",
              "      <td>Basement:Yes;Fireplaces:0;Roof:Asphalt/Fibergl...</td>\n",
              "      <td>SF</td>\n",
              "      <td>Jennings Way</td>\n",
              "      <td>27</td>\n",
              "      <td>27</td>\n",
              "      <td>http://media.mlspin.com/photo.aspx?mls=72133120</td>\n",
              "    </tr>\n",
              "    <tr>\n",
              "      <th>6</th>\n",
              "      <td>72148511</td>\n",
              "      <td>SLD</td>\n",
              "      <td>209900.0</td>\n",
              "      <td>176505.0</td>\n",
              "      <td>4/19/2017</td>\n",
              "      <td>3/1/2018</td>\n",
              "      <td>NaN</td>\n",
              "      <td>311</td>\n",
              "      <td>287</td>\n",
              "      <td>26 HATHAWAY STREET</td>\n",
              "      <td>...</td>\n",
              "      <td>NaN</td>\n",
              "      <td>NaN</td>\n",
              "      <td>NaN</td>\n",
              "      <td>NaN</td>\n",
              "      <td>Basement:No;Fireplaces:0;Roof:--;Floor:--;Appl...</td>\n",
              "      <td>SF</td>\n",
              "      <td>HATHAWAY STREET</td>\n",
              "      <td>26</td>\n",
              "      <td>26</td>\n",
              "      <td>http://media.mlspin.com/photo.aspx?mls=72148511</td>\n",
              "    </tr>\n",
              "    <tr>\n",
              "      <th>7</th>\n",
              "      <td>72153413</td>\n",
              "      <td>SLD</td>\n",
              "      <td>549900.0</td>\n",
              "      <td>530000.0</td>\n",
              "      <td>4/26/2017</td>\n",
              "      <td>3/1/2018</td>\n",
              "      <td>NaN</td>\n",
              "      <td>261</td>\n",
              "      <td>261</td>\n",
              "      <td>9 Sheffield Place</td>\n",
              "      <td>...</td>\n",
              "      <td>NaN</td>\n",
              "      <td>NaN</td>\n",
              "      <td>NaN</td>\n",
              "      <td>NaN</td>\n",
              "      <td>Basement:Yes;Fireplaces:1;Roof:Asphalt/Fibergl...</td>\n",
              "      <td>SF</td>\n",
              "      <td>Sheffield Place</td>\n",
              "      <td>9</td>\n",
              "      <td>9</td>\n",
              "      <td>http://media.mlspin.com/photo.aspx?mls=72153413</td>\n",
              "    </tr>\n",
              "    <tr>\n",
              "      <th>9</th>\n",
              "      <td>72166889</td>\n",
              "      <td>SLD</td>\n",
              "      <td>130000.0</td>\n",
              "      <td>130000.0</td>\n",
              "      <td>5/16/2017</td>\n",
              "      <td>3/1/2018</td>\n",
              "      <td>NaN</td>\n",
              "      <td>185</td>\n",
              "      <td>185</td>\n",
              "      <td>88 Marcelle St</td>\n",
              "      <td>...</td>\n",
              "      <td>NaN</td>\n",
              "      <td>NaN</td>\n",
              "      <td>NaN</td>\n",
              "      <td>NaN</td>\n",
              "      <td>Basement:Yes;Fireplaces:0;Roof:Asphalt/Fibergl...</td>\n",
              "      <td>SF</td>\n",
              "      <td>Marcelle St</td>\n",
              "      <td>88</td>\n",
              "      <td>88</td>\n",
              "      <td>http://media.mlspin.com/photo.aspx?mls=72166889</td>\n",
              "    </tr>\n",
              "    <tr>\n",
              "      <th>...</th>\n",
              "      <td>...</td>\n",
              "      <td>...</td>\n",
              "      <td>...</td>\n",
              "      <td>...</td>\n",
              "      <td>...</td>\n",
              "      <td>...</td>\n",
              "      <td>...</td>\n",
              "      <td>...</td>\n",
              "      <td>...</td>\n",
              "      <td>...</td>\n",
              "      <td>...</td>\n",
              "      <td>...</td>\n",
              "      <td>...</td>\n",
              "      <td>...</td>\n",
              "      <td>...</td>\n",
              "      <td>...</td>\n",
              "      <td>...</td>\n",
              "      <td>...</td>\n",
              "      <td>...</td>\n",
              "      <td>...</td>\n",
              "      <td>...</td>\n",
              "    </tr>\n",
              "    <tr>\n",
              "      <th>5166</th>\n",
              "      <td>72297021</td>\n",
              "      <td>SLD</td>\n",
              "      <td>549860.0</td>\n",
              "      <td>549860.0</td>\n",
              "      <td>3/21/2018</td>\n",
              "      <td>3/28/2018</td>\n",
              "      <td>NaN</td>\n",
              "      <td>1</td>\n",
              "      <td>1</td>\n",
              "      <td>55 Goldfinch Drive</td>\n",
              "      <td>...</td>\n",
              "      <td>NaN</td>\n",
              "      <td>NaN</td>\n",
              "      <td>NaN</td>\n",
              "      <td>NaN</td>\n",
              "      <td>Basement:Yes;Fireplaces:1;Roof:--;Floor:--;App...</td>\n",
              "      <td>SF</td>\n",
              "      <td>Goldfinch Drive</td>\n",
              "      <td>55</td>\n",
              "      <td>55</td>\n",
              "      <td>http://media.mlspin.com/photo.aspx?mls=72297021</td>\n",
              "    </tr>\n",
              "    <tr>\n",
              "      <th>5167</th>\n",
              "      <td>72298565</td>\n",
              "      <td>SLD</td>\n",
              "      <td>97500.0</td>\n",
              "      <td>135000.0</td>\n",
              "      <td>3/26/2018</td>\n",
              "      <td>3/28/2018</td>\n",
              "      <td>NaN</td>\n",
              "      <td>0</td>\n",
              "      <td>0</td>\n",
              "      <td>15 Wood Path</td>\n",
              "      <td>...</td>\n",
              "      <td>NaN</td>\n",
              "      <td>J.R. Briggs</td>\n",
              "      <td>Overlook</td>\n",
              "      <td>Oakmont</td>\n",
              "      <td>Basement:Yes;Fireplaces:0;Roof:Asphalt/Fibergl...</td>\n",
              "      <td>SF</td>\n",
              "      <td>Wood Path</td>\n",
              "      <td>15</td>\n",
              "      <td>15</td>\n",
              "      <td>http://media.mlspin.com/photo.aspx?mls=72298565</td>\n",
              "    </tr>\n",
              "    <tr>\n",
              "      <th>5168</th>\n",
              "      <td>72298853</td>\n",
              "      <td>SLD</td>\n",
              "      <td>675000.0</td>\n",
              "      <td>616500.0</td>\n",
              "      <td>3/27/2018</td>\n",
              "      <td>3/30/2018</td>\n",
              "      <td>NaN</td>\n",
              "      <td>2</td>\n",
              "      <td>2</td>\n",
              "      <td>373 Bay Lane</td>\n",
              "      <td>...</td>\n",
              "      <td>NaN</td>\n",
              "      <td>NaN</td>\n",
              "      <td>NaN</td>\n",
              "      <td>NaN</td>\n",
              "      <td>Basement:Yes;Fireplaces:1;Roof:Asphalt/Fibergl...</td>\n",
              "      <td>SF</td>\n",
              "      <td>Bay Lane</td>\n",
              "      <td>373</td>\n",
              "      <td>373</td>\n",
              "      <td>http://media.mlspin.com/photo.aspx?mls=72298853</td>\n",
              "    </tr>\n",
              "    <tr>\n",
              "      <th>5169</th>\n",
              "      <td>72299954</td>\n",
              "      <td>SLD</td>\n",
              "      <td>369900.0</td>\n",
              "      <td>369000.0</td>\n",
              "      <td>3/22/2018</td>\n",
              "      <td>3/29/2018</td>\n",
              "      <td>NaN</td>\n",
              "      <td>7</td>\n",
              "      <td>4</td>\n",
              "      <td>17 Rounsevell Dr</td>\n",
              "      <td>...</td>\n",
              "      <td>NaN</td>\n",
              "      <td>NaN</td>\n",
              "      <td>NaN</td>\n",
              "      <td>NaN</td>\n",
              "      <td>Basement:Yes;Fireplaces:1;Roof:Asphalt/Fibergl...</td>\n",
              "      <td>SF</td>\n",
              "      <td>Rounsevell Dr</td>\n",
              "      <td>17</td>\n",
              "      <td>17</td>\n",
              "      <td>http://media.mlspin.com/photo.aspx?mls=72299954</td>\n",
              "    </tr>\n",
              "    <tr>\n",
              "      <th>5170</th>\n",
              "      <td>72301673</td>\n",
              "      <td>SLD</td>\n",
              "      <td>459800.0</td>\n",
              "      <td>455000.0</td>\n",
              "      <td>3/29/2018</td>\n",
              "      <td>3/30/2018</td>\n",
              "      <td>NaN</td>\n",
              "      <td>5</td>\n",
              "      <td>0</td>\n",
              "      <td>17 Pondview Rd</td>\n",
              "      <td>...</td>\n",
              "      <td>NaN</td>\n",
              "      <td>NaN</td>\n",
              "      <td>NaN</td>\n",
              "      <td>NaN</td>\n",
              "      <td>Basement:Yes;Fireplaces:1;Roof:Asphalt/Fibergl...</td>\n",
              "      <td>SF</td>\n",
              "      <td>Pondview Rd</td>\n",
              "      <td>17</td>\n",
              "      <td>17</td>\n",
              "      <td>http://media.mlspin.com/photo.aspx?mls=72301673</td>\n",
              "    </tr>\n",
              "  </tbody>\n",
              "</table>\n",
              "<p>3073 rows × 38 columns</p>\n",
              "</div>"
            ],
            "text/plain": [
              "        MLSNUM STATUS  LISTPRICE  SOLDPRICE   LISTDATE   SOLDDATE  \\\n",
              "4     72124101    SLD   525000.0   525000.0  2/28/2017   3/1/2018   \n",
              "5     72133120    SLD   468000.0   479000.0  3/20/2017   3/1/2018   \n",
              "6     72148511    SLD   209900.0   176505.0  4/19/2017   3/1/2018   \n",
              "7     72153413    SLD   549900.0   530000.0  4/26/2017   3/1/2018   \n",
              "9     72166889    SLD   130000.0   130000.0  5/16/2017   3/1/2018   \n",
              "...        ...    ...        ...        ...        ...        ...   \n",
              "5166  72297021    SLD   549860.0   549860.0  3/21/2018  3/28/2018   \n",
              "5167  72298565    SLD    97500.0   135000.0  3/26/2018  3/28/2018   \n",
              "5168  72298853    SLD   675000.0   616500.0  3/27/2018  3/30/2018   \n",
              "5169  72299954    SLD   369900.0   369000.0  3/22/2018  3/29/2018   \n",
              "5170  72301673    SLD   459800.0   455000.0  3/29/2018  3/30/2018   \n",
              "\n",
              "      EXPIREDDATE  DOM  DTO             ADDRESS  ... COOLING ELEMENTARYSCHOOL  \\\n",
              "4             NaN  867  287   53 Maple Ridge Rd  ...     NaN              NaN   \n",
              "5             NaN  273  273     27 Jennings Way  ...     NaN              NaN   \n",
              "6             NaN  311  287  26 HATHAWAY STREET  ...     NaN              NaN   \n",
              "7             NaN  261  261   9 Sheffield Place  ...     NaN              NaN   \n",
              "9             NaN  185  185      88 Marcelle St  ...     NaN              NaN   \n",
              "...           ...  ...  ...                 ...  ...     ...              ...   \n",
              "5166          NaN    1    1  55 Goldfinch Drive  ...     NaN              NaN   \n",
              "5167          NaN    0    0        15 Wood Path  ...     NaN      J.R. Briggs   \n",
              "5168          NaN    2    2        373 Bay Lane  ...     NaN              NaN   \n",
              "5169          NaN    7    4    17 Rounsevell Dr  ...     NaN              NaN   \n",
              "5170          NaN    5    0      17 Pondview Rd  ...     NaN              NaN   \n",
              "\n",
              "      JUNIORHIGHSCHOOL   HIGHSCHOOL  \\\n",
              "4                  NaN  Northampton   \n",
              "5                  NaN          NaN   \n",
              "6                  NaN          NaN   \n",
              "7                  NaN          NaN   \n",
              "9                  NaN          NaN   \n",
              "...                ...          ...   \n",
              "5166               NaN          NaN   \n",
              "5167          Overlook      Oakmont   \n",
              "5168               NaN          NaN   \n",
              "5169               NaN          NaN   \n",
              "5170               NaN          NaN   \n",
              "\n",
              "                                          OTHERFEATURES  PROPTYPE  \\\n",
              "4     Basement:Yes;Fireplaces:1;Roof:Asphalt/Fibergl...        SF   \n",
              "5     Basement:Yes;Fireplaces:0;Roof:Asphalt/Fibergl...        SF   \n",
              "6     Basement:No;Fireplaces:0;Roof:--;Floor:--;Appl...        SF   \n",
              "7     Basement:Yes;Fireplaces:1;Roof:Asphalt/Fibergl...        SF   \n",
              "9     Basement:Yes;Fireplaces:0;Roof:Asphalt/Fibergl...        SF   \n",
              "...                                                 ...       ...   \n",
              "5166  Basement:Yes;Fireplaces:1;Roof:--;Floor:--;App...        SF   \n",
              "5167  Basement:Yes;Fireplaces:0;Roof:Asphalt/Fibergl...        SF   \n",
              "5168  Basement:Yes;Fireplaces:1;Roof:Asphalt/Fibergl...        SF   \n",
              "5169  Basement:Yes;Fireplaces:1;Roof:Asphalt/Fibergl...        SF   \n",
              "5170  Basement:Yes;Fireplaces:1;Roof:Asphalt/Fibergl...        SF   \n",
              "\n",
              "           STREETNAME  HOUSENUM1  HOUSENUM2  \\\n",
              "4      Maple Ridge Rd         53         53   \n",
              "5        Jennings Way         27         27   \n",
              "6     HATHAWAY STREET         26         26   \n",
              "7     Sheffield Place          9          9   \n",
              "9         Marcelle St         88         88   \n",
              "...               ...        ...        ...   \n",
              "5166  Goldfinch Drive         55         55   \n",
              "5167        Wood Path         15         15   \n",
              "5168         Bay Lane        373        373   \n",
              "5169    Rounsevell Dr         17         17   \n",
              "5170      Pondview Rd         17         17   \n",
              "\n",
              "                                             PHOTOURL  \n",
              "4     http://media.mlspin.com/photo.aspx?mls=72124101  \n",
              "5     http://media.mlspin.com/photo.aspx?mls=72133120  \n",
              "6     http://media.mlspin.com/photo.aspx?mls=72148511  \n",
              "7     http://media.mlspin.com/photo.aspx?mls=72153413  \n",
              "9     http://media.mlspin.com/photo.aspx?mls=72166889  \n",
              "...                                               ...  \n",
              "5166  http://media.mlspin.com/photo.aspx?mls=72297021  \n",
              "5167  http://media.mlspin.com/photo.aspx?mls=72298565  \n",
              "5168  http://media.mlspin.com/photo.aspx?mls=72298853  \n",
              "5169  http://media.mlspin.com/photo.aspx?mls=72299954  \n",
              "5170  http://media.mlspin.com/photo.aspx?mls=72301673  \n",
              "\n",
              "[3073 rows x 38 columns]"
            ]
          },
          "execution_count": 96,
          "metadata": {},
          "output_type": "execute_result"
        }
      ],
      "source": [
        "dataset[(dataset.SOLDPRICE < 1000000) & (dataset.PROPTYPE == \"SF\")]"
      ]
    },
    {
      "cell_type": "code",
      "execution_count": 97,
      "metadata": {
        "id": "E31MYRB2a3p4"
      },
      "outputs": [
        {
          "data": {
            "text/html": [
              "<div>\n",
              "<style scoped>\n",
              "    .dataframe tbody tr th:only-of-type {\n",
              "        vertical-align: middle;\n",
              "    }\n",
              "\n",
              "    .dataframe tbody tr th {\n",
              "        vertical-align: top;\n",
              "    }\n",
              "\n",
              "    .dataframe thead th {\n",
              "        text-align: right;\n",
              "    }\n",
              "</style>\n",
              "<table border=\"1\" class=\"dataframe\">\n",
              "  <thead>\n",
              "    <tr style=\"text-align: right;\">\n",
              "      <th></th>\n",
              "      <th>MLSNUM</th>\n",
              "      <th>LISTPRICE</th>\n",
              "      <th>SOLDPRICE</th>\n",
              "      <th>EXPIREDDATE</th>\n",
              "      <th>DOM</th>\n",
              "      <th>DTO</th>\n",
              "      <th>ZIP</th>\n",
              "      <th>BEDS</th>\n",
              "      <th>BATHS</th>\n",
              "      <th>SQFT</th>\n",
              "      <th>AGE</th>\n",
              "      <th>LOTSIZE</th>\n",
              "      <th>GARAGE</th>\n",
              "      <th>COOLING</th>\n",
              "    </tr>\n",
              "  </thead>\n",
              "  <tbody>\n",
              "    <tr>\n",
              "      <th>count</th>\n",
              "      <td>5.171000e+03</td>\n",
              "      <td>5.171000e+03</td>\n",
              "      <td>5.171000e+03</td>\n",
              "      <td>0.0</td>\n",
              "      <td>5171.000000</td>\n",
              "      <td>5171.000000</td>\n",
              "      <td>5171.000000</td>\n",
              "      <td>5171.000000</td>\n",
              "      <td>5171.000000</td>\n",
              "      <td>5171.000000</td>\n",
              "      <td>5171.000000</td>\n",
              "      <td>4.064000e+03</td>\n",
              "      <td>5171.000000</td>\n",
              "      <td>0.0</td>\n",
              "    </tr>\n",
              "    <tr>\n",
              "      <th>mean</th>\n",
              "      <td>7.225305e+07</td>\n",
              "      <td>4.807745e+05</td>\n",
              "      <td>4.765988e+05</td>\n",
              "      <td>NaN</td>\n",
              "      <td>69.591762</td>\n",
              "      <td>48.977374</td>\n",
              "      <td>2062.584220</td>\n",
              "      <td>3.253336</td>\n",
              "      <td>2.031038</td>\n",
              "      <td>1883.277703</td>\n",
              "      <td>62.156256</td>\n",
              "      <td>4.236467e+04</td>\n",
              "      <td>0.865597</td>\n",
              "      <td>NaN</td>\n",
              "    </tr>\n",
              "    <tr>\n",
              "      <th>std</th>\n",
              "      <td>4.473714e+04</td>\n",
              "      <td>4.945971e+05</td>\n",
              "      <td>5.016361e+05</td>\n",
              "      <td>NaN</td>\n",
              "      <td>92.763384</td>\n",
              "      <td>68.484702</td>\n",
              "      <td>1119.135051</td>\n",
              "      <td>1.604884</td>\n",
              "      <td>1.050722</td>\n",
              "      <td>1038.769455</td>\n",
              "      <td>54.095052</td>\n",
              "      <td>3.790374e+05</td>\n",
              "      <td>0.985542</td>\n",
              "      <td>NaN</td>\n",
              "    </tr>\n",
              "    <tr>\n",
              "      <th>min</th>\n",
              "      <td>7.115216e+07</td>\n",
              "      <td>1.990000e+04</td>\n",
              "      <td>2.300000e+04</td>\n",
              "      <td>NaN</td>\n",
              "      <td>0.000000</td>\n",
              "      <td>0.000000</td>\n",
              "      <td>101.000000</td>\n",
              "      <td>0.000000</td>\n",
              "      <td>0.000000</td>\n",
              "      <td>0.000000</td>\n",
              "      <td>0.000000</td>\n",
              "      <td>0.000000e+00</td>\n",
              "      <td>0.000000</td>\n",
              "      <td>NaN</td>\n",
              "    </tr>\n",
              "    <tr>\n",
              "      <th>25%</th>\n",
              "      <td>7.224754e+07</td>\n",
              "      <td>2.499000e+05</td>\n",
              "      <td>2.450000e+05</td>\n",
              "      <td>NaN</td>\n",
              "      <td>18.000000</td>\n",
              "      <td>6.000000</td>\n",
              "      <td>1747.000000</td>\n",
              "      <td>2.000000</td>\n",
              "      <td>1.500000</td>\n",
              "      <td>1191.000000</td>\n",
              "      <td>27.000000</td>\n",
              "      <td>6.000000e+03</td>\n",
              "      <td>0.000000</td>\n",
              "      <td>NaN</td>\n",
              "    </tr>\n",
              "    <tr>\n",
              "      <th>50%</th>\n",
              "      <td>7.226724e+07</td>\n",
              "      <td>3.748000e+05</td>\n",
              "      <td>3.700000e+05</td>\n",
              "      <td>NaN</td>\n",
              "      <td>35.000000</td>\n",
              "      <td>20.000000</td>\n",
              "      <td>2048.000000</td>\n",
              "      <td>3.000000</td>\n",
              "      <td>2.000000</td>\n",
              "      <td>1638.000000</td>\n",
              "      <td>54.000000</td>\n",
              "      <td>1.174600e+04</td>\n",
              "      <td>1.000000</td>\n",
              "      <td>NaN</td>\n",
              "    </tr>\n",
              "    <tr>\n",
              "      <th>75%</th>\n",
              "      <td>7.227533e+07</td>\n",
              "      <td>5.499000e+05</td>\n",
              "      <td>5.515000e+05</td>\n",
              "      <td>NaN</td>\n",
              "      <td>94.000000</td>\n",
              "      <td>73.000000</td>\n",
              "      <td>2360.000000</td>\n",
              "      <td>4.000000</td>\n",
              "      <td>2.500000</td>\n",
              "      <td>2300.000000</td>\n",
              "      <td>98.000000</td>\n",
              "      <td>2.570625e+04</td>\n",
              "      <td>2.000000</td>\n",
              "      <td>NaN</td>\n",
              "    </tr>\n",
              "    <tr>\n",
              "      <th>max</th>\n",
              "      <td>7.230167e+07</td>\n",
              "      <td>1.050000e+07</td>\n",
              "      <td>1.511000e+07</td>\n",
              "      <td>NaN</td>\n",
              "      <td>1562.000000</td>\n",
              "      <td>938.000000</td>\n",
              "      <td>34452.000000</td>\n",
              "      <td>32.000000</td>\n",
              "      <td>32.000000</td>\n",
              "      <td>11200.000000</td>\n",
              "      <td>1863.000000</td>\n",
              "      <td>1.868724e+07</td>\n",
              "      <td>9.000000</td>\n",
              "      <td>NaN</td>\n",
              "    </tr>\n",
              "  </tbody>\n",
              "</table>\n",
              "</div>"
            ],
            "text/plain": [
              "             MLSNUM     LISTPRICE     SOLDPRICE  EXPIREDDATE          DOM  \\\n",
              "count  5.171000e+03  5.171000e+03  5.171000e+03          0.0  5171.000000   \n",
              "mean   7.225305e+07  4.807745e+05  4.765988e+05          NaN    69.591762   \n",
              "std    4.473714e+04  4.945971e+05  5.016361e+05          NaN    92.763384   \n",
              "min    7.115216e+07  1.990000e+04  2.300000e+04          NaN     0.000000   \n",
              "25%    7.224754e+07  2.499000e+05  2.450000e+05          NaN    18.000000   \n",
              "50%    7.226724e+07  3.748000e+05  3.700000e+05          NaN    35.000000   \n",
              "75%    7.227533e+07  5.499000e+05  5.515000e+05          NaN    94.000000   \n",
              "max    7.230167e+07  1.050000e+07  1.511000e+07          NaN  1562.000000   \n",
              "\n",
              "               DTO           ZIP         BEDS        BATHS          SQFT  \\\n",
              "count  5171.000000   5171.000000  5171.000000  5171.000000   5171.000000   \n",
              "mean     48.977374   2062.584220     3.253336     2.031038   1883.277703   \n",
              "std      68.484702   1119.135051     1.604884     1.050722   1038.769455   \n",
              "min       0.000000    101.000000     0.000000     0.000000      0.000000   \n",
              "25%       6.000000   1747.000000     2.000000     1.500000   1191.000000   \n",
              "50%      20.000000   2048.000000     3.000000     2.000000   1638.000000   \n",
              "75%      73.000000   2360.000000     4.000000     2.500000   2300.000000   \n",
              "max     938.000000  34452.000000    32.000000    32.000000  11200.000000   \n",
              "\n",
              "               AGE       LOTSIZE       GARAGE  COOLING  \n",
              "count  5171.000000  4.064000e+03  5171.000000      0.0  \n",
              "mean     62.156256  4.236467e+04     0.865597      NaN  \n",
              "std      54.095052  3.790374e+05     0.985542      NaN  \n",
              "min       0.000000  0.000000e+00     0.000000      NaN  \n",
              "25%      27.000000  6.000000e+03     0.000000      NaN  \n",
              "50%      54.000000  1.174600e+04     1.000000      NaN  \n",
              "75%      98.000000  2.570625e+04     2.000000      NaN  \n",
              "max    1863.000000  1.868724e+07     9.000000      NaN  "
            ]
          },
          "execution_count": 97,
          "metadata": {},
          "output_type": "execute_result"
        }
      ],
      "source": [
        "dataset.describe()"
      ]
    },
    {
      "cell_type": "code",
      "execution_count": 98,
      "metadata": {
        "id": "A1YJNK6Ga3p5"
      },
      "outputs": [
        {
          "data": {
            "text/plain": [
              "<pandas.core.groupby.generic.DataFrameGroupBy object at 0x0000017C5598BA90>"
            ]
          },
          "execution_count": 98,
          "metadata": {},
          "output_type": "execute_result"
        }
      ],
      "source": [
        "grouped_by_type = dataset.groupby(\"PROPTYPE\")\n",
        "grouped_by_type"
      ]
    },
    {
      "cell_type": "code",
      "execution_count": 99,
      "metadata": {
        "colab": {
          "base_uri": "https://localhost:8080/",
          "height": 169
        },
        "id": "6abrn5cJa3p5",
        "outputId": "7f89b8d5-6b3f-4a1e-de1f-40e09dc610ab"
      },
      "outputs": [
        {
          "data": {
            "text/html": [
              "<div>\n",
              "<style scoped>\n",
              "    .dataframe tbody tr th:only-of-type {\n",
              "        vertical-align: middle;\n",
              "    }\n",
              "\n",
              "    .dataframe tbody tr th {\n",
              "        vertical-align: top;\n",
              "    }\n",
              "\n",
              "    .dataframe thead tr th {\n",
              "        text-align: left;\n",
              "    }\n",
              "\n",
              "    .dataframe thead tr:last-of-type th {\n",
              "        text-align: right;\n",
              "    }\n",
              "</style>\n",
              "<table border=\"1\" class=\"dataframe\">\n",
              "  <thead>\n",
              "    <tr>\n",
              "      <th></th>\n",
              "      <th colspan=\"8\" halign=\"left\">MLSNUM</th>\n",
              "      <th colspan=\"2\" halign=\"left\">LISTPRICE</th>\n",
              "      <th>...</th>\n",
              "      <th colspan=\"2\" halign=\"left\">GARAGE</th>\n",
              "      <th colspan=\"8\" halign=\"left\">COOLING</th>\n",
              "    </tr>\n",
              "    <tr>\n",
              "      <th></th>\n",
              "      <th>count</th>\n",
              "      <th>mean</th>\n",
              "      <th>std</th>\n",
              "      <th>min</th>\n",
              "      <th>25%</th>\n",
              "      <th>50%</th>\n",
              "      <th>75%</th>\n",
              "      <th>max</th>\n",
              "      <th>count</th>\n",
              "      <th>mean</th>\n",
              "      <th>...</th>\n",
              "      <th>75%</th>\n",
              "      <th>max</th>\n",
              "      <th>count</th>\n",
              "      <th>mean</th>\n",
              "      <th>std</th>\n",
              "      <th>min</th>\n",
              "      <th>25%</th>\n",
              "      <th>50%</th>\n",
              "      <th>75%</th>\n",
              "      <th>max</th>\n",
              "    </tr>\n",
              "    <tr>\n",
              "      <th>PROPTYPE</th>\n",
              "      <th></th>\n",
              "      <th></th>\n",
              "      <th></th>\n",
              "      <th></th>\n",
              "      <th></th>\n",
              "      <th></th>\n",
              "      <th></th>\n",
              "      <th></th>\n",
              "      <th></th>\n",
              "      <th></th>\n",
              "      <th></th>\n",
              "      <th></th>\n",
              "      <th></th>\n",
              "      <th></th>\n",
              "      <th></th>\n",
              "      <th></th>\n",
              "      <th></th>\n",
              "      <th></th>\n",
              "      <th></th>\n",
              "      <th></th>\n",
              "      <th></th>\n",
              "    </tr>\n",
              "  </thead>\n",
              "  <tbody>\n",
              "    <tr>\n",
              "      <th>CC</th>\n",
              "      <td>1444.0</td>\n",
              "      <td>7.225364e+07</td>\n",
              "      <td>45088.556068</td>\n",
              "      <td>71836809.0</td>\n",
              "      <td>72251477.0</td>\n",
              "      <td>72270354.0</td>\n",
              "      <td>72277153.75</td>\n",
              "      <td>72296323.0</td>\n",
              "      <td>1444.0</td>\n",
              "      <td>512072.209661</td>\n",
              "      <td>...</td>\n",
              "      <td>1.0</td>\n",
              "      <td>2.0</td>\n",
              "      <td>0.0</td>\n",
              "      <td>NaN</td>\n",
              "      <td>NaN</td>\n",
              "      <td>NaN</td>\n",
              "      <td>NaN</td>\n",
              "      <td>NaN</td>\n",
              "      <td>NaN</td>\n",
              "      <td>NaN</td>\n",
              "    </tr>\n",
              "    <tr>\n",
              "      <th>MF</th>\n",
              "      <td>484.0</td>\n",
              "      <td>7.225119e+07</td>\n",
              "      <td>47702.020613</td>\n",
              "      <td>71888962.0</td>\n",
              "      <td>72246695.0</td>\n",
              "      <td>72266094.5</td>\n",
              "      <td>72274428.25</td>\n",
              "      <td>72294677.0</td>\n",
              "      <td>484.0</td>\n",
              "      <td>498397.169421</td>\n",
              "      <td>...</td>\n",
              "      <td>1.0</td>\n",
              "      <td>7.0</td>\n",
              "      <td>0.0</td>\n",
              "      <td>NaN</td>\n",
              "      <td>NaN</td>\n",
              "      <td>NaN</td>\n",
              "      <td>NaN</td>\n",
              "      <td>NaN</td>\n",
              "      <td>NaN</td>\n",
              "      <td>NaN</td>\n",
              "    </tr>\n",
              "    <tr>\n",
              "      <th>SF</th>\n",
              "      <td>3243.0</td>\n",
              "      <td>7.225306e+07</td>\n",
              "      <td>44125.890963</td>\n",
              "      <td>71152163.0</td>\n",
              "      <td>72246143.5</td>\n",
              "      <td>72265821.0</td>\n",
              "      <td>72274353.00</td>\n",
              "      <td>72301673.0</td>\n",
              "      <td>3243.0</td>\n",
              "      <td>464208.570802</td>\n",
              "      <td>...</td>\n",
              "      <td>2.0</td>\n",
              "      <td>9.0</td>\n",
              "      <td>0.0</td>\n",
              "      <td>NaN</td>\n",
              "      <td>NaN</td>\n",
              "      <td>NaN</td>\n",
              "      <td>NaN</td>\n",
              "      <td>NaN</td>\n",
              "      <td>NaN</td>\n",
              "      <td>NaN</td>\n",
              "    </tr>\n",
              "  </tbody>\n",
              "</table>\n",
              "<p>3 rows × 112 columns</p>\n",
              "</div>"
            ],
            "text/plain": [
              "          MLSNUM                                                      \\\n",
              "           count          mean           std         min         25%   \n",
              "PROPTYPE                                                               \n",
              "CC        1444.0  7.225364e+07  45088.556068  71836809.0  72251477.0   \n",
              "MF         484.0  7.225119e+07  47702.020613  71888962.0  72246695.0   \n",
              "SF        3243.0  7.225306e+07  44125.890963  71152163.0  72246143.5   \n",
              "\n",
              "                                              LISTPRICE                 ...  \\\n",
              "                 50%          75%         max     count           mean  ...   \n",
              "PROPTYPE                                                                ...   \n",
              "CC        72270354.0  72277153.75  72296323.0    1444.0  512072.209661  ...   \n",
              "MF        72266094.5  72274428.25  72294677.0     484.0  498397.169421  ...   \n",
              "SF        72265821.0  72274353.00  72301673.0    3243.0  464208.570802  ...   \n",
              "\n",
              "         GARAGE      COOLING                               \n",
              "            75%  max   count mean std min 25% 50% 75% max  \n",
              "PROPTYPE                                                   \n",
              "CC          1.0  2.0     0.0  NaN NaN NaN NaN NaN NaN NaN  \n",
              "MF          1.0  7.0     0.0  NaN NaN NaN NaN NaN NaN NaN  \n",
              "SF          2.0  9.0     0.0  NaN NaN NaN NaN NaN NaN NaN  \n",
              "\n",
              "[3 rows x 112 columns]"
            ]
          },
          "execution_count": 99,
          "metadata": {},
          "output_type": "execute_result"
        }
      ],
      "source": [
        "dataset.groupby(\"PROPTYPE\").describe()"
      ]
    },
    {
      "cell_type": "code",
      "execution_count": 100,
      "metadata": {
        "id": "9Ky_nTvNa3p5"
      },
      "outputs": [
        {
          "data": {
            "text/html": [
              "<div>\n",
              "<style scoped>\n",
              "    .dataframe tbody tr th:only-of-type {\n",
              "        vertical-align: middle;\n",
              "    }\n",
              "\n",
              "    .dataframe tbody tr th {\n",
              "        vertical-align: top;\n",
              "    }\n",
              "\n",
              "    .dataframe thead th {\n",
              "        text-align: right;\n",
              "    }\n",
              "</style>\n",
              "<table border=\"1\" class=\"dataframe\">\n",
              "  <thead>\n",
              "    <tr style=\"text-align: right;\">\n",
              "      <th></th>\n",
              "      <th>MLSNUM</th>\n",
              "      <th>LISTPRICE</th>\n",
              "      <th>SOLDPRICE</th>\n",
              "      <th>EXPIREDDATE</th>\n",
              "      <th>DOM</th>\n",
              "      <th>DTO</th>\n",
              "      <th>ZIP</th>\n",
              "      <th>BEDS</th>\n",
              "      <th>BATHS</th>\n",
              "      <th>SQFT</th>\n",
              "      <th>AGE</th>\n",
              "      <th>LOTSIZE</th>\n",
              "      <th>GARAGE</th>\n",
              "      <th>COOLING</th>\n",
              "    </tr>\n",
              "    <tr>\n",
              "      <th>PROPTYPE</th>\n",
              "      <th></th>\n",
              "      <th></th>\n",
              "      <th></th>\n",
              "      <th></th>\n",
              "      <th></th>\n",
              "      <th></th>\n",
              "      <th></th>\n",
              "      <th></th>\n",
              "      <th></th>\n",
              "      <th></th>\n",
              "      <th></th>\n",
              "      <th></th>\n",
              "      <th></th>\n",
              "      <th></th>\n",
              "    </tr>\n",
              "  </thead>\n",
              "  <tbody>\n",
              "    <tr>\n",
              "      <th>CC</th>\n",
              "      <td>7.225364e+07</td>\n",
              "      <td>512072.209661</td>\n",
              "      <td>515437.729363</td>\n",
              "      <td>NaN</td>\n",
              "      <td>54.799169</td>\n",
              "      <td>39.804017</td>\n",
              "      <td>2106.023546</td>\n",
              "      <td>2.087258</td>\n",
              "      <td>1.745845</td>\n",
              "      <td>1328.087950</td>\n",
              "      <td>49.587950</td>\n",
              "      <td>109587.963056</td>\n",
              "      <td>0.542244</td>\n",
              "      <td>NaN</td>\n",
              "    </tr>\n",
              "    <tr>\n",
              "      <th>MF</th>\n",
              "      <td>7.225119e+07</td>\n",
              "      <td>498397.169421</td>\n",
              "      <td>493278.811983</td>\n",
              "      <td>NaN</td>\n",
              "      <td>55.506198</td>\n",
              "      <td>41.280992</td>\n",
              "      <td>1997.479339</td>\n",
              "      <td>6.121901</td>\n",
              "      <td>2.927686</td>\n",
              "      <td>2891.136364</td>\n",
              "      <td>108.140496</td>\n",
              "      <td>8466.673120</td>\n",
              "      <td>0.520661</td>\n",
              "      <td>NaN</td>\n",
              "    </tr>\n",
              "    <tr>\n",
              "      <th>SF</th>\n",
              "      <td>7.225306e+07</td>\n",
              "      <td>464208.570802</td>\n",
              "      <td>456815.676056</td>\n",
              "      <td>NaN</td>\n",
              "      <td>78.280604</td>\n",
              "      <td>54.210607</td>\n",
              "      <td>2052.958680</td>\n",
              "      <td>3.344434</td>\n",
              "      <td>2.024206</td>\n",
              "      <td>1980.067838</td>\n",
              "      <td>60.889608</td>\n",
              "      <td>40438.179158</td>\n",
              "      <td>1.061055</td>\n",
              "      <td>NaN</td>\n",
              "    </tr>\n",
              "  </tbody>\n",
              "</table>\n",
              "</div>"
            ],
            "text/plain": [
              "                MLSNUM      LISTPRICE      SOLDPRICE  EXPIREDDATE        DOM  \\\n",
              "PROPTYPE                                                                       \n",
              "CC        7.225364e+07  512072.209661  515437.729363          NaN  54.799169   \n",
              "MF        7.225119e+07  498397.169421  493278.811983          NaN  55.506198   \n",
              "SF        7.225306e+07  464208.570802  456815.676056          NaN  78.280604   \n",
              "\n",
              "                DTO          ZIP      BEDS     BATHS         SQFT         AGE  \\\n",
              "PROPTYPE                                                                        \n",
              "CC        39.804017  2106.023546  2.087258  1.745845  1328.087950   49.587950   \n",
              "MF        41.280992  1997.479339  6.121901  2.927686  2891.136364  108.140496   \n",
              "SF        54.210607  2052.958680  3.344434  2.024206  1980.067838   60.889608   \n",
              "\n",
              "                LOTSIZE    GARAGE  COOLING  \n",
              "PROPTYPE                                    \n",
              "CC        109587.963056  0.542244      NaN  \n",
              "MF          8466.673120  0.520661      NaN  \n",
              "SF         40438.179158  1.061055      NaN  "
            ]
          },
          "execution_count": 100,
          "metadata": {},
          "output_type": "execute_result"
        }
      ],
      "source": [
        "dataset.groupby(\"PROPTYPE\").mean()"
      ]
    },
    {
      "cell_type": "code",
      "execution_count": 101,
      "metadata": {},
      "outputs": [],
      "source": [
        "# pd.crosstab(dataset[\"SOLDPRICE\"],dataset[\"ZIP\"]).plot(kind=\"bar\")"
      ]
    },
    {
      "cell_type": "code",
      "execution_count": 102,
      "metadata": {},
      "outputs": [
        {
          "data": {
            "image/png": "[encoded data removed]",
            "text/plain": [
              "<Figure size 432x288 with 1 Axes>"
            ]
          },
          "metadata": {
            "needs_background": "light"
          },
          "output_type": "display_data"
        }
      ],
      "source": [
        "plt.hist(dataset[dataset[\"PROPTYPE\"] == \"SF\"][\"SOLDPRICE\"], alpha=0.5, label = 'Home Purchase')\n",
        "plt.hist(dataset[dataset[\"PROPTYPE\"] == \"MF\"][\"SOLDPRICE\"], alpha=0.5, label = 'Investor Purchase')\n",
        "\n",
        "plt.legend(loc='upper right')\n",
        "plt.xlabel(\"Sales Price\")\n",
        "plt.title(\"Sales Price by Consumer Type\");"
      ]
    },
    {
      "cell_type": "code",
      "execution_count": null,
      "metadata": {},
      "outputs": [],
      "source": []
    },
    {
      "cell_type": "markdown",
      "metadata": {
        "id": "VBySw_fZa3p5"
      },
      "source": [
        "TODO: http://pandas.pydata.org/pandas-docs/stable/merging.html"
      ]
    },
    {
      "cell_type": "code",
      "execution_count": 103,
      "metadata": {},
      "outputs": [],
      "source": [
        "# First look at the data to see what type of algorithm to apply for data science.\n",
        "# If the yield coefficient is aligned then use linear regression.\n",
        "# However, if the curve is disparate or not smooth, apply logistic regression.\n",
        "# A practical example would be the purchase of life insurance by age.  "
      ]
    },
    {
      "cell_type": "markdown",
      "metadata": {
        "id": "1AtqOxkHa3p5"
      },
      "source": [
        "### Sklearn"
      ]
    },
    {
      "cell_type": "markdown",
      "metadata": {
        "id": "g0iH0mfZa3p5"
      },
      "source": [
        "Sklearn provides simple and efficient tools for data mining and data analysis. It is accessible to everybody, and reusable in various contexts. Built on NumPy, SciPy, and matplotlib.\n",
        "\n",
        "Open source, commercially usable - BSD license. Take a look at: http://scikit-learn.org/stable/"
      ]
    },
    {
      "cell_type": "code",
      "execution_count": 104,
      "metadata": {
        "collapsed": true,
        "id": "XJqQU5_1a3p5"
      },
      "outputs": [],
      "source": [
        "# Load tools from sklearn library\n",
        "\n",
        "from sklearn import datasets, linear_model\n",
        "from sklearn.metrics import mean_squared_error, r2_score\n",
        "\n",
        "regr = linear_model.LinearRegression()"
      ]
    },
    {
      "cell_type": "code",
      "execution_count": 105,
      "metadata": {
        "colab": {
          "base_uri": "https://localhost:8080/",
          "height": 240
        },
        "id": "NUf3jZ65a3p5",
        "outputId": "fe2cdba7-0e95-407b-b591-53ac368559c7"
      },
      "outputs": [
        {
          "name": "stdout",
          "output_type": "stream",
          "text": [
            "Orginal shape\n",
            "(5171, 3) (5171,)\n",
            "\n",
            "Train shape\n",
            "(4000, 3) (4000,)\n",
            "\n",
            "Test shape\n",
            "(1171, 3) (1171,)\n",
            "Variance score: 0.02\n"
          ]
        },
        {
          "name": "stderr",
          "output_type": "stream",
          "text": [
            "C:\\Users\\frede\\AppData\\Local\\Temp\\ipykernel_5088\\3533613770.py:39: UserWarning: color is redundantly defined by the 'color' keyword argument and the fmt string \"k--\" (-> color='k'). The keyword argument will take precedence.\n",
            "  plt.plot([prices_test.min(), prices_test.max()], [prices_test.min(), prices_test.max()], 'k--', lw=4, color='blue')\n"
          ]
        },
        {
          "data": {
            "image/png": "[encoded data removed]",
            "text/plain": [
              "<Figure size 1440x360 with 1 Axes>"
            ]
          },
          "metadata": {},
          "output_type": "display_data"
        }
      ],
      "source": [
        "# Run Linear Regresison\n",
        "# Use features: 'BEDS', 'BATHS', 'SQFT', 'AGE', 'LOTSIZE'\n",
        "\n",
        "prices = dataset['SOLDPRICE']\n",
        "features = dataset[['BEDS', 'BATHS', 'SQFT']]\n",
        "\n",
        "print (\"Orginal shape\")\n",
        "print (features.shape, prices.shape)\n",
        "print ()\n",
        "\n",
        "features = features.fillna(-9999)\n",
        "\n",
        "# Split data using the above example\n",
        "features_train = features[:4000]\n",
        "features_test = features[4000:]\n",
        "\n",
        "# Split the targets into training/testing sets\n",
        "prices_train = prices[:4000]\n",
        "prices_test = prices[4000:]\n",
        "\n",
        "print (\"Train shape\")\n",
        "print (features_train.shape, prices_train.shape)\n",
        "print ()\n",
        "\n",
        "print (\"Test shape\")\n",
        "print (features_test.shape, prices_test.shape)\n",
        "\n",
        "regr.fit(features_train, prices_train)\n",
        "\n",
        "# Make predictions using the testing set\n",
        "prices_pred = regr.predict(features_test)\n",
        "\n",
        "# Explained variance score: 1 is perfect prediction\n",
        "print('Variance score: %.2f' % r2_score(prices_test, prices_pred))\n",
        "\n",
        "# Plot outputs\n",
        "plt.figure(figsize=(20, 5))\n",
        "plt.scatter(prices_test, prices_pred, color='black')\n",
        "plt.plot([prices_test.min(), prices_test.max()], [prices_test.min(), prices_test.max()], 'k--', lw=4, color='blue')\n",
        "\n",
        "plt.ylabel('Predicted')\n",
        "plt.xlabel('Measured')\n",
        "\n",
        "plt.xticks(())\n",
        "plt.yticks(())\n",
        "\n",
        "plt.show()"
      ]
    },
    {
      "cell_type": "code",
      "execution_count": 106,
      "metadata": {},
      "outputs": [],
      "source": [
        "# import pandas as pd\n",
        "# import numpy as np\n",
        "# import matplotlib.pyplot as plt\n",
        "\n",
        "\n",
        "from sklearn.model_selection import train_test_split, cross_val_score, GridSearchCV\n",
        "from sklearn.tree import DecisionTreeRegressor\n",
        "from sklearn.ensemble import GradientBoostingRegressor, RandomForestRegressor, AdaBoostRegressor\n",
        "from sklearn.preprocessing import StandardScaler\n",
        "from sklearn.cluster import KMeans\n",
        "\n",
        "\n",
        "np.random.seed(123)\n",
        "\n",
        "scaler = StandardScaler()\n",
        "x_train_scaled = scaler.fit_transform(features_train)\n",
        "x_train_scaled = pd.DataFrame(x_train_scaled, columns=features_train.columns)"
      ]
    },
    {
      "cell_type": "code",
      "execution_count": 107,
      "metadata": {},
      "outputs": [
        {
          "data": {
            "text/html": [
              "<div>\n",
              "<style scoped>\n",
              "    .dataframe tbody tr th:only-of-type {\n",
              "        vertical-align: middle;\n",
              "    }\n",
              "\n",
              "    .dataframe tbody tr th {\n",
              "        vertical-align: top;\n",
              "    }\n",
              "\n",
              "    .dataframe thead th {\n",
              "        text-align: right;\n",
              "    }\n",
              "</style>\n",
              "<table border=\"1\" class=\"dataframe\">\n",
              "  <thead>\n",
              "    <tr style=\"text-align: right;\">\n",
              "      <th></th>\n",
              "      <th>BEDS</th>\n",
              "      <th>BATHS</th>\n",
              "      <th>SQFT</th>\n",
              "    </tr>\n",
              "  </thead>\n",
              "  <tbody>\n",
              "    <tr>\n",
              "      <th>count</th>\n",
              "      <td>4.000000e+03</td>\n",
              "      <td>4.000000e+03</td>\n",
              "      <td>4.000000e+03</td>\n",
              "    </tr>\n",
              "    <tr>\n",
              "      <th>mean</th>\n",
              "      <td>1.030287e-16</td>\n",
              "      <td>3.552714e-17</td>\n",
              "      <td>9.237056e-17</td>\n",
              "    </tr>\n",
              "    <tr>\n",
              "      <th>std</th>\n",
              "      <td>1.000125e+00</td>\n",
              "      <td>1.000125e+00</td>\n",
              "      <td>1.000125e+00</td>\n",
              "    </tr>\n",
              "    <tr>\n",
              "      <th>min</th>\n",
              "      <td>-2.062917e+00</td>\n",
              "      <td>-2.100160e+00</td>\n",
              "      <td>-1.796088e+00</td>\n",
              "    </tr>\n",
              "    <tr>\n",
              "      <th>25%</th>\n",
              "      <td>-7.960607e-01</td>\n",
              "      <td>-5.542195e-01</td>\n",
              "      <td>-6.613210e-01</td>\n",
              "    </tr>\n",
              "    <tr>\n",
              "      <th>50%</th>\n",
              "      <td>-1.626326e-01</td>\n",
              "      <td>-3.890616e-02</td>\n",
              "      <td>-2.367291e-01</td>\n",
              "    </tr>\n",
              "    <tr>\n",
              "      <th>75%</th>\n",
              "      <td>4.707954e-01</td>\n",
              "      <td>4.764072e-01</td>\n",
              "      <td>3.826644e-01</td>\n",
              "    </tr>\n",
              "    <tr>\n",
              "      <th>max</th>\n",
              "      <td>1.567307e+01</td>\n",
              "      <td>1.438987e+01</td>\n",
              "      <td>7.660301e+00</td>\n",
              "    </tr>\n",
              "  </tbody>\n",
              "</table>\n",
              "</div>"
            ],
            "text/plain": [
              "               BEDS         BATHS          SQFT\n",
              "count  4.000000e+03  4.000000e+03  4.000000e+03\n",
              "mean   1.030287e-16  3.552714e-17  9.237056e-17\n",
              "std    1.000125e+00  1.000125e+00  1.000125e+00\n",
              "min   -2.062917e+00 -2.100160e+00 -1.796088e+00\n",
              "25%   -7.960607e-01 -5.542195e-01 -6.613210e-01\n",
              "50%   -1.626326e-01 -3.890616e-02 -2.367291e-01\n",
              "75%    4.707954e-01  4.764072e-01  3.826644e-01\n",
              "max    1.567307e+01  1.438987e+01  7.660301e+00"
            ]
          },
          "execution_count": 107,
          "metadata": {},
          "output_type": "execute_result"
        }
      ],
      "source": [
        "x_train_scaled.describe() #everything scaled"
      ]
    },
    {
      "cell_type": "code",
      "execution_count": 108,
      "metadata": {},
      "outputs": [],
      "source": [
        "x_val_scaled = scaler.transform(features_test) #transform but not fit validation data\n",
        "x_val_scaled = pd.DataFrame(x_val_scaled, columns=features_test.columns)\n",
        "     "
      ]
    },
    {
      "cell_type": "code",
      "execution_count": 109,
      "metadata": {},
      "outputs": [
        {
          "data": {
            "text/html": [
              "<div>\n",
              "<style scoped>\n",
              "    .dataframe tbody tr th:only-of-type {\n",
              "        vertical-align: middle;\n",
              "    }\n",
              "\n",
              "    .dataframe tbody tr th {\n",
              "        vertical-align: top;\n",
              "    }\n",
              "\n",
              "    .dataframe thead th {\n",
              "        text-align: right;\n",
              "    }\n",
              "</style>\n",
              "<table border=\"1\" class=\"dataframe\">\n",
              "  <thead>\n",
              "    <tr style=\"text-align: right;\">\n",
              "      <th></th>\n",
              "      <th>BEDS</th>\n",
              "      <th>BATHS</th>\n",
              "      <th>SQFT</th>\n",
              "    </tr>\n",
              "  </thead>\n",
              "  <tbody>\n",
              "    <tr>\n",
              "      <th>count</th>\n",
              "      <td>1171.000000</td>\n",
              "      <td>1171.000000</td>\n",
              "      <td>1171.000000</td>\n",
              "    </tr>\n",
              "    <tr>\n",
              "      <th>mean</th>\n",
              "      <td>-0.009550</td>\n",
              "      <td>-0.030545</td>\n",
              "      <td>-0.067064</td>\n",
              "    </tr>\n",
              "    <tr>\n",
              "      <th>std</th>\n",
              "      <td>1.071289</td>\n",
              "      <td>1.327518</td>\n",
              "      <td>0.917324</td>\n",
              "    </tr>\n",
              "    <tr>\n",
              "      <th>min</th>\n",
              "      <td>-2.062917</td>\n",
              "      <td>-1.584846</td>\n",
              "      <td>-1.417832</td>\n",
              "    </tr>\n",
              "    <tr>\n",
              "      <th>25%</th>\n",
              "      <td>-0.796061</td>\n",
              "      <td>-1.069533</td>\n",
              "      <td>-0.702456</td>\n",
              "    </tr>\n",
              "    <tr>\n",
              "      <th>50%</th>\n",
              "      <td>-0.162633</td>\n",
              "      <td>-0.038906</td>\n",
              "      <td>-0.294413</td>\n",
              "    </tr>\n",
              "    <tr>\n",
              "      <th>75%</th>\n",
              "      <td>0.470795</td>\n",
              "      <td>0.476407</td>\n",
              "      <td>0.329236</td>\n",
              "    </tr>\n",
              "    <tr>\n",
              "      <th>max</th>\n",
              "      <td>18.206780</td>\n",
              "      <td>30.879894</td>\n",
              "      <td>8.795068</td>\n",
              "    </tr>\n",
              "  </tbody>\n",
              "</table>\n",
              "</div>"
            ],
            "text/plain": [
              "              BEDS        BATHS         SQFT\n",
              "count  1171.000000  1171.000000  1171.000000\n",
              "mean     -0.009550    -0.030545    -0.067064\n",
              "std       1.071289     1.327518     0.917324\n",
              "min      -2.062917    -1.584846    -1.417832\n",
              "25%      -0.796061    -1.069533    -0.702456\n",
              "50%      -0.162633    -0.038906    -0.294413\n",
              "75%       0.470795     0.476407     0.329236\n",
              "max      18.206780    30.879894     8.795068"
            ]
          },
          "execution_count": 109,
          "metadata": {},
          "output_type": "execute_result"
        }
      ],
      "source": [
        "x_val_scaled.describe() #everything scaled"
      ]
    },
    {
      "cell_type": "code",
      "execution_count": 110,
      "metadata": {},
      "outputs": [
        {
          "data": {
            "text/plain": [
              "(0.6799911284770859, 0.1982352616468423, -0.5200831045182182)"
            ]
          },
          "execution_count": 110,
          "metadata": {},
          "output_type": "execute_result"
        }
      ],
      "source": [
        "dt = GridSearchCV(estimator=DecisionTreeRegressor(),\n",
        "                  param_grid={'max_depth': range(1,20)},\n",
        "                  cv=5).fit(x_train_scaled, prices_train)\n",
        "\n",
        "cv_score = cross_val_score(dt, x_train_scaled, prices_train, scoring='r2', cv=5)\n",
        "\n",
        "dt.score(x_train_scaled, prices_train), cv_score.mean(), dt.score(x_val_scaled, prices_test)"
      ]
    },
    {
      "cell_type": "code",
      "execution_count": 111,
      "metadata": {},
      "outputs": [
        {
          "data": {
            "text/plain": [
              "(0.8135528209238713, 0.2663724897274033, 0.03841338550804829)"
            ]
          },
          "execution_count": 111,
          "metadata": {},
          "output_type": "execute_result"
        }
      ],
      "source": [
        "best_depth = dt.best_params_['max_depth']\n",
        "\n",
        "rf = RandomForestRegressor(max_depth=2*best_depth,\n",
        "                           n_estimators=500,\n",
        "                           max_features='sqrt',\n",
        "                           oob_score=True,\n",
        "                           random_state=123).fit(x_train_scaled, prices_train)\n",
        "\n",
        "cv_score = cross_val_score(rf, x_train_scaled, prices_train, scoring='r2', cv=5)\n",
        "\n",
        "rf.score(x_train_scaled, prices_train), cv_score.mean(), rf.score(x_val_scaled, prices_test)"
      ]
    },
    {
      "cell_type": "code",
      "execution_count": 112,
      "metadata": {},
      "outputs": [
        {
          "data": {
            "text/plain": [
              "(0.9831010886390252, 0.089992356327117, -0.5942031338844964)"
            ]
          },
          "execution_count": 112,
          "metadata": {},
          "output_type": "execute_result"
        }
      ],
      "source": [
        "gb = GradientBoostingRegressor(n_estimators=500,\n",
        "                               max_depth=2*best_depth,\n",
        "                               random_state=123).fit(x_train_scaled, prices_train)\n",
        "\n",
        "cv_score = cross_val_score(gb, x_train_scaled, prices_train, scoring='r2', cv=5)\n",
        "\n",
        "gb.score(x_train_scaled, prices_train), cv_score.mean(), gb.score(x_val_scaled, prices_test)"
      ]
    },
    {
      "cell_type": "code",
      "execution_count": 113,
      "metadata": {},
      "outputs": [
        {
          "data": {
            "text/plain": [
              "(0.3942080717388996, -1.4469217125124147, -0.393564600894893)"
            ]
          },
          "execution_count": 113,
          "metadata": {},
          "output_type": "execute_result"
        }
      ],
      "source": [
        "ab = AdaBoostRegressor(n_estimators=250,\n",
        "                       random_state=123).fit(x_train_scaled, prices_train)\n",
        "\n",
        "cv_score = cross_val_score(ab, x_train_scaled, prices_train, scoring='r2', cv=5)\n",
        "\n",
        "ab.score(x_train_scaled, prices_train), cv_score.mean(), ab.score(x_val_scaled, prices_test)"
      ]
    },
    {
      "cell_type": "code",
      "execution_count": 114,
      "metadata": {},
      "outputs": [
        {
          "name": "stdout",
          "output_type": "stream",
          "text": [
            "1.0.2\n"
          ]
        }
      ],
      "source": [
        "import sklearn\n",
        "print(sklearn.__version__)"
      ]
    },
    {
      "cell_type": "code",
      "execution_count": 115,
      "metadata": {},
      "outputs": [
        {
          "data": {
            "text/plain": [
              "['best_model_scaled.pkl']"
            ]
          },
          "execution_count": 115,
          "metadata": {},
          "output_type": "execute_result"
        }
      ],
      "source": [
        "#use gradient boosting\n",
        "# f = open('best_model_scaled.pkl','wb')\n",
        "# pickle.dump(gb, f)\n",
        "# f.close()\n",
        "\n",
        "import joblib\n",
        "joblib.dump(gb, 'best_model_scaled.pkl', compress=True)\n"
      ]
    },
    {
      "cell_type": "code",
      "execution_count": 116,
      "metadata": {},
      "outputs": [
        {
          "data": {
            "text/plain": [
              "['regr.pkl']"
            ]
          },
          "execution_count": 116,
          "metadata": {},
          "output_type": "execute_result"
        }
      ],
      "source": [
        "# import joblib\n",
        "joblib.dump(regr, 'regr.pkl', compress=True)"
      ]
    },
    {
      "cell_type": "code",
      "execution_count": 117,
      "metadata": {
        "id": "ydZI4QVva3p6"
      },
      "outputs": [
        {
          "name": "stdout",
          "output_type": "stream",
          "text": [
            "Variance score: -1.91\n"
          ]
        },
        {
          "name": "stderr",
          "output_type": "stream",
          "text": [
            "C:\\Users\\frede\\AppData\\Local\\Temp\\ipykernel_5088\\2470585737.py:26: UserWarning: color is redundantly defined by the 'color' keyword argument and the fmt string \"k--\" (-> color='k'). The keyword argument will take precedence.\n",
            "  plt.plot([y_test.min(), y_test.max()], [y_test.min(), y_test.max()], 'k--', lw=4, color='blue')\n"
          ]
        },
        {
          "data": {
            "image/png": "[encoded data removed]",
            "text/plain": [
              "<Figure size 1440x360 with 1 Axes>"
            ]
          },
          "metadata": {},
          "output_type": "display_data"
        }
      ],
      "source": [
        "# YOUR TURN\n",
        "# Use sklearn train|test|split\n",
        "\n",
        "# from sklearn.model_selection import train_test_split\n",
        "\n",
        "from sklearn.model_selection import train_test_split\n",
        "\n",
        "dataset = dataset.fillna(-9999)\n",
        "\n",
        "prices = dataset['SOLDPRICE']\n",
        "features = dataset[['BEDS', 'BATHS', 'SQFT', 'AGE', 'LOTSIZE']]\n",
        "\n",
        "X_train, X_test, y_train, y_test = train_test_split(features, prices, test_size=0.33)\n",
        "\n",
        "regr.fit(X_train, y_train)\n",
        "\n",
        "# Make predictions using the testing set\n",
        "prices_pred = regr.predict(X_test)\n",
        "\n",
        "# Explained variance score: 1 is perfect prediction\n",
        "print('Variance score: %.2f' % r2_score(prices_pred, y_test))\n",
        "\n",
        "# Plot outputs\n",
        "plt.figure(figsize=(20, 5))\n",
        "plt.scatter(y_test, prices_pred, color='black')\n",
        "plt.plot([y_test.min(), y_test.max()], [y_test.min(), y_test.max()], 'k--', lw=4, color='blue')\n",
        "\n",
        "plt.ylabel('Predicted')\n",
        "plt.xlabel('Measured')\n",
        "\n",
        "plt.xticks(())\n",
        "plt.yticks(())\n",
        "\n",
        "plt.show()"
      ]
    },
    {
      "cell_type": "code",
      "execution_count": 118,
      "metadata": {
        "id": "1GL8rC65a3p6"
      },
      "outputs": [
        {
          "data": {
            "text/html": [
              "<div>\n",
              "<style scoped>\n",
              "    .dataframe tbody tr th:only-of-type {\n",
              "        vertical-align: middle;\n",
              "    }\n",
              "\n",
              "    .dataframe tbody tr th {\n",
              "        vertical-align: top;\n",
              "    }\n",
              "\n",
              "    .dataframe thead th {\n",
              "        text-align: right;\n",
              "    }\n",
              "</style>\n",
              "<table border=\"1\" class=\"dataframe\">\n",
              "  <thead>\n",
              "    <tr style=\"text-align: right;\">\n",
              "      <th></th>\n",
              "      <th>MLSNUM</th>\n",
              "      <th>STATUS</th>\n",
              "      <th>LISTPRICE</th>\n",
              "      <th>SOLDPRICE</th>\n",
              "      <th>LISTDATE</th>\n",
              "      <th>SOLDDATE</th>\n",
              "      <th>EXPIREDDATE</th>\n",
              "      <th>DOM</th>\n",
              "      <th>DTO</th>\n",
              "      <th>ADDRESS</th>\n",
              "      <th>...</th>\n",
              "      <th>JUNIORHIGHSCHOOL</th>\n",
              "      <th>HIGHSCHOOL</th>\n",
              "      <th>OTHERFEATURES</th>\n",
              "      <th>STREETNAME</th>\n",
              "      <th>HOUSENUM1</th>\n",
              "      <th>HOUSENUM2</th>\n",
              "      <th>PHOTOURL</th>\n",
              "      <th>PROPTYPE_CC</th>\n",
              "      <th>PROPTYPE_MF</th>\n",
              "      <th>PROPTYPE_SF</th>\n",
              "    </tr>\n",
              "  </thead>\n",
              "  <tbody>\n",
              "    <tr>\n",
              "      <th>0</th>\n",
              "      <td>72049670</td>\n",
              "      <td>SLD</td>\n",
              "      <td>239900.0</td>\n",
              "      <td>247000.0</td>\n",
              "      <td>8/6/2016</td>\n",
              "      <td>3/1/2018</td>\n",
              "      <td>-9999.0</td>\n",
              "      <td>295</td>\n",
              "      <td>295</td>\n",
              "      <td>16 Pine St</td>\n",
              "      <td>...</td>\n",
              "      <td>-9999</td>\n",
              "      <td>-9999</td>\n",
              "      <td>-9999</td>\n",
              "      <td>Pine St</td>\n",
              "      <td>16</td>\n",
              "      <td>16</td>\n",
              "      <td>http://media.mlspin.com/photo.aspx?mls=72049670</td>\n",
              "      <td>0</td>\n",
              "      <td>1</td>\n",
              "      <td>0</td>\n",
              "    </tr>\n",
              "    <tr>\n",
              "      <th>1</th>\n",
              "      <td>72056522</td>\n",
              "      <td>SLD</td>\n",
              "      <td>338000.0</td>\n",
              "      <td>338000.0</td>\n",
              "      <td>8/22/2016</td>\n",
              "      <td>3/1/2018</td>\n",
              "      <td>-9999.0</td>\n",
              "      <td>545</td>\n",
              "      <td>515</td>\n",
              "      <td>80 Cherry Drive</td>\n",
              "      <td>...</td>\n",
              "      <td>-9999</td>\n",
              "      <td>-9999</td>\n",
              "      <td>Basement:Yes;Fireplaces:1;Roof:Asphalt/Fibergl...</td>\n",
              "      <td>Cherry Drive</td>\n",
              "      <td>80</td>\n",
              "      <td>80</td>\n",
              "      <td>http://media.mlspin.com/photo.aspx?mls=72056522</td>\n",
              "      <td>1</td>\n",
              "      <td>0</td>\n",
              "      <td>0</td>\n",
              "    </tr>\n",
              "    <tr>\n",
              "      <th>2</th>\n",
              "      <td>72080286</td>\n",
              "      <td>SLD</td>\n",
              "      <td>2999999.0</td>\n",
              "      <td>2950000.0</td>\n",
              "      <td>10/12/2016</td>\n",
              "      <td>3/1/2018</td>\n",
              "      <td>-9999.0</td>\n",
              "      <td>504</td>\n",
              "      <td>493</td>\n",
              "      <td>80 Monadnock Road</td>\n",
              "      <td>...</td>\n",
              "      <td>WMS</td>\n",
              "      <td>WHS</td>\n",
              "      <td>Basement:Yes;Fireplaces:3;Roof:Asphalt/Fibergl...</td>\n",
              "      <td>Monadnock Road</td>\n",
              "      <td>80</td>\n",
              "      <td>80</td>\n",
              "      <td>http://media.mlspin.com/photo.aspx?mls=72080286</td>\n",
              "      <td>0</td>\n",
              "      <td>0</td>\n",
              "      <td>1</td>\n",
              "    </tr>\n",
              "    <tr>\n",
              "      <th>3</th>\n",
              "      <td>72118879</td>\n",
              "      <td>SLD</td>\n",
              "      <td>2600000.0</td>\n",
              "      <td>2600000.0</td>\n",
              "      <td>2/14/2017</td>\n",
              "      <td>3/1/2018</td>\n",
              "      <td>-9999.0</td>\n",
              "      <td>28</td>\n",
              "      <td>14</td>\n",
              "      <td>15 Trevino Circle</td>\n",
              "      <td>...</td>\n",
              "      <td>West Middle</td>\n",
              "      <td>Andover High</td>\n",
              "      <td>Basement:Yes;Fireplaces:3;Roof:--;Floor:--;App...</td>\n",
              "      <td>Trevino Circle</td>\n",
              "      <td>15</td>\n",
              "      <td>15</td>\n",
              "      <td>http://media.mlspin.com/photo.aspx?mls=72118879</td>\n",
              "      <td>0</td>\n",
              "      <td>0</td>\n",
              "      <td>1</td>\n",
              "    </tr>\n",
              "    <tr>\n",
              "      <th>4</th>\n",
              "      <td>72124101</td>\n",
              "      <td>SLD</td>\n",
              "      <td>525000.0</td>\n",
              "      <td>525000.0</td>\n",
              "      <td>2/28/2017</td>\n",
              "      <td>3/1/2018</td>\n",
              "      <td>-9999.0</td>\n",
              "      <td>867</td>\n",
              "      <td>287</td>\n",
              "      <td>53 Maple Ridge Rd</td>\n",
              "      <td>...</td>\n",
              "      <td>-9999</td>\n",
              "      <td>Northampton</td>\n",
              "      <td>Basement:Yes;Fireplaces:1;Roof:Asphalt/Fibergl...</td>\n",
              "      <td>Maple Ridge Rd</td>\n",
              "      <td>53</td>\n",
              "      <td>53</td>\n",
              "      <td>http://media.mlspin.com/photo.aspx?mls=72124101</td>\n",
              "      <td>0</td>\n",
              "      <td>0</td>\n",
              "      <td>1</td>\n",
              "    </tr>\n",
              "  </tbody>\n",
              "</table>\n",
              "<p>5 rows × 40 columns</p>\n",
              "</div>"
            ],
            "text/plain": [
              "     MLSNUM STATUS  LISTPRICE  SOLDPRICE    LISTDATE  SOLDDATE  EXPIREDDATE  \\\n",
              "0  72049670    SLD   239900.0   247000.0    8/6/2016  3/1/2018      -9999.0   \n",
              "1  72056522    SLD   338000.0   338000.0   8/22/2016  3/1/2018      -9999.0   \n",
              "2  72080286    SLD  2999999.0  2950000.0  10/12/2016  3/1/2018      -9999.0   \n",
              "3  72118879    SLD  2600000.0  2600000.0   2/14/2017  3/1/2018      -9999.0   \n",
              "4  72124101    SLD   525000.0   525000.0   2/28/2017  3/1/2018      -9999.0   \n",
              "\n",
              "   DOM  DTO            ADDRESS  ... JUNIORHIGHSCHOOL    HIGHSCHOOL  \\\n",
              "0  295  295         16 Pine St  ...            -9999         -9999   \n",
              "1  545  515    80 Cherry Drive  ...            -9999         -9999   \n",
              "2  504  493  80 Monadnock Road  ...              WMS           WHS   \n",
              "3   28   14  15 Trevino Circle  ...      West Middle  Andover High   \n",
              "4  867  287  53 Maple Ridge Rd  ...            -9999   Northampton   \n",
              "\n",
              "                                       OTHERFEATURES      STREETNAME  \\\n",
              "0                                              -9999         Pine St   \n",
              "1  Basement:Yes;Fireplaces:1;Roof:Asphalt/Fibergl...    Cherry Drive   \n",
              "2  Basement:Yes;Fireplaces:3;Roof:Asphalt/Fibergl...  Monadnock Road   \n",
              "3  Basement:Yes;Fireplaces:3;Roof:--;Floor:--;App...  Trevino Circle   \n",
              "4  Basement:Yes;Fireplaces:1;Roof:Asphalt/Fibergl...  Maple Ridge Rd   \n",
              "\n",
              "   HOUSENUM1  HOUSENUM2                                         PHOTOURL  \\\n",
              "0         16         16  http://media.mlspin.com/photo.aspx?mls=72049670   \n",
              "1         80         80  http://media.mlspin.com/photo.aspx?mls=72056522   \n",
              "2         80         80  http://media.mlspin.com/photo.aspx?mls=72080286   \n",
              "3         15         15  http://media.mlspin.com/photo.aspx?mls=72118879   \n",
              "4         53         53  http://media.mlspin.com/photo.aspx?mls=72124101   \n",
              "\n",
              "   PROPTYPE_CC  PROPTYPE_MF PROPTYPE_SF  \n",
              "0            0            1           0  \n",
              "1            1            0           0  \n",
              "2            0            0           1  \n",
              "3            0            0           1  \n",
              "4            0            0           1  \n",
              "\n",
              "[5 rows x 40 columns]"
            ]
          },
          "execution_count": 118,
          "metadata": {},
          "output_type": "execute_result"
        }
      ],
      "source": [
        "# YOUR TURN\n",
        "# Use categorical variables\n",
        "# new_dataset_name = pandas_library.get_dummies(dataset, columns=[list_columns_names])\n",
        "\n",
        "# ALTERNATE\n",
        "# dummies = pd.get_dummies(dataset[\"PROPTYPE\"])\n",
        "# new_dataset = pd.concat([dummies, dataset], axis=1)\n",
        "\n",
        "new_data = pd.get_dummies(dataset, columns=['PROPTYPE'])\n",
        "new_data.head()"
      ]
    },
    {
      "cell_type": "code",
      "execution_count": 119,
      "metadata": {
        "id": "E0EQhWjva3p6"
      },
      "outputs": [
        {
          "data": {
            "image/png": "[encoded data removed]",
            "text/plain": [
              "<Figure size 720x504 with 1 Axes>"
            ]
          },
          "metadata": {
            "needs_background": "light"
          },
          "output_type": "display_data"
        }
      ],
      "source": [
        "plt.figure(figsize=(10, 7))\n",
        "\n",
        "resid = y_test - regr.predict(X_test)\n",
        "\n",
        "plt.axhline(y=0, linestyle='-', linewidth=2, color=\"r\")\n",
        "plt.scatter(x=prices_pred, y=resid, alpha=0.5, s=3)\n",
        "\n",
        "plt.title(\"Residual plot\")\n",
        "plt.ylabel(r\"Y-$\\hat Y$\")\n",
        "plt.xlabel(r'$\\hat Y$')\n",
        "plt.tight_layout()\n",
        "plt.show()"
      ]
    },
    {
      "cell_type": "code",
      "execution_count": null,
      "metadata": {
        "collapsed": true,
        "id": "2yCGCuqwa3p6"
      },
      "outputs": [],
      "source": []
    }
  ],
  "metadata": {
    "colab": {
      "provenance": []
    },
    "kernelspec": {
      "display_name": "Python 3",
      "language": "python",
      "name": "python3"
    },
    "language_info": {
      "codemirror_mode": {
        "name": "ipython",
        "version": 3
      },
      "file_extension": ".py",
      "mimetype": "text/x-python",
      "name": "python",
      "nbconvert_exporter": "python",
      "pygments_lexer": "ipython3",
      "version": "3.10.4"
    }
  },
  "nbformat": 4,
  "nbformat_minor": 0
}
