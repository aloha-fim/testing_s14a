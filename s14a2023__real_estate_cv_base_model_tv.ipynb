{
  "cells": [
    {
      "cell_type": "code",
      "execution_count": 1,
      "metadata": {
        "id": "dDy-N-3yHaeo"
      },
      "outputs": [],
      "source": [
        "import pandas as pd\n",
        "import numpy as np\n",
        "import matplotlib.pyplot as plt\n",
        "from sklearn.decomposition import PCA\n",
        "from sklearn.model_selection import train_test_split, cross_val_score, GridSearchCV\n",
        "from sklearn.tree import DecisionTreeRegressor\n",
        "from sklearn.ensemble import GradientBoostingRegressor, RandomForestRegressor, AdaBoostRegressor\n",
        "from sklearn.preprocessing import StandardScaler\n",
        "from sklearn.cluster import KMeans\n",
        "import pickle\n",
        "import bz2\n",
        "from sklearn.pipeline import Pipeline\n",
        "from sklearn.compose import ColumnTransformer\n",
        "import sklearn\n",
        "\n",
        "np.random.seed(123)"
      ]
    },
    {
      "cell_type": "code",
      "execution_count": 2,
      "metadata": {
        "colab": {
          "base_uri": "https://localhost:8080/"
        },
        "id": "0jngrYATH0Gq",
        "outputId": "76881a09-916b-415a-904e-6f9209064f31"
      },
      "outputs": [
        {
          "name": "stdout",
          "output_type": "stream",
          "text": [
            "Mounted at /content/drive\n"
          ]
        }
      ],
      "source": [
        "from google.colab import drive\n",
        "drive.mount('/content/drive')"
      ]
    },
    {
      "cell_type": "markdown",
      "metadata": {
        "id": "optjZLrbrCwN"
      },
      "source": [
        "Import dataset which includes image features from CNN."
      ]
    },
    {
      "cell_type": "code",
      "execution_count": 3,
      "metadata": {
        "colab": {
          "base_uri": "https://localhost:8080/",
          "height": 317
        },
        "id": "6MvxOM5sS2Ej",
        "outputId": "e93a3066-5746-4801-bd21-f116626bcce4"
      },
      "outputs": [
        {
          "name": "stdout",
          "output_type": "stream",
          "text": [
            "data shape:  (40936, 2086)\n"
          ]
        },
        {
          "data": {
            "text/html": [
              "\n",
              "\n",
              "  <div id=\"df-3e8a7695-6e48-40cb-a9d6-9d1f57df3bb9\">\n",
              "    <div class=\"colab-df-container\">\n",
              "      <div>\n",
              "<style scoped>\n",
              "    .dataframe tbody tr th:only-of-type {\n",
              "        vertical-align: middle;\n",
              "    }\n",
              "\n",
              "    .dataframe tbody tr th {\n",
              "        vertical-align: top;\n",
              "    }\n",
              "\n",
              "    .dataframe thead th {\n",
              "        text-align: right;\n",
              "    }\n",
              "</style>\n",
              "<table border=\"1\" class=\"dataframe\">\n",
              "  <thead>\n",
              "    <tr style=\"text-align: right;\">\n",
              "      <th></th>\n",
              "      <th>MLSNUM</th>\n",
              "      <th>LISTPRICE</th>\n",
              "      <th>SOLDPRICE</th>\n",
              "      <th>DOM</th>\n",
              "      <th>DTO</th>\n",
              "      <th>AGE</th>\n",
              "      <th>LOTSIZE</th>\n",
              "      <th>GARAGE</th>\n",
              "      <th>LISTMONTH</th>\n",
              "      <th>SOLDMONTH</th>\n",
              "      <th>...</th>\n",
              "      <th>resnet_2038</th>\n",
              "      <th>resnet_2039</th>\n",
              "      <th>resnet_2040</th>\n",
              "      <th>resnet_2041</th>\n",
              "      <th>resnet_2042</th>\n",
              "      <th>resnet_2043</th>\n",
              "      <th>resnet_2044</th>\n",
              "      <th>resnet_2045</th>\n",
              "      <th>resnet_2046</th>\n",
              "      <th>resnet_2047</th>\n",
              "    </tr>\n",
              "  </thead>\n",
              "  <tbody>\n",
              "    <tr>\n",
              "      <th>0</th>\n",
              "      <td>71498924</td>\n",
              "      <td>169900.0</td>\n",
              "      <td>177500.0</td>\n",
              "      <td>709</td>\n",
              "      <td>618.0</td>\n",
              "      <td>11.0</td>\n",
              "      <td>-1.0</td>\n",
              "      <td>2.0</td>\n",
              "      <td>3</td>\n",
              "      <td>1</td>\n",
              "      <td>...</td>\n",
              "      <td>0.189716</td>\n",
              "      <td>0.112382</td>\n",
              "      <td>0.940322</td>\n",
              "      <td>0.104880</td>\n",
              "      <td>0.147426</td>\n",
              "      <td>0.343115</td>\n",
              "      <td>1.129136</td>\n",
              "      <td>0.181388</td>\n",
              "      <td>0.314849</td>\n",
              "      <td>0.385144</td>\n",
              "    </tr>\n",
              "    <tr>\n",
              "      <th>1</th>\n",
              "      <td>71905628</td>\n",
              "      <td>242000.0</td>\n",
              "      <td>235000.0</td>\n",
              "      <td>91</td>\n",
              "      <td>81.0</td>\n",
              "      <td>14.0</td>\n",
              "      <td>-1.0</td>\n",
              "      <td>1.0</td>\n",
              "      <td>9</td>\n",
              "      <td>1</td>\n",
              "      <td>...</td>\n",
              "      <td>0.189537</td>\n",
              "      <td>0.097927</td>\n",
              "      <td>2.036207</td>\n",
              "      <td>0.169374</td>\n",
              "      <td>0.386018</td>\n",
              "      <td>0.159283</td>\n",
              "      <td>0.267450</td>\n",
              "      <td>1.027563</td>\n",
              "      <td>0.218744</td>\n",
              "      <td>0.273669</td>\n",
              "    </tr>\n",
              "    <tr>\n",
              "      <th>2</th>\n",
              "      <td>71918879</td>\n",
              "      <td>209000.0</td>\n",
              "      <td>209000.0</td>\n",
              "      <td>78</td>\n",
              "      <td>37.0</td>\n",
              "      <td>32.0</td>\n",
              "      <td>-1.0</td>\n",
              "      <td>0.0</td>\n",
              "      <td>10</td>\n",
              "      <td>1</td>\n",
              "      <td>...</td>\n",
              "      <td>0.054234</td>\n",
              "      <td>0.028724</td>\n",
              "      <td>0.801957</td>\n",
              "      <td>0.303854</td>\n",
              "      <td>0.065759</td>\n",
              "      <td>0.098864</td>\n",
              "      <td>0.784945</td>\n",
              "      <td>1.562056</td>\n",
              "      <td>0.183976</td>\n",
              "      <td>0.415394</td>\n",
              "    </tr>\n",
              "    <tr>\n",
              "      <th>3</th>\n",
              "      <td>71952614</td>\n",
              "      <td>339900.0</td>\n",
              "      <td>350695.0</td>\n",
              "      <td>1</td>\n",
              "      <td>1.0</td>\n",
              "      <td>3.0</td>\n",
              "      <td>-1.0</td>\n",
              "      <td>1.0</td>\n",
              "      <td>1</td>\n",
              "      <td>1</td>\n",
              "      <td>...</td>\n",
              "      <td>0.149968</td>\n",
              "      <td>0.252659</td>\n",
              "      <td>2.011606</td>\n",
              "      <td>0.069289</td>\n",
              "      <td>0.159074</td>\n",
              "      <td>0.057379</td>\n",
              "      <td>1.281780</td>\n",
              "      <td>0.975176</td>\n",
              "      <td>0.233389</td>\n",
              "      <td>0.804610</td>\n",
              "    </tr>\n",
              "    <tr>\n",
              "      <th>4</th>\n",
              "      <td>71912071</td>\n",
              "      <td>299900.0</td>\n",
              "      <td>280000.0</td>\n",
              "      <td>83</td>\n",
              "      <td>71.0</td>\n",
              "      <td>10.0</td>\n",
              "      <td>-1.0</td>\n",
              "      <td>1.0</td>\n",
              "      <td>9</td>\n",
              "      <td>2</td>\n",
              "      <td>...</td>\n",
              "      <td>0.091527</td>\n",
              "      <td>0.222217</td>\n",
              "      <td>1.062608</td>\n",
              "      <td>0.104116</td>\n",
              "      <td>0.112099</td>\n",
              "      <td>0.135850</td>\n",
              "      <td>1.107761</td>\n",
              "      <td>0.381154</td>\n",
              "      <td>0.143897</td>\n",
              "      <td>0.390986</td>\n",
              "    </tr>\n",
              "  </tbody>\n",
              "</table>\n",
              "<p>5 rows × 2086 columns</p>\n",
              "</div>\n",
              "      <button class=\"colab-df-convert\" onclick=\"convertToInteractive('df-3e8a7695-6e48-40cb-a9d6-9d1f57df3bb9')\"\n",
              "              title=\"Convert this dataframe to an interactive table.\"\n",
              "              style=\"display:none;\">\n",
              "\n",
              "  <svg xmlns=\"http://www.w3.org/2000/svg\" height=\"24px\"viewBox=\"0 0 24 24\"\n",
              "       width=\"24px\">\n",
              "    <path d=\"M0 0h24v24H0V0z\" fill=\"none\"/>\n",
              "    <path d=\"M18.56 5.44l.94 2.06.94-2.06 2.06-.94-2.06-.94-.94-2.06-.94 2.06-2.06.94zm-11 1L8.5 8.5l.94-2.06 2.06-.94-2.06-.94L8.5 2.5l-.94 2.06-2.06.94zm10 10l.94 2.06.94-2.06 2.06-.94-2.06-.94-.94-2.06-.94 2.06-2.06.94z\"/><path d=\"M17.41 7.96l-1.37-1.37c-.4-.4-.92-.59-1.43-.59-.52 0-1.04.2-1.43.59L10.3 9.45l-7.72 7.72c-.78.78-.78 2.05 0 2.83L4 21.41c.39.39.9.59 1.41.59.51 0 1.02-.2 1.41-.59l7.78-7.78 2.81-2.81c.8-.78.8-2.07 0-2.86zM5.41 20L4 18.59l7.72-7.72 1.47 1.35L5.41 20z\"/>\n",
              "  </svg>\n",
              "      </button>\n",
              "\n",
              "\n",
              "\n",
              "    <div id=\"df-f5d87d2d-cdc7-44f7-8ba4-1d54f6fc78cc\">\n",
              "      <button class=\"colab-df-quickchart\" onclick=\"quickchart('df-f5d87d2d-cdc7-44f7-8ba4-1d54f6fc78cc')\"\n",
              "              title=\"Suggest charts.\"\n",
              "              style=\"display:none;\">\n",
              "\n",
              "<svg xmlns=\"http://www.w3.org/2000/svg\" height=\"24px\"viewBox=\"0 0 24 24\"\n",
              "     width=\"24px\">\n",
              "    <g>\n",
              "        <path d=\"M19 3H5c-1.1 0-2 .9-2 2v14c0 1.1.9 2 2 2h14c1.1 0 2-.9 2-2V5c0-1.1-.9-2-2-2zM9 17H7v-7h2v7zm4 0h-2V7h2v10zm4 0h-2v-4h2v4z\"/>\n",
              "    </g>\n",
              "</svg>\n",
              "      </button>\n",
              "    </div>\n",
              "\n",
              "<style>\n",
              "  .colab-df-quickchart {\n",
              "    background-color: #E8F0FE;\n",
              "    border: none;\n",
              "    border-radius: 50%;\n",
              "    cursor: pointer;\n",
              "    display: none;\n",
              "    fill: #1967D2;\n",
              "    height: 32px;\n",
              "    padding: 0 0 0 0;\n",
              "    width: 32px;\n",
              "  }\n",
              "\n",
              "  .colab-df-quickchart:hover {\n",
              "    background-color: #E2EBFA;\n",
              "    box-shadow: 0px 1px 2px rgba(60, 64, 67, 0.3), 0px 1px 3px 1px rgba(60, 64, 67, 0.15);\n",
              "    fill: #174EA6;\n",
              "  }\n",
              "\n",
              "  [theme=dark] .colab-df-quickchart {\n",
              "    background-color: #3B4455;\n",
              "    fill: #D2E3FC;\n",
              "  }\n",
              "\n",
              "  [theme=dark] .colab-df-quickchart:hover {\n",
              "    background-color: #434B5C;\n",
              "    box-shadow: 0px 1px 3px 1px rgba(0, 0, 0, 0.15);\n",
              "    filter: drop-shadow(0px 1px 2px rgba(0, 0, 0, 0.3));\n",
              "    fill: #FFFFFF;\n",
              "  }\n",
              "</style>\n",
              "\n",
              "    <script>\n",
              "      async function quickchart(key) {\n",
              "        const containerElement = document.querySelector('#' + key);\n",
              "        const charts = await google.colab.kernel.invokeFunction(\n",
              "            'suggestCharts', [key], {});\n",
              "      }\n",
              "    </script>\n",
              "\n",
              "      <script>\n",
              "\n",
              "function displayQuickchartButton(domScope) {\n",
              "  let quickchartButtonEl =\n",
              "    domScope.querySelector('#df-f5d87d2d-cdc7-44f7-8ba4-1d54f6fc78cc button.colab-df-quickchart');\n",
              "  quickchartButtonEl.style.display =\n",
              "    google.colab.kernel.accessAllowed ? 'block' : 'none';\n",
              "}\n",
              "\n",
              "        displayQuickchartButton(document);\n",
              "      </script>\n",
              "      <style>\n",
              "    .colab-df-container {\n",
              "      display:flex;\n",
              "      flex-wrap:wrap;\n",
              "      gap: 12px;\n",
              "    }\n",
              "\n",
              "    .colab-df-convert {\n",
              "      background-color: #E8F0FE;\n",
              "      border: none;\n",
              "      border-radius: 50%;\n",
              "      cursor: pointer;\n",
              "      display: none;\n",
              "      fill: #1967D2;\n",
              "      height: 32px;\n",
              "      padding: 0 0 0 0;\n",
              "      width: 32px;\n",
              "    }\n",
              "\n",
              "    .colab-df-convert:hover {\n",
              "      background-color: #E2EBFA;\n",
              "      box-shadow: 0px 1px 2px rgba(60, 64, 67, 0.3), 0px 1px 3px 1px rgba(60, 64, 67, 0.15);\n",
              "      fill: #174EA6;\n",
              "    }\n",
              "\n",
              "    [theme=dark] .colab-df-convert {\n",
              "      background-color: #3B4455;\n",
              "      fill: #D2E3FC;\n",
              "    }\n",
              "\n",
              "    [theme=dark] .colab-df-convert:hover {\n",
              "      background-color: #434B5C;\n",
              "      box-shadow: 0px 1px 3px 1px rgba(0, 0, 0, 0.15);\n",
              "      filter: drop-shadow(0px 1px 2px rgba(0, 0, 0, 0.3));\n",
              "      fill: #FFFFFF;\n",
              "    }\n",
              "  </style>\n",
              "\n",
              "      <script>\n",
              "        const buttonEl =\n",
              "          document.querySelector('#df-3e8a7695-6e48-40cb-a9d6-9d1f57df3bb9 button.colab-df-convert');\n",
              "        buttonEl.style.display =\n",
              "          google.colab.kernel.accessAllowed ? 'block' : 'none';\n",
              "\n",
              "        async function convertToInteractive(key) {\n",
              "          const element = document.querySelector('#df-3e8a7695-6e48-40cb-a9d6-9d1f57df3bb9');\n",
              "          const dataTable =\n",
              "            await google.colab.kernel.invokeFunction('convertToInteractive',\n",
              "                                                     [key], {});\n",
              "          if (!dataTable) return;\n",
              "\n",
              "          const docLinkHtml = 'Like what you see? Visit the ' +\n",
              "            '<a target=\"_blank\" href=https://colab.research.google.com/notebooks/data_table.ipynb>data table notebook</a>'\n",
              "            + ' to learn more about interactive tables.';\n",
              "          element.innerHTML = '';\n",
              "          dataTable['output_type'] = 'display_data';\n",
              "          await google.colab.output.renderOutput(dataTable, element);\n",
              "          const docLink = document.createElement('div');\n",
              "          docLink.innerHTML = docLinkHtml;\n",
              "          element.appendChild(docLink);\n",
              "        }\n",
              "      </script>\n",
              "    </div>\n",
              "  </div>\n"
            ],
            "text/plain": [
              "     MLSNUM  LISTPRICE  SOLDPRICE  DOM    DTO   AGE  LOTSIZE  GARAGE  \\\n",
              "0  71498924   169900.0   177500.0  709  618.0  11.0     -1.0     2.0   \n",
              "1  71905628   242000.0   235000.0   91   81.0  14.0     -1.0     1.0   \n",
              "2  71918879   209000.0   209000.0   78   37.0  32.0     -1.0     0.0   \n",
              "3  71952614   339900.0   350695.0    1    1.0   3.0     -1.0     1.0   \n",
              "4  71912071   299900.0   280000.0   83   71.0  10.0     -1.0     1.0   \n",
              "\n",
              "   LISTMONTH  SOLDMONTH  ...  resnet_2038  resnet_2039  resnet_2040  \\\n",
              "0          3          1  ...     0.189716     0.112382     0.940322   \n",
              "1          9          1  ...     0.189537     0.097927     2.036207   \n",
              "2         10          1  ...     0.054234     0.028724     0.801957   \n",
              "3          1          1  ...     0.149968     0.252659     2.011606   \n",
              "4          9          2  ...     0.091527     0.222217     1.062608   \n",
              "\n",
              "   resnet_2041  resnet_2042  resnet_2043  resnet_2044  resnet_2045  \\\n",
              "0     0.104880     0.147426     0.343115     1.129136     0.181388   \n",
              "1     0.169374     0.386018     0.159283     0.267450     1.027563   \n",
              "2     0.303854     0.065759     0.098864     0.784945     1.562056   \n",
              "3     0.069289     0.159074     0.057379     1.281780     0.975176   \n",
              "4     0.104116     0.112099     0.135850     1.107761     0.381154   \n",
              "\n",
              "   resnet_2046  resnet_2047  \n",
              "0     0.314849     0.385144  \n",
              "1     0.218744     0.273669  \n",
              "2     0.183976     0.415394  \n",
              "3     0.233389     0.804610  \n",
              "4     0.143897     0.390986  \n",
              "\n",
              "[5 rows x 2086 columns]"
            ]
          },
          "execution_count": 3,
          "metadata": {},
          "output_type": "execute_result"
        }
      ],
      "source": [
        "with open('/content/drive/MyDrive/Colab Notebooks/Real_Estate_VIS_features_S14a_2023/features.pkl', 'rb') as file: #dataset provided by Zona\n",
        "       con_data_all = pickle.load(file)\n",
        "con_data_all.fillna(-1, inplace=True)\n",
        "print(\"data shape: \", con_data_all.shape)\n",
        "con_data_all.head()"
      ]
    },
    {
      "cell_type": "code",
      "execution_count": 4,
      "metadata": {
        "colab": {
          "base_uri": "https://localhost:8080/"
        },
        "id": "d83sYIhBVVOi",
        "outputId": "5ac2a163-9816-4995-f298-0ef780572813"
      },
      "outputs": [
        {
          "data": {
            "text/plain": [
              "Index(['MLSNUM', 'LISTPRICE', 'SOLDPRICE', 'DOM', 'DTO', 'AGE', 'LOTSIZE',\n",
              "       'GARAGE', 'LISTMONTH', 'SOLDMONTH', 'LAT', 'LNG', 'beds', 'baths',\n",
              "       'sqft_unfinished', 'stories', 'year_built', 'year_renovated',\n",
              "       'parking_space', 'garage_space', 'hoa_fee',\n",
              "       'school_ratings_elementary_avg', 'school_number_elementary',\n",
              "       'school_distances_elementary_max', 'school_distances_elementary_min',\n",
              "       'school_ratings_middle_avg', 'school_number_middle',\n",
              "       'school_distances_middle_max', 'school_distances_middle_min',\n",
              "       'school_ratings_high_avg', 'school_number_high',\n",
              "       'school_distances_high_max', 'school_distances_high_min', 'walk_score',\n",
              "       'transit_score', 'bike_score', 'num_photo', 'sqft_finished', 'resnet_0',\n",
              "       'resnet_1'],\n",
              "      dtype='object')"
            ]
          },
          "execution_count": 4,
          "metadata": {},
          "output_type": "execute_result"
        }
      ],
      "source": [
        "con_data_all.columns[:40]"
      ]
    },
    {
      "cell_type": "code",
      "execution_count": 5,
      "metadata": {
        "colab": {
          "base_uri": "https://localhost:8080/"
        },
        "id": "hmajKcJjK6zk",
        "outputId": "cdbf8b68-f6dd-4cff-e96a-ea8e8a576d09"
      },
      "outputs": [
        {
          "name": "stdout",
          "output_type": "stream",
          "text": [
            "<class 'pandas.core.frame.DataFrame'>\n",
            "Int64Index: 40936 entries, 0 to 40937\n",
            "Data columns (total 9 columns):\n",
            " #   Column         Non-Null Count  Dtype  \n",
            "---  ------         --------------  -----  \n",
            " 0   SOLDPRICE      40936 non-null  float64\n",
            " 1   AGE            40936 non-null  float64\n",
            " 2   LOTSIZE        40936 non-null  float64\n",
            " 3   GARAGE         40936 non-null  float64\n",
            " 4   LAT            40936 non-null  float64\n",
            " 5   LNG            40936 non-null  float64\n",
            " 6   beds           40936 non-null  float64\n",
            " 7   baths          40936 non-null  float64\n",
            " 8   sqft_finished  40936 non-null  float64\n",
            "dtypes: float64(9)\n",
            "memory usage: 3.1 MB\n"
          ]
        }
      ],
      "source": [
        "data = con_data_all[['SOLDPRICE','AGE','LOTSIZE','GARAGE','LAT','LNG','beds','baths','sqft_finished']].copy()\n",
        "\n",
        "data.info(verbose=True) #no missing values"
      ]
    },
    {
      "cell_type": "code",
      "execution_count": 6,
      "metadata": {
        "colab": {
          "base_uri": "https://localhost:8080/"
        },
        "id": "NPPNknjf9_zO",
        "outputId": "a05c3f3c-7ffc-4549-e208-bb32f0c0fd93"
      },
      "outputs": [
        {
          "data": {
            "text/plain": [
              "Index(['resnet_0', 'resnet_1', 'resnet_2', 'resnet_3', 'resnet_4', 'resnet_5',\n",
              "       'resnet_6', 'resnet_7', 'resnet_8', 'resnet_9',\n",
              "       ...\n",
              "       'resnet_2038', 'resnet_2039', 'resnet_2040', 'resnet_2041',\n",
              "       'resnet_2042', 'resnet_2043', 'resnet_2044', 'resnet_2045',\n",
              "       'resnet_2046', 'resnet_2047'],\n",
              "      dtype='object', length=2048)"
            ]
          },
          "execution_count": 6,
          "metadata": {},
          "output_type": "execute_result"
        }
      ],
      "source": [
        "cnn_features = con_data_all.iloc[:,38:].copy()\n",
        "cnn_features.columns"
      ]
    },
    {
      "cell_type": "code",
      "execution_count": 7,
      "metadata": {
        "colab": {
          "base_uri": "https://localhost:8080/"
        },
        "id": "3CWsKjcw6fj9",
        "outputId": "2b8be5e7-255c-4cdc-e5cf-b73b33663ecf"
      },
      "outputs": [
        {
          "data": {
            "text/plain": [
              "0"
            ]
          },
          "execution_count": 7,
          "metadata": {},
          "output_type": "execute_result"
        }
      ],
      "source": [
        "cnn_features.isna().any().sum() #no missing values"
      ]
    },
    {
      "cell_type": "code",
      "execution_count": 8,
      "metadata": {
        "colab": {
          "base_uri": "https://localhost:8080/",
          "height": 300
        },
        "id": "x2G-wRDJ_hZt",
        "outputId": "b2234353-777a-4836-ec7e-756bd9e861b5"
      },
      "outputs": [
        {
          "data": {
            "text/html": [
              "\n",
              "\n",
              "  <div id=\"df-e6fc7bc7-7b76-4988-9bce-e704b7051396\">\n",
              "    <div class=\"colab-df-container\">\n",
              "      <div>\n",
              "<style scoped>\n",
              "    .dataframe tbody tr th:only-of-type {\n",
              "        vertical-align: middle;\n",
              "    }\n",
              "\n",
              "    .dataframe tbody tr th {\n",
              "        vertical-align: top;\n",
              "    }\n",
              "\n",
              "    .dataframe thead th {\n",
              "        text-align: right;\n",
              "    }\n",
              "</style>\n",
              "<table border=\"1\" class=\"dataframe\">\n",
              "  <thead>\n",
              "    <tr style=\"text-align: right;\">\n",
              "      <th></th>\n",
              "      <th>SOLDPRICE</th>\n",
              "      <th>AGE</th>\n",
              "      <th>LOTSIZE</th>\n",
              "      <th>GARAGE</th>\n",
              "      <th>LAT</th>\n",
              "      <th>LNG</th>\n",
              "      <th>beds</th>\n",
              "      <th>baths</th>\n",
              "      <th>sqft_finished</th>\n",
              "      <th>resnet_0</th>\n",
              "      <th>...</th>\n",
              "      <th>resnet_2038</th>\n",
              "      <th>resnet_2039</th>\n",
              "      <th>resnet_2040</th>\n",
              "      <th>resnet_2041</th>\n",
              "      <th>resnet_2042</th>\n",
              "      <th>resnet_2043</th>\n",
              "      <th>resnet_2044</th>\n",
              "      <th>resnet_2045</th>\n",
              "      <th>resnet_2046</th>\n",
              "      <th>resnet_2047</th>\n",
              "    </tr>\n",
              "  </thead>\n",
              "  <tbody>\n",
              "    <tr>\n",
              "      <th>0</th>\n",
              "      <td>177500.0</td>\n",
              "      <td>11.0</td>\n",
              "      <td>-1.0</td>\n",
              "      <td>2.0</td>\n",
              "      <td>42.834058</td>\n",
              "      <td>-71.000551</td>\n",
              "      <td>2.0</td>\n",
              "      <td>1.0</td>\n",
              "      <td>1122.0</td>\n",
              "      <td>0.253997</td>\n",
              "      <td>...</td>\n",
              "      <td>0.189716</td>\n",
              "      <td>0.112382</td>\n",
              "      <td>0.940322</td>\n",
              "      <td>0.104880</td>\n",
              "      <td>0.147426</td>\n",
              "      <td>0.343115</td>\n",
              "      <td>1.129136</td>\n",
              "      <td>0.181388</td>\n",
              "      <td>0.314849</td>\n",
              "      <td>0.385144</td>\n",
              "    </tr>\n",
              "    <tr>\n",
              "      <th>1</th>\n",
              "      <td>235000.0</td>\n",
              "      <td>14.0</td>\n",
              "      <td>-1.0</td>\n",
              "      <td>1.0</td>\n",
              "      <td>42.834058</td>\n",
              "      <td>-71.000551</td>\n",
              "      <td>2.0</td>\n",
              "      <td>2.0</td>\n",
              "      <td>1286.0</td>\n",
              "      <td>0.157962</td>\n",
              "      <td>...</td>\n",
              "      <td>0.189537</td>\n",
              "      <td>0.097927</td>\n",
              "      <td>2.036207</td>\n",
              "      <td>0.169374</td>\n",
              "      <td>0.386018</td>\n",
              "      <td>0.159283</td>\n",
              "      <td>0.267450</td>\n",
              "      <td>1.027563</td>\n",
              "      <td>0.218744</td>\n",
              "      <td>0.273669</td>\n",
              "    </tr>\n",
              "    <tr>\n",
              "      <th>2</th>\n",
              "      <td>209000.0</td>\n",
              "      <td>32.0</td>\n",
              "      <td>-1.0</td>\n",
              "      <td>0.0</td>\n",
              "      <td>42.834058</td>\n",
              "      <td>-71.000551</td>\n",
              "      <td>2.0</td>\n",
              "      <td>1.5</td>\n",
              "      <td>1216.0</td>\n",
              "      <td>0.139278</td>\n",
              "      <td>...</td>\n",
              "      <td>0.054234</td>\n",
              "      <td>0.028724</td>\n",
              "      <td>0.801957</td>\n",
              "      <td>0.303854</td>\n",
              "      <td>0.065759</td>\n",
              "      <td>0.098864</td>\n",
              "      <td>0.784945</td>\n",
              "      <td>1.562056</td>\n",
              "      <td>0.183976</td>\n",
              "      <td>0.415394</td>\n",
              "    </tr>\n",
              "    <tr>\n",
              "      <th>3</th>\n",
              "      <td>350695.0</td>\n",
              "      <td>3.0</td>\n",
              "      <td>-1.0</td>\n",
              "      <td>1.0</td>\n",
              "      <td>42.834058</td>\n",
              "      <td>-71.000551</td>\n",
              "      <td>2.0</td>\n",
              "      <td>1.5</td>\n",
              "      <td>1210.0</td>\n",
              "      <td>0.280417</td>\n",
              "      <td>...</td>\n",
              "      <td>0.149968</td>\n",
              "      <td>0.252659</td>\n",
              "      <td>2.011606</td>\n",
              "      <td>0.069289</td>\n",
              "      <td>0.159074</td>\n",
              "      <td>0.057379</td>\n",
              "      <td>1.281780</td>\n",
              "      <td>0.975176</td>\n",
              "      <td>0.233389</td>\n",
              "      <td>0.804610</td>\n",
              "    </tr>\n",
              "    <tr>\n",
              "      <th>4</th>\n",
              "      <td>280000.0</td>\n",
              "      <td>10.0</td>\n",
              "      <td>-1.0</td>\n",
              "      <td>1.0</td>\n",
              "      <td>42.834058</td>\n",
              "      <td>-71.000551</td>\n",
              "      <td>2.0</td>\n",
              "      <td>1.5</td>\n",
              "      <td>1683.0</td>\n",
              "      <td>0.217954</td>\n",
              "      <td>...</td>\n",
              "      <td>0.091527</td>\n",
              "      <td>0.222217</td>\n",
              "      <td>1.062608</td>\n",
              "      <td>0.104116</td>\n",
              "      <td>0.112099</td>\n",
              "      <td>0.135850</td>\n",
              "      <td>1.107761</td>\n",
              "      <td>0.381154</td>\n",
              "      <td>0.143897</td>\n",
              "      <td>0.390986</td>\n",
              "    </tr>\n",
              "  </tbody>\n",
              "</table>\n",
              "<p>5 rows × 2057 columns</p>\n",
              "</div>\n",
              "      <button class=\"colab-df-convert\" onclick=\"convertToInteractive('df-e6fc7bc7-7b76-4988-9bce-e704b7051396')\"\n",
              "              title=\"Convert this dataframe to an interactive table.\"\n",
              "              style=\"display:none;\">\n",
              "\n",
              "  <svg xmlns=\"http://www.w3.org/2000/svg\" height=\"24px\"viewBox=\"0 0 24 24\"\n",
              "       width=\"24px\">\n",
              "    <path d=\"M0 0h24v24H0V0z\" fill=\"none\"/>\n",
              "    <path d=\"M18.56 5.44l.94 2.06.94-2.06 2.06-.94-2.06-.94-.94-2.06-.94 2.06-2.06.94zm-11 1L8.5 8.5l.94-2.06 2.06-.94-2.06-.94L8.5 2.5l-.94 2.06-2.06.94zm10 10l.94 2.06.94-2.06 2.06-.94-2.06-.94-.94-2.06-.94 2.06-2.06.94z\"/><path d=\"M17.41 7.96l-1.37-1.37c-.4-.4-.92-.59-1.43-.59-.52 0-1.04.2-1.43.59L10.3 9.45l-7.72 7.72c-.78.78-.78 2.05 0 2.83L4 21.41c.39.39.9.59 1.41.59.51 0 1.02-.2 1.41-.59l7.78-7.78 2.81-2.81c.8-.78.8-2.07 0-2.86zM5.41 20L4 18.59l7.72-7.72 1.47 1.35L5.41 20z\"/>\n",
              "  </svg>\n",
              "      </button>\n",
              "\n",
              "\n",
              "\n",
              "    <div id=\"df-df1cf04f-92c3-4293-88c9-cd4805e9f7ef\">\n",
              "      <button class=\"colab-df-quickchart\" onclick=\"quickchart('df-df1cf04f-92c3-4293-88c9-cd4805e9f7ef')\"\n",
              "              title=\"Suggest charts.\"\n",
              "              style=\"display:none;\">\n",
              "\n",
              "<svg xmlns=\"http://www.w3.org/2000/svg\" height=\"24px\"viewBox=\"0 0 24 24\"\n",
              "     width=\"24px\">\n",
              "    <g>\n",
              "        <path d=\"M19 3H5c-1.1 0-2 .9-2 2v14c0 1.1.9 2 2 2h14c1.1 0 2-.9 2-2V5c0-1.1-.9-2-2-2zM9 17H7v-7h2v7zm4 0h-2V7h2v10zm4 0h-2v-4h2v4z\"/>\n",
              "    </g>\n",
              "</svg>\n",
              "      </button>\n",
              "    </div>\n",
              "\n",
              "<style>\n",
              "  .colab-df-quickchart {\n",
              "    background-color: #E8F0FE;\n",
              "    border: none;\n",
              "    border-radius: 50%;\n",
              "    cursor: pointer;\n",
              "    display: none;\n",
              "    fill: #1967D2;\n",
              "    height: 32px;\n",
              "    padding: 0 0 0 0;\n",
              "    width: 32px;\n",
              "  }\n",
              "\n",
              "  .colab-df-quickchart:hover {\n",
              "    background-color: #E2EBFA;\n",
              "    box-shadow: 0px 1px 2px rgba(60, 64, 67, 0.3), 0px 1px 3px 1px rgba(60, 64, 67, 0.15);\n",
              "    fill: #174EA6;\n",
              "  }\n",
              "\n",
              "  [theme=dark] .colab-df-quickchart {\n",
              "    background-color: #3B4455;\n",
              "    fill: #D2E3FC;\n",
              "  }\n",
              "\n",
              "  [theme=dark] .colab-df-quickchart:hover {\n",
              "    background-color: #434B5C;\n",
              "    box-shadow: 0px 1px 3px 1px rgba(0, 0, 0, 0.15);\n",
              "    filter: drop-shadow(0px 1px 2px rgba(0, 0, 0, 0.3));\n",
              "    fill: #FFFFFF;\n",
              "  }\n",
              "</style>\n",
              "\n",
              "    <script>\n",
              "      async function quickchart(key) {\n",
              "        const containerElement = document.querySelector('#' + key);\n",
              "        const charts = await google.colab.kernel.invokeFunction(\n",
              "            'suggestCharts', [key], {});\n",
              "      }\n",
              "    </script>\n",
              "\n",
              "      <script>\n",
              "\n",
              "function displayQuickchartButton(domScope) {\n",
              "  let quickchartButtonEl =\n",
              "    domScope.querySelector('#df-df1cf04f-92c3-4293-88c9-cd4805e9f7ef button.colab-df-quickchart');\n",
              "  quickchartButtonEl.style.display =\n",
              "    google.colab.kernel.accessAllowed ? 'block' : 'none';\n",
              "}\n",
              "\n",
              "        displayQuickchartButton(document);\n",
              "      </script>\n",
              "      <style>\n",
              "    .colab-df-container {\n",
              "      display:flex;\n",
              "      flex-wrap:wrap;\n",
              "      gap: 12px;\n",
              "    }\n",
              "\n",
              "    .colab-df-convert {\n",
              "      background-color: #E8F0FE;\n",
              "      border: none;\n",
              "      border-radius: 50%;\n",
              "      cursor: pointer;\n",
              "      display: none;\n",
              "      fill: #1967D2;\n",
              "      height: 32px;\n",
              "      padding: 0 0 0 0;\n",
              "      width: 32px;\n",
              "    }\n",
              "\n",
              "    .colab-df-convert:hover {\n",
              "      background-color: #E2EBFA;\n",
              "      box-shadow: 0px 1px 2px rgba(60, 64, 67, 0.3), 0px 1px 3px 1px rgba(60, 64, 67, 0.15);\n",
              "      fill: #174EA6;\n",
              "    }\n",
              "\n",
              "    [theme=dark] .colab-df-convert {\n",
              "      background-color: #3B4455;\n",
              "      fill: #D2E3FC;\n",
              "    }\n",
              "\n",
              "    [theme=dark] .colab-df-convert:hover {\n",
              "      background-color: #434B5C;\n",
              "      box-shadow: 0px 1px 3px 1px rgba(0, 0, 0, 0.15);\n",
              "      filter: drop-shadow(0px 1px 2px rgba(0, 0, 0, 0.3));\n",
              "      fill: #FFFFFF;\n",
              "    }\n",
              "  </style>\n",
              "\n",
              "      <script>\n",
              "        const buttonEl =\n",
              "          document.querySelector('#df-e6fc7bc7-7b76-4988-9bce-e704b7051396 button.colab-df-convert');\n",
              "        buttonEl.style.display =\n",
              "          google.colab.kernel.accessAllowed ? 'block' : 'none';\n",
              "\n",
              "        async function convertToInteractive(key) {\n",
              "          const element = document.querySelector('#df-e6fc7bc7-7b76-4988-9bce-e704b7051396');\n",
              "          const dataTable =\n",
              "            await google.colab.kernel.invokeFunction('convertToInteractive',\n",
              "                                                     [key], {});\n",
              "          if (!dataTable) return;\n",
              "\n",
              "          const docLinkHtml = 'Like what you see? Visit the ' +\n",
              "            '<a target=\"_blank\" href=https://colab.research.google.com/notebooks/data_table.ipynb>data table notebook</a>'\n",
              "            + ' to learn more about interactive tables.';\n",
              "          element.innerHTML = '';\n",
              "          dataTable['output_type'] = 'display_data';\n",
              "          await google.colab.output.renderOutput(dataTable, element);\n",
              "          const docLink = document.createElement('div');\n",
              "          docLink.innerHTML = docLinkHtml;\n",
              "          element.appendChild(docLink);\n",
              "        }\n",
              "      </script>\n",
              "    </div>\n",
              "  </div>\n"
            ],
            "text/plain": [
              "   SOLDPRICE   AGE  LOTSIZE  GARAGE        LAT        LNG  beds  baths  \\\n",
              "0   177500.0  11.0     -1.0     2.0  42.834058 -71.000551   2.0    1.0   \n",
              "1   235000.0  14.0     -1.0     1.0  42.834058 -71.000551   2.0    2.0   \n",
              "2   209000.0  32.0     -1.0     0.0  42.834058 -71.000551   2.0    1.5   \n",
              "3   350695.0   3.0     -1.0     1.0  42.834058 -71.000551   2.0    1.5   \n",
              "4   280000.0  10.0     -1.0     1.0  42.834058 -71.000551   2.0    1.5   \n",
              "\n",
              "   sqft_finished  resnet_0  ...  resnet_2038  resnet_2039  resnet_2040  \\\n",
              "0         1122.0  0.253997  ...     0.189716     0.112382     0.940322   \n",
              "1         1286.0  0.157962  ...     0.189537     0.097927     2.036207   \n",
              "2         1216.0  0.139278  ...     0.054234     0.028724     0.801957   \n",
              "3         1210.0  0.280417  ...     0.149968     0.252659     2.011606   \n",
              "4         1683.0  0.217954  ...     0.091527     0.222217     1.062608   \n",
              "\n",
              "   resnet_2041  resnet_2042  resnet_2043  resnet_2044  resnet_2045  \\\n",
              "0     0.104880     0.147426     0.343115     1.129136     0.181388   \n",
              "1     0.169374     0.386018     0.159283     0.267450     1.027563   \n",
              "2     0.303854     0.065759     0.098864     0.784945     1.562056   \n",
              "3     0.069289     0.159074     0.057379     1.281780     0.975176   \n",
              "4     0.104116     0.112099     0.135850     1.107761     0.381154   \n",
              "\n",
              "   resnet_2046  resnet_2047  \n",
              "0     0.314849     0.385144  \n",
              "1     0.218744     0.273669  \n",
              "2     0.183976     0.415394  \n",
              "3     0.233389     0.804610  \n",
              "4     0.143897     0.390986  \n",
              "\n",
              "[5 rows x 2057 columns]"
            ]
          },
          "execution_count": 8,
          "metadata": {},
          "output_type": "execute_result"
        }
      ],
      "source": [
        "data = pd.concat([data,cnn_features], axis=1)\n",
        "data.reset_index(drop=True)\n",
        "data.head()"
      ]
    },
    {
      "cell_type": "code",
      "execution_count": 9,
      "metadata": {
        "id": "bHflBBcsUACO"
      },
      "outputs": [],
      "source": [
        "#building model w/ SOLDPRICE as target\n",
        "x = data.drop('SOLDPRICE', axis=1)\n",
        "y = data.SOLDPRICE\n",
        "x_train, x_val, y_train, y_val = train_test_split(x, y, test_size=.2, random_state=123)"
      ]
    },
    {
      "cell_type": "markdown",
      "metadata": {
        "id": "WTRu2uvsu7do"
      },
      "source": [
        "Standardize values so variables with wider range don't have outsized influence."
      ]
    },
    {
      "cell_type": "code",
      "execution_count": null,
      "metadata": {
        "id": "A5crh4ulUns2"
      },
      "outputs": [],
      "source": [
        "scaler = StandardScaler()\n",
        "x_train_scaled = scaler.fit_transform(x_train)\n",
        "x_train_scaled = pd.DataFrame(x_train_scaled, columns=x_train.columns)"
      ]
    },
    {
      "cell_type": "code",
      "execution_count": null,
      "metadata": {
        "colab": {
          "base_uri": "https://localhost:8080/",
          "height": 480
        },
        "id": "cpP3wOzxVPvE",
        "outputId": "eeb8b3cc-e95d-44dc-b9d0-3effb8806f05"
      },
      "outputs": [
        {
          "data": {
            "text/html": [
              "\n",
              "\n",
              "  <div id=\"df-0fd64f19-95eb-4877-b64b-b18fbbaf2e57\">\n",
              "    <div class=\"colab-df-container\">\n",
              "      <div>\n",
              "<style scoped>\n",
              "    .dataframe tbody tr th:only-of-type {\n",
              "        vertical-align: middle;\n",
              "    }\n",
              "\n",
              "    .dataframe tbody tr th {\n",
              "        vertical-align: top;\n",
              "    }\n",
              "\n",
              "    .dataframe thead th {\n",
              "        text-align: right;\n",
              "    }\n",
              "</style>\n",
              "<table border=\"1\" class=\"dataframe\">\n",
              "  <thead>\n",
              "    <tr style=\"text-align: right;\">\n",
              "      <th></th>\n",
              "      <th>AGE</th>\n",
              "      <th>LOTSIZE</th>\n",
              "      <th>GARAGE</th>\n",
              "      <th>LAT</th>\n",
              "      <th>LNG</th>\n",
              "      <th>beds</th>\n",
              "      <th>baths</th>\n",
              "      <th>sqft_finished</th>\n",
              "      <th>resnet_0</th>\n",
              "      <th>resnet_1</th>\n",
              "      <th>...</th>\n",
              "      <th>resnet_2038</th>\n",
              "      <th>resnet_2039</th>\n",
              "      <th>resnet_2040</th>\n",
              "      <th>resnet_2041</th>\n",
              "      <th>resnet_2042</th>\n",
              "      <th>resnet_2043</th>\n",
              "      <th>resnet_2044</th>\n",
              "      <th>resnet_2045</th>\n",
              "      <th>resnet_2046</th>\n",
              "      <th>resnet_2047</th>\n",
              "    </tr>\n",
              "  </thead>\n",
              "  <tbody>\n",
              "    <tr>\n",
              "      <th>count</th>\n",
              "      <td>3.274800e+04</td>\n",
              "      <td>3.274800e+04</td>\n",
              "      <td>3.274800e+04</td>\n",
              "      <td>3.274800e+04</td>\n",
              "      <td>3.274800e+04</td>\n",
              "      <td>3.274800e+04</td>\n",
              "      <td>3.274800e+04</td>\n",
              "      <td>3.274800e+04</td>\n",
              "      <td>3.274800e+04</td>\n",
              "      <td>3.274800e+04</td>\n",
              "      <td>...</td>\n",
              "      <td>3.274800e+04</td>\n",
              "      <td>3.274800e+04</td>\n",
              "      <td>3.274800e+04</td>\n",
              "      <td>3.274800e+04</td>\n",
              "      <td>3.274800e+04</td>\n",
              "      <td>3.274800e+04</td>\n",
              "      <td>3.274800e+04</td>\n",
              "      <td>3.274800e+04</td>\n",
              "      <td>3.274800e+04</td>\n",
              "      <td>3.274800e+04</td>\n",
              "    </tr>\n",
              "    <tr>\n",
              "      <th>mean</th>\n",
              "      <td>-1.366929e-17</td>\n",
              "      <td>-2.603674e-18</td>\n",
              "      <td>2.581977e-17</td>\n",
              "      <td>-1.757090e-14</td>\n",
              "      <td>-4.252234e-15</td>\n",
              "      <td>-6.682764e-17</td>\n",
              "      <td>-9.546806e-17</td>\n",
              "      <td>2.082939e-17</td>\n",
              "      <td>3.992301e-17</td>\n",
              "      <td>-1.605599e-17</td>\n",
              "      <td>...</td>\n",
              "      <td>-3.297988e-17</td>\n",
              "      <td>4.339457e-19</td>\n",
              "      <td>-3.966264e-16</td>\n",
              "      <td>-3.124409e-17</td>\n",
              "      <td>1.779177e-17</td>\n",
              "      <td>2.256518e-17</td>\n",
              "      <td>1.438530e-16</td>\n",
              "      <td>-8.635520e-17</td>\n",
              "      <td>4.860192e-17</td>\n",
              "      <td>1.787856e-16</td>\n",
              "    </tr>\n",
              "    <tr>\n",
              "      <th>std</th>\n",
              "      <td>1.000015e+00</td>\n",
              "      <td>1.000015e+00</td>\n",
              "      <td>1.000015e+00</td>\n",
              "      <td>1.000015e+00</td>\n",
              "      <td>1.000015e+00</td>\n",
              "      <td>1.000015e+00</td>\n",
              "      <td>1.000015e+00</td>\n",
              "      <td>1.000015e+00</td>\n",
              "      <td>1.000015e+00</td>\n",
              "      <td>1.000015e+00</td>\n",
              "      <td>...</td>\n",
              "      <td>1.000015e+00</td>\n",
              "      <td>1.000015e+00</td>\n",
              "      <td>1.000015e+00</td>\n",
              "      <td>1.000015e+00</td>\n",
              "      <td>1.000015e+00</td>\n",
              "      <td>1.000015e+00</td>\n",
              "      <td>1.000015e+00</td>\n",
              "      <td>1.000015e+00</td>\n",
              "      <td>1.000015e+00</td>\n",
              "      <td>1.000015e+00</td>\n",
              "    </tr>\n",
              "    <tr>\n",
              "      <th>min</th>\n",
              "      <td>-1.085790e+00</td>\n",
              "      <td>-3.929190e-02</td>\n",
              "      <td>-7.294111e-01</td>\n",
              "      <td>-4.657371e+00</td>\n",
              "      <td>-5.082222e+00</td>\n",
              "      <td>-2.891833e+00</td>\n",
              "      <td>-2.721913e+00</td>\n",
              "      <td>-1.330204e+00</td>\n",
              "      <td>-3.952009e+00</td>\n",
              "      <td>-3.509313e+00</td>\n",
              "      <td>...</td>\n",
              "      <td>-3.790821e+00</td>\n",
              "      <td>-3.770978e+00</td>\n",
              "      <td>-3.064302e+00</td>\n",
              "      <td>-4.018464e+00</td>\n",
              "      <td>-3.873330e+00</td>\n",
              "      <td>-3.959652e+00</td>\n",
              "      <td>-2.733606e+00</td>\n",
              "      <td>-3.152796e+00</td>\n",
              "      <td>-3.783271e+00</td>\n",
              "      <td>-3.555566e+00</td>\n",
              "    </tr>\n",
              "    <tr>\n",
              "      <th>25%</th>\n",
              "      <td>-7.824783e-01</td>\n",
              "      <td>-3.929190e-02</td>\n",
              "      <td>-7.294111e-01</td>\n",
              "      <td>-3.735710e-01</td>\n",
              "      <td>-2.363593e-01</td>\n",
              "      <td>7.430131e-02</td>\n",
              "      <td>-6.189011e-01</td>\n",
              "      <td>-4.389579e-01</td>\n",
              "      <td>2.922308e-02</td>\n",
              "      <td>-2.063450e-01</td>\n",
              "      <td>...</td>\n",
              "      <td>-5.025886e-02</td>\n",
              "      <td>-7.919204e-02</td>\n",
              "      <td>-3.316130e-01</td>\n",
              "      <td>7.805674e-02</td>\n",
              "      <td>-3.355024e-02</td>\n",
              "      <td>2.161510e-02</td>\n",
              "      <td>-3.684463e-01</td>\n",
              "      <td>-3.266309e-01</td>\n",
              "      <td>-1.014698e-01</td>\n",
              "      <td>-1.780260e-01</td>\n",
              "    </tr>\n",
              "    <tr>\n",
              "      <th>50%</th>\n",
              "      <td>-3.780630e-01</td>\n",
              "      <td>-3.929190e-02</td>\n",
              "      <td>-7.294111e-01</td>\n",
              "      <td>4.584488e-02</td>\n",
              "      <td>2.301910e-01</td>\n",
              "      <td>7.430131e-02</td>\n",
              "      <td>-9.314823e-02</td>\n",
              "      <td>-1.052685e-01</td>\n",
              "      <td>1.858795e-01</td>\n",
              "      <td>1.525960e-01</td>\n",
              "      <td>...</td>\n",
              "      <td>1.079812e-01</td>\n",
              "      <td>1.165017e-01</td>\n",
              "      <td>6.773720e-02</td>\n",
              "      <td>2.031781e-01</td>\n",
              "      <td>1.620233e-01</td>\n",
              "      <td>1.922465e-01</td>\n",
              "      <td>4.550335e-03</td>\n",
              "      <td>2.212401e-02</td>\n",
              "      <td>1.485188e-01</td>\n",
              "      <td>1.019387e-01</td>\n",
              "    </tr>\n",
              "    <tr>\n",
              "      <th>75%</th>\n",
              "      <td>9.160657e-01</td>\n",
              "      <td>-3.929137e-02</td>\n",
              "      <td>6.491746e-01</td>\n",
              "      <td>5.145127e-01</td>\n",
              "      <td>4.334339e-01</td>\n",
              "      <td>7.430131e-02</td>\n",
              "      <td>4.326047e-01</td>\n",
              "      <td>3.498584e-01</td>\n",
              "      <td>3.567496e-01</td>\n",
              "      <td>5.120242e-01</td>\n",
              "      <td>...</td>\n",
              "      <td>3.388440e-01</td>\n",
              "      <td>3.718041e-01</td>\n",
              "      <td>4.924234e-01</td>\n",
              "      <td>3.384714e-01</td>\n",
              "      <td>3.861419e-01</td>\n",
              "      <td>3.691297e-01</td>\n",
              "      <td>4.329087e-01</td>\n",
              "      <td>4.686341e-01</td>\n",
              "      <td>4.250211e-01</td>\n",
              "      <td>4.405336e-01</td>\n",
              "    </tr>\n",
              "    <tr>\n",
              "      <th>max</th>\n",
              "      <td>3.630240e+01</td>\n",
              "      <td>5.214341e+01</td>\n",
              "      <td>2.270655e+01</td>\n",
              "      <td>2.252978e+00</td>\n",
              "      <td>3.161725e+00</td>\n",
              "      <td>6.006571e+00</td>\n",
              "      <td>2.093697e+01</td>\n",
              "      <td>1.042677e+02</td>\n",
              "      <td>4.212908e+00</td>\n",
              "      <td>4.224597e+00</td>\n",
              "      <td>...</td>\n",
              "      <td>8.295354e+00</td>\n",
              "      <td>8.392655e+00</td>\n",
              "      <td>7.474513e+00</td>\n",
              "      <td>5.580826e+00</td>\n",
              "      <td>5.750705e+00</td>\n",
              "      <td>5.616676e+00</td>\n",
              "      <td>1.047867e+01</td>\n",
              "      <td>7.759469e+00</td>\n",
              "      <td>6.010966e+00</td>\n",
              "      <td>5.643211e+00</td>\n",
              "    </tr>\n",
              "  </tbody>\n",
              "</table>\n",
              "<p>8 rows × 2056 columns</p>\n",
              "</div>\n",
              "      <button class=\"colab-df-convert\" onclick=\"convertToInteractive('df-0fd64f19-95eb-4877-b64b-b18fbbaf2e57')\"\n",
              "              title=\"Convert this dataframe to an interactive table.\"\n",
              "              style=\"display:none;\">\n",
              "\n",
              "  <svg xmlns=\"http://www.w3.org/2000/svg\" height=\"24px\"viewBox=\"0 0 24 24\"\n",
              "       width=\"24px\">\n",
              "    <path d=\"M0 0h24v24H0V0z\" fill=\"none\"/>\n",
              "    <path d=\"M18.56 5.44l.94 2.06.94-2.06 2.06-.94-2.06-.94-.94-2.06-.94 2.06-2.06.94zm-11 1L8.5 8.5l.94-2.06 2.06-.94-2.06-.94L8.5 2.5l-.94 2.06-2.06.94zm10 10l.94 2.06.94-2.06 2.06-.94-2.06-.94-.94-2.06-.94 2.06-2.06.94z\"/><path d=\"M17.41 7.96l-1.37-1.37c-.4-.4-.92-.59-1.43-.59-.52 0-1.04.2-1.43.59L10.3 9.45l-7.72 7.72c-.78.78-.78 2.05 0 2.83L4 21.41c.39.39.9.59 1.41.59.51 0 1.02-.2 1.41-.59l7.78-7.78 2.81-2.81c.8-.78.8-2.07 0-2.86zM5.41 20L4 18.59l7.72-7.72 1.47 1.35L5.41 20z\"/>\n",
              "  </svg>\n",
              "      </button>\n",
              "\n",
              "\n",
              "\n",
              "    <div id=\"df-d65a5410-c62f-4adc-b822-c3702f14d546\">\n",
              "      <button class=\"colab-df-quickchart\" onclick=\"quickchart('df-d65a5410-c62f-4adc-b822-c3702f14d546')\"\n",
              "              title=\"Suggest charts.\"\n",
              "              style=\"display:none;\">\n",
              "\n",
              "<svg xmlns=\"http://www.w3.org/2000/svg\" height=\"24px\"viewBox=\"0 0 24 24\"\n",
              "     width=\"24px\">\n",
              "    <g>\n",
              "        <path d=\"M19 3H5c-1.1 0-2 .9-2 2v14c0 1.1.9 2 2 2h14c1.1 0 2-.9 2-2V5c0-1.1-.9-2-2-2zM9 17H7v-7h2v7zm4 0h-2V7h2v10zm4 0h-2v-4h2v4z\"/>\n",
              "    </g>\n",
              "</svg>\n",
              "      </button>\n",
              "    </div>\n",
              "\n",
              "<style>\n",
              "  .colab-df-quickchart {\n",
              "    background-color: #E8F0FE;\n",
              "    border: none;\n",
              "    border-radius: 50%;\n",
              "    cursor: pointer;\n",
              "    display: none;\n",
              "    fill: #1967D2;\n",
              "    height: 32px;\n",
              "    padding: 0 0 0 0;\n",
              "    width: 32px;\n",
              "  }\n",
              "\n",
              "  .colab-df-quickchart:hover {\n",
              "    background-color: #E2EBFA;\n",
              "    box-shadow: 0px 1px 2px rgba(60, 64, 67, 0.3), 0px 1px 3px 1px rgba(60, 64, 67, 0.15);\n",
              "    fill: #174EA6;\n",
              "  }\n",
              "\n",
              "  [theme=dark] .colab-df-quickchart {\n",
              "    background-color: #3B4455;\n",
              "    fill: #D2E3FC;\n",
              "  }\n",
              "\n",
              "  [theme=dark] .colab-df-quickchart:hover {\n",
              "    background-color: #434B5C;\n",
              "    box-shadow: 0px 1px 3px 1px rgba(0, 0, 0, 0.15);\n",
              "    filter: drop-shadow(0px 1px 2px rgba(0, 0, 0, 0.3));\n",
              "    fill: #FFFFFF;\n",
              "  }\n",
              "</style>\n",
              "\n",
              "    <script>\n",
              "      async function quickchart(key) {\n",
              "        const containerElement = document.querySelector('#' + key);\n",
              "        const charts = await google.colab.kernel.invokeFunction(\n",
              "            'suggestCharts', [key], {});\n",
              "      }\n",
              "    </script>\n",
              "\n",
              "      <script>\n",
              "\n",
              "function displayQuickchartButton(domScope) {\n",
              "  let quickchartButtonEl =\n",
              "    domScope.querySelector('#df-d65a5410-c62f-4adc-b822-c3702f14d546 button.colab-df-quickchart');\n",
              "  quickchartButtonEl.style.display =\n",
              "    google.colab.kernel.accessAllowed ? 'block' : 'none';\n",
              "}\n",
              "\n",
              "        displayQuickchartButton(document);\n",
              "      </script>\n",
              "      <style>\n",
              "    .colab-df-container {\n",
              "      display:flex;\n",
              "      flex-wrap:wrap;\n",
              "      gap: 12px;\n",
              "    }\n",
              "\n",
              "    .colab-df-convert {\n",
              "      background-color: #E8F0FE;\n",
              "      border: none;\n",
              "      border-radius: 50%;\n",
              "      cursor: pointer;\n",
              "      display: none;\n",
              "      fill: #1967D2;\n",
              "      height: 32px;\n",
              "      padding: 0 0 0 0;\n",
              "      width: 32px;\n",
              "    }\n",
              "\n",
              "    .colab-df-convert:hover {\n",
              "      background-color: #E2EBFA;\n",
              "      box-shadow: 0px 1px 2px rgba(60, 64, 67, 0.3), 0px 1px 3px 1px rgba(60, 64, 67, 0.15);\n",
              "      fill: #174EA6;\n",
              "    }\n",
              "\n",
              "    [theme=dark] .colab-df-convert {\n",
              "      background-color: #3B4455;\n",
              "      fill: #D2E3FC;\n",
              "    }\n",
              "\n",
              "    [theme=dark] .colab-df-convert:hover {\n",
              "      background-color: #434B5C;\n",
              "      box-shadow: 0px 1px 3px 1px rgba(0, 0, 0, 0.15);\n",
              "      filter: drop-shadow(0px 1px 2px rgba(0, 0, 0, 0.3));\n",
              "      fill: #FFFFFF;\n",
              "    }\n",
              "  </style>\n",
              "\n",
              "      <script>\n",
              "        const buttonEl =\n",
              "          document.querySelector('#df-0fd64f19-95eb-4877-b64b-b18fbbaf2e57 button.colab-df-convert');\n",
              "        buttonEl.style.display =\n",
              "          google.colab.kernel.accessAllowed ? 'block' : 'none';\n",
              "\n",
              "        async function convertToInteractive(key) {\n",
              "          const element = document.querySelector('#df-0fd64f19-95eb-4877-b64b-b18fbbaf2e57');\n",
              "          const dataTable =\n",
              "            await google.colab.kernel.invokeFunction('convertToInteractive',\n",
              "                                                     [key], {});\n",
              "          if (!dataTable) return;\n",
              "\n",
              "          const docLinkHtml = 'Like what you see? Visit the ' +\n",
              "            '<a target=\"_blank\" href=https://colab.research.google.com/notebooks/data_table.ipynb>data table notebook</a>'\n",
              "            + ' to learn more about interactive tables.';\n",
              "          element.innerHTML = '';\n",
              "          dataTable['output_type'] = 'display_data';\n",
              "          await google.colab.output.renderOutput(dataTable, element);\n",
              "          const docLink = document.createElement('div');\n",
              "          docLink.innerHTML = docLinkHtml;\n",
              "          element.appendChild(docLink);\n",
              "        }\n",
              "      </script>\n",
              "    </div>\n",
              "  </div>\n"
            ],
            "text/plain": [
              "                AGE       LOTSIZE        GARAGE           LAT           LNG  \\\n",
              "count  3.274800e+04  3.274800e+04  3.274800e+04  3.274800e+04  3.274800e+04   \n",
              "mean  -1.366929e-17 -2.603674e-18  2.581977e-17 -1.757090e-14 -4.252234e-15   \n",
              "std    1.000015e+00  1.000015e+00  1.000015e+00  1.000015e+00  1.000015e+00   \n",
              "min   -1.085790e+00 -3.929190e-02 -7.294111e-01 -4.657371e+00 -5.082222e+00   \n",
              "25%   -7.824783e-01 -3.929190e-02 -7.294111e-01 -3.735710e-01 -2.363593e-01   \n",
              "50%   -3.780630e-01 -3.929190e-02 -7.294111e-01  4.584488e-02  2.301910e-01   \n",
              "75%    9.160657e-01 -3.929137e-02  6.491746e-01  5.145127e-01  4.334339e-01   \n",
              "max    3.630240e+01  5.214341e+01  2.270655e+01  2.252978e+00  3.161725e+00   \n",
              "\n",
              "               beds         baths  sqft_finished      resnet_0      resnet_1  \\\n",
              "count  3.274800e+04  3.274800e+04   3.274800e+04  3.274800e+04  3.274800e+04   \n",
              "mean  -6.682764e-17 -9.546806e-17   2.082939e-17  3.992301e-17 -1.605599e-17   \n",
              "std    1.000015e+00  1.000015e+00   1.000015e+00  1.000015e+00  1.000015e+00   \n",
              "min   -2.891833e+00 -2.721913e+00  -1.330204e+00 -3.952009e+00 -3.509313e+00   \n",
              "25%    7.430131e-02 -6.189011e-01  -4.389579e-01  2.922308e-02 -2.063450e-01   \n",
              "50%    7.430131e-02 -9.314823e-02  -1.052685e-01  1.858795e-01  1.525960e-01   \n",
              "75%    7.430131e-02  4.326047e-01   3.498584e-01  3.567496e-01  5.120242e-01   \n",
              "max    6.006571e+00  2.093697e+01   1.042677e+02  4.212908e+00  4.224597e+00   \n",
              "\n",
              "       ...   resnet_2038   resnet_2039   resnet_2040   resnet_2041  \\\n",
              "count  ...  3.274800e+04  3.274800e+04  3.274800e+04  3.274800e+04   \n",
              "mean   ... -3.297988e-17  4.339457e-19 -3.966264e-16 -3.124409e-17   \n",
              "std    ...  1.000015e+00  1.000015e+00  1.000015e+00  1.000015e+00   \n",
              "min    ... -3.790821e+00 -3.770978e+00 -3.064302e+00 -4.018464e+00   \n",
              "25%    ... -5.025886e-02 -7.919204e-02 -3.316130e-01  7.805674e-02   \n",
              "50%    ...  1.079812e-01  1.165017e-01  6.773720e-02  2.031781e-01   \n",
              "75%    ...  3.388440e-01  3.718041e-01  4.924234e-01  3.384714e-01   \n",
              "max    ...  8.295354e+00  8.392655e+00  7.474513e+00  5.580826e+00   \n",
              "\n",
              "        resnet_2042   resnet_2043   resnet_2044   resnet_2045   resnet_2046  \\\n",
              "count  3.274800e+04  3.274800e+04  3.274800e+04  3.274800e+04  3.274800e+04   \n",
              "mean   1.779177e-17  2.256518e-17  1.438530e-16 -8.635520e-17  4.860192e-17   \n",
              "std    1.000015e+00  1.000015e+00  1.000015e+00  1.000015e+00  1.000015e+00   \n",
              "min   -3.873330e+00 -3.959652e+00 -2.733606e+00 -3.152796e+00 -3.783271e+00   \n",
              "25%   -3.355024e-02  2.161510e-02 -3.684463e-01 -3.266309e-01 -1.014698e-01   \n",
              "50%    1.620233e-01  1.922465e-01  4.550335e-03  2.212401e-02  1.485188e-01   \n",
              "75%    3.861419e-01  3.691297e-01  4.329087e-01  4.686341e-01  4.250211e-01   \n",
              "max    5.750705e+00  5.616676e+00  1.047867e+01  7.759469e+00  6.010966e+00   \n",
              "\n",
              "        resnet_2047  \n",
              "count  3.274800e+04  \n",
              "mean   1.787856e-16  \n",
              "std    1.000015e+00  \n",
              "min   -3.555566e+00  \n",
              "25%   -1.780260e-01  \n",
              "50%    1.019387e-01  \n",
              "75%    4.405336e-01  \n",
              "max    5.643211e+00  \n",
              "\n",
              "[8 rows x 2056 columns]"
            ]
          },
          "execution_count": 17,
          "metadata": {},
          "output_type": "execute_result"
        }
      ],
      "source": [
        "x_train_scaled.describe() #everything scaled"
      ]
    },
    {
      "cell_type": "code",
      "execution_count": null,
      "metadata": {
        "id": "ptWmyweaVbI9"
      },
      "outputs": [],
      "source": [
        "x_val_scaled = scaler.transform(x_val) #transform but not fit validation data\n",
        "x_val_scaled = pd.DataFrame(x_val_scaled, columns=x_val.columns)"
      ]
    },
    {
      "cell_type": "code",
      "execution_count": null,
      "metadata": {
        "colab": {
          "base_uri": "https://localhost:8080/",
          "height": 394
        },
        "id": "j4Gfjd0uV1ZS",
        "outputId": "a508a7a8-3c66-48f3-c77d-66d927adf438"
      },
      "outputs": [
        {
          "data": {
            "text/html": [
              "\n",
              "\n",
              "  <div id=\"df-2b95d890-e98b-4dd6-8588-1faf2e5d42e5\">\n",
              "    <div class=\"colab-df-container\">\n",
              "      <div>\n",
              "<style scoped>\n",
              "    .dataframe tbody tr th:only-of-type {\n",
              "        vertical-align: middle;\n",
              "    }\n",
              "\n",
              "    .dataframe tbody tr th {\n",
              "        vertical-align: top;\n",
              "    }\n",
              "\n",
              "    .dataframe thead th {\n",
              "        text-align: right;\n",
              "    }\n",
              "</style>\n",
              "<table border=\"1\" class=\"dataframe\">\n",
              "  <thead>\n",
              "    <tr style=\"text-align: right;\">\n",
              "      <th></th>\n",
              "      <th>AGE</th>\n",
              "      <th>LOTSIZE</th>\n",
              "      <th>GARAGE</th>\n",
              "      <th>LAT</th>\n",
              "      <th>LNG</th>\n",
              "      <th>beds</th>\n",
              "      <th>baths</th>\n",
              "      <th>sqft_finished</th>\n",
              "      <th>resnet_0</th>\n",
              "      <th>resnet_1</th>\n",
              "      <th>...</th>\n",
              "      <th>resnet_2038</th>\n",
              "      <th>resnet_2039</th>\n",
              "      <th>resnet_2040</th>\n",
              "      <th>resnet_2041</th>\n",
              "      <th>resnet_2042</th>\n",
              "      <th>resnet_2043</th>\n",
              "      <th>resnet_2044</th>\n",
              "      <th>resnet_2045</th>\n",
              "      <th>resnet_2046</th>\n",
              "      <th>resnet_2047</th>\n",
              "    </tr>\n",
              "  </thead>\n",
              "  <tbody>\n",
              "    <tr>\n",
              "      <th>count</th>\n",
              "      <td>8188.000000</td>\n",
              "      <td>8188.000000</td>\n",
              "      <td>8188.000000</td>\n",
              "      <td>8188.000000</td>\n",
              "      <td>8188.000000</td>\n",
              "      <td>8188.000000</td>\n",
              "      <td>8188.000000</td>\n",
              "      <td>8188.000000</td>\n",
              "      <td>8188.000000</td>\n",
              "      <td>8188.000000</td>\n",
              "      <td>...</td>\n",
              "      <td>8188.000000</td>\n",
              "      <td>8188.000000</td>\n",
              "      <td>8188.000000</td>\n",
              "      <td>8188.000000</td>\n",
              "      <td>8188.000000</td>\n",
              "      <td>8188.000000</td>\n",
              "      <td>8188.000000</td>\n",
              "      <td>8188.000000</td>\n",
              "      <td>8188.000000</td>\n",
              "      <td>8188.000000</td>\n",
              "    </tr>\n",
              "    <tr>\n",
              "      <th>mean</th>\n",
              "      <td>0.006020</td>\n",
              "      <td>0.004882</td>\n",
              "      <td>-0.010149</td>\n",
              "      <td>0.014710</td>\n",
              "      <td>-0.008892</td>\n",
              "      <td>0.008492</td>\n",
              "      <td>0.008561</td>\n",
              "      <td>0.000438</td>\n",
              "      <td>0.000340</td>\n",
              "      <td>0.006517</td>\n",
              "      <td>...</td>\n",
              "      <td>-0.006468</td>\n",
              "      <td>0.003788</td>\n",
              "      <td>0.009499</td>\n",
              "      <td>0.000348</td>\n",
              "      <td>0.000350</td>\n",
              "      <td>-0.002252</td>\n",
              "      <td>-0.001438</td>\n",
              "      <td>0.014741</td>\n",
              "      <td>0.002789</td>\n",
              "      <td>0.003109</td>\n",
              "    </tr>\n",
              "    <tr>\n",
              "      <th>std</th>\n",
              "      <td>0.985853</td>\n",
              "      <td>1.058881</td>\n",
              "      <td>0.981409</td>\n",
              "      <td>0.975238</td>\n",
              "      <td>1.000480</td>\n",
              "      <td>1.001653</td>\n",
              "      <td>1.004139</td>\n",
              "      <td>0.747286</td>\n",
              "      <td>0.999795</td>\n",
              "      <td>1.002504</td>\n",
              "      <td>...</td>\n",
              "      <td>0.996915</td>\n",
              "      <td>1.002202</td>\n",
              "      <td>1.020454</td>\n",
              "      <td>0.997887</td>\n",
              "      <td>0.998885</td>\n",
              "      <td>0.997893</td>\n",
              "      <td>0.997449</td>\n",
              "      <td>1.008723</td>\n",
              "      <td>1.004005</td>\n",
              "      <td>1.002574</td>\n",
              "    </tr>\n",
              "    <tr>\n",
              "      <th>min</th>\n",
              "      <td>-1.085790</td>\n",
              "      <td>-0.039292</td>\n",
              "      <td>-0.729411</td>\n",
              "      <td>-3.976363</td>\n",
              "      <td>-5.173787</td>\n",
              "      <td>-2.891833</td>\n",
              "      <td>-2.721913</td>\n",
              "      <td>-1.330204</td>\n",
              "      <td>-3.952009</td>\n",
              "      <td>-3.509313</td>\n",
              "      <td>...</td>\n",
              "      <td>-3.790821</td>\n",
              "      <td>-3.770978</td>\n",
              "      <td>-3.064302</td>\n",
              "      <td>-4.018464</td>\n",
              "      <td>-3.873330</td>\n",
              "      <td>-3.959652</td>\n",
              "      <td>-2.733606</td>\n",
              "      <td>-3.152796</td>\n",
              "      <td>-3.783271</td>\n",
              "      <td>-3.555566</td>\n",
              "    </tr>\n",
              "    <tr>\n",
              "      <th>25%</th>\n",
              "      <td>-0.782478</td>\n",
              "      <td>-0.039292</td>\n",
              "      <td>-0.729411</td>\n",
              "      <td>-0.373571</td>\n",
              "      <td>-0.236359</td>\n",
              "      <td>0.074301</td>\n",
              "      <td>-0.618901</td>\n",
              "      <td>-0.431566</td>\n",
              "      <td>0.027217</td>\n",
              "      <td>-0.195656</td>\n",
              "      <td>...</td>\n",
              "      <td>-0.056009</td>\n",
              "      <td>-0.082276</td>\n",
              "      <td>-0.338326</td>\n",
              "      <td>0.079914</td>\n",
              "      <td>-0.037164</td>\n",
              "      <td>0.020537</td>\n",
              "      <td>-0.371475</td>\n",
              "      <td>-0.317793</td>\n",
              "      <td>-0.103602</td>\n",
              "      <td>-0.168467</td>\n",
              "    </tr>\n",
              "    <tr>\n",
              "      <th>50%</th>\n",
              "      <td>-0.378063</td>\n",
              "      <td>-0.039292</td>\n",
              "      <td>-0.729411</td>\n",
              "      <td>0.046920</td>\n",
              "      <td>0.230191</td>\n",
              "      <td>0.074301</td>\n",
              "      <td>-0.093148</td>\n",
              "      <td>-0.108436</td>\n",
              "      <td>0.183946</td>\n",
              "      <td>0.161114</td>\n",
              "      <td>...</td>\n",
              "      <td>0.101209</td>\n",
              "      <td>0.117351</td>\n",
              "      <td>0.076626</td>\n",
              "      <td>0.203001</td>\n",
              "      <td>0.158499</td>\n",
              "      <td>0.187056</td>\n",
              "      <td>0.002821</td>\n",
              "      <td>0.033302</td>\n",
              "      <td>0.147938</td>\n",
              "      <td>0.106878</td>\n",
              "    </tr>\n",
              "    <tr>\n",
              "      <th>75%</th>\n",
              "      <td>0.916066</td>\n",
              "      <td>-0.039291</td>\n",
              "      <td>0.649175</td>\n",
              "      <td>0.526247</td>\n",
              "      <td>0.433434</td>\n",
              "      <td>0.074301</td>\n",
              "      <td>0.432605</td>\n",
              "      <td>0.360418</td>\n",
              "      <td>0.356160</td>\n",
              "      <td>0.521053</td>\n",
              "      <td>...</td>\n",
              "      <td>0.333790</td>\n",
              "      <td>0.374456</td>\n",
              "      <td>0.503395</td>\n",
              "      <td>0.339243</td>\n",
              "      <td>0.389801</td>\n",
              "      <td>0.365166</td>\n",
              "      <td>0.436455</td>\n",
              "      <td>0.479247</td>\n",
              "      <td>0.427628</td>\n",
              "      <td>0.439890</td>\n",
              "    </tr>\n",
              "    <tr>\n",
              "      <th>max</th>\n",
              "      <td>19.782036</td>\n",
              "      <td>52.143408</td>\n",
              "      <td>4.784932</td>\n",
              "      <td>2.252978</td>\n",
              "      <td>3.154682</td>\n",
              "      <td>4.029148</td>\n",
              "      <td>19.359709</td>\n",
              "      <td>18.970993</td>\n",
              "      <td>3.014284</td>\n",
              "      <td>3.192039</td>\n",
              "      <td>...</td>\n",
              "      <td>7.557755</td>\n",
              "      <td>5.300598</td>\n",
              "      <td>10.442460</td>\n",
              "      <td>1.660611</td>\n",
              "      <td>3.634852</td>\n",
              "      <td>4.637922</td>\n",
              "      <td>12.214691</td>\n",
              "      <td>8.230393</td>\n",
              "      <td>6.199707</td>\n",
              "      <td>6.018793</td>\n",
              "    </tr>\n",
              "  </tbody>\n",
              "</table>\n",
              "<p>8 rows × 2056 columns</p>\n",
              "</div>\n",
              "      <button class=\"colab-df-convert\" onclick=\"convertToInteractive('df-2b95d890-e98b-4dd6-8588-1faf2e5d42e5')\"\n",
              "              title=\"Convert this dataframe to an interactive table.\"\n",
              "              style=\"display:none;\">\n",
              "\n",
              "  <svg xmlns=\"http://www.w3.org/2000/svg\" height=\"24px\"viewBox=\"0 0 24 24\"\n",
              "       width=\"24px\">\n",
              "    <path d=\"M0 0h24v24H0V0z\" fill=\"none\"/>\n",
              "    <path d=\"M18.56 5.44l.94 2.06.94-2.06 2.06-.94-2.06-.94-.94-2.06-.94 2.06-2.06.94zm-11 1L8.5 8.5l.94-2.06 2.06-.94-2.06-.94L8.5 2.5l-.94 2.06-2.06.94zm10 10l.94 2.06.94-2.06 2.06-.94-2.06-.94-.94-2.06-.94 2.06-2.06.94z\"/><path d=\"M17.41 7.96l-1.37-1.37c-.4-.4-.92-.59-1.43-.59-.52 0-1.04.2-1.43.59L10.3 9.45l-7.72 7.72c-.78.78-.78 2.05 0 2.83L4 21.41c.39.39.9.59 1.41.59.51 0 1.02-.2 1.41-.59l7.78-7.78 2.81-2.81c.8-.78.8-2.07 0-2.86zM5.41 20L4 18.59l7.72-7.72 1.47 1.35L5.41 20z\"/>\n",
              "  </svg>\n",
              "      </button>\n",
              "\n",
              "\n",
              "\n",
              "    <div id=\"df-1322356d-551b-49b7-8882-a6c3ac063682\">\n",
              "      <button class=\"colab-df-quickchart\" onclick=\"quickchart('df-1322356d-551b-49b7-8882-a6c3ac063682')\"\n",
              "              title=\"Suggest charts.\"\n",
              "              style=\"display:none;\">\n",
              "\n",
              "<svg xmlns=\"http://www.w3.org/2000/svg\" height=\"24px\"viewBox=\"0 0 24 24\"\n",
              "     width=\"24px\">\n",
              "    <g>\n",
              "        <path d=\"M19 3H5c-1.1 0-2 .9-2 2v14c0 1.1.9 2 2 2h14c1.1 0 2-.9 2-2V5c0-1.1-.9-2-2-2zM9 17H7v-7h2v7zm4 0h-2V7h2v10zm4 0h-2v-4h2v4z\"/>\n",
              "    </g>\n",
              "</svg>\n",
              "      </button>\n",
              "    </div>\n",
              "\n",
              "<style>\n",
              "  .colab-df-quickchart {\n",
              "    background-color: #E8F0FE;\n",
              "    border: none;\n",
              "    border-radius: 50%;\n",
              "    cursor: pointer;\n",
              "    display: none;\n",
              "    fill: #1967D2;\n",
              "    height: 32px;\n",
              "    padding: 0 0 0 0;\n",
              "    width: 32px;\n",
              "  }\n",
              "\n",
              "  .colab-df-quickchart:hover {\n",
              "    background-color: #E2EBFA;\n",
              "    box-shadow: 0px 1px 2px rgba(60, 64, 67, 0.3), 0px 1px 3px 1px rgba(60, 64, 67, 0.15);\n",
              "    fill: #174EA6;\n",
              "  }\n",
              "\n",
              "  [theme=dark] .colab-df-quickchart {\n",
              "    background-color: #3B4455;\n",
              "    fill: #D2E3FC;\n",
              "  }\n",
              "\n",
              "  [theme=dark] .colab-df-quickchart:hover {\n",
              "    background-color: #434B5C;\n",
              "    box-shadow: 0px 1px 3px 1px rgba(0, 0, 0, 0.15);\n",
              "    filter: drop-shadow(0px 1px 2px rgba(0, 0, 0, 0.3));\n",
              "    fill: #FFFFFF;\n",
              "  }\n",
              "</style>\n",
              "\n",
              "    <script>\n",
              "      async function quickchart(key) {\n",
              "        const containerElement = document.querySelector('#' + key);\n",
              "        const charts = await google.colab.kernel.invokeFunction(\n",
              "            'suggestCharts', [key], {});\n",
              "      }\n",
              "    </script>\n",
              "\n",
              "      <script>\n",
              "\n",
              "function displayQuickchartButton(domScope) {\n",
              "  let quickchartButtonEl =\n",
              "    domScope.querySelector('#df-1322356d-551b-49b7-8882-a6c3ac063682 button.colab-df-quickchart');\n",
              "  quickchartButtonEl.style.display =\n",
              "    google.colab.kernel.accessAllowed ? 'block' : 'none';\n",
              "}\n",
              "\n",
              "        displayQuickchartButton(document);\n",
              "      </script>\n",
              "      <style>\n",
              "    .colab-df-container {\n",
              "      display:flex;\n",
              "      flex-wrap:wrap;\n",
              "      gap: 12px;\n",
              "    }\n",
              "\n",
              "    .colab-df-convert {\n",
              "      background-color: #E8F0FE;\n",
              "      border: none;\n",
              "      border-radius: 50%;\n",
              "      cursor: pointer;\n",
              "      display: none;\n",
              "      fill: #1967D2;\n",
              "      height: 32px;\n",
              "      padding: 0 0 0 0;\n",
              "      width: 32px;\n",
              "    }\n",
              "\n",
              "    .colab-df-convert:hover {\n",
              "      background-color: #E2EBFA;\n",
              "      box-shadow: 0px 1px 2px rgba(60, 64, 67, 0.3), 0px 1px 3px 1px rgba(60, 64, 67, 0.15);\n",
              "      fill: #174EA6;\n",
              "    }\n",
              "\n",
              "    [theme=dark] .colab-df-convert {\n",
              "      background-color: #3B4455;\n",
              "      fill: #D2E3FC;\n",
              "    }\n",
              "\n",
              "    [theme=dark] .colab-df-convert:hover {\n",
              "      background-color: #434B5C;\n",
              "      box-shadow: 0px 1px 3px 1px rgba(0, 0, 0, 0.15);\n",
              "      filter: drop-shadow(0px 1px 2px rgba(0, 0, 0, 0.3));\n",
              "      fill: #FFFFFF;\n",
              "    }\n",
              "  </style>\n",
              "\n",
              "      <script>\n",
              "        const buttonEl =\n",
              "          document.querySelector('#df-2b95d890-e98b-4dd6-8588-1faf2e5d42e5 button.colab-df-convert');\n",
              "        buttonEl.style.display =\n",
              "          google.colab.kernel.accessAllowed ? 'block' : 'none';\n",
              "\n",
              "        async function convertToInteractive(key) {\n",
              "          const element = document.querySelector('#df-2b95d890-e98b-4dd6-8588-1faf2e5d42e5');\n",
              "          const dataTable =\n",
              "            await google.colab.kernel.invokeFunction('convertToInteractive',\n",
              "                                                     [key], {});\n",
              "          if (!dataTable) return;\n",
              "\n",
              "          const docLinkHtml = 'Like what you see? Visit the ' +\n",
              "            '<a target=\"_blank\" href=https://colab.research.google.com/notebooks/data_table.ipynb>data table notebook</a>'\n",
              "            + ' to learn more about interactive tables.';\n",
              "          element.innerHTML = '';\n",
              "          dataTable['output_type'] = 'display_data';\n",
              "          await google.colab.output.renderOutput(dataTable, element);\n",
              "          const docLink = document.createElement('div');\n",
              "          docLink.innerHTML = docLinkHtml;\n",
              "          element.appendChild(docLink);\n",
              "        }\n",
              "      </script>\n",
              "    </div>\n",
              "  </div>\n"
            ],
            "text/plain": [
              "               AGE      LOTSIZE       GARAGE          LAT          LNG  \\\n",
              "count  8188.000000  8188.000000  8188.000000  8188.000000  8188.000000   \n",
              "mean      0.006020     0.004882    -0.010149     0.014710    -0.008892   \n",
              "std       0.985853     1.058881     0.981409     0.975238     1.000480   \n",
              "min      -1.085790    -0.039292    -0.729411    -3.976363    -5.173787   \n",
              "25%      -0.782478    -0.039292    -0.729411    -0.373571    -0.236359   \n",
              "50%      -0.378063    -0.039292    -0.729411     0.046920     0.230191   \n",
              "75%       0.916066    -0.039291     0.649175     0.526247     0.433434   \n",
              "max      19.782036    52.143408     4.784932     2.252978     3.154682   \n",
              "\n",
              "              beds        baths  sqft_finished     resnet_0     resnet_1  ...  \\\n",
              "count  8188.000000  8188.000000    8188.000000  8188.000000  8188.000000  ...   \n",
              "mean      0.008492     0.008561       0.000438     0.000340     0.006517  ...   \n",
              "std       1.001653     1.004139       0.747286     0.999795     1.002504  ...   \n",
              "min      -2.891833    -2.721913      -1.330204    -3.952009    -3.509313  ...   \n",
              "25%       0.074301    -0.618901      -0.431566     0.027217    -0.195656  ...   \n",
              "50%       0.074301    -0.093148      -0.108436     0.183946     0.161114  ...   \n",
              "75%       0.074301     0.432605       0.360418     0.356160     0.521053  ...   \n",
              "max       4.029148    19.359709      18.970993     3.014284     3.192039  ...   \n",
              "\n",
              "       resnet_2038  resnet_2039  resnet_2040  resnet_2041  resnet_2042  \\\n",
              "count  8188.000000  8188.000000  8188.000000  8188.000000  8188.000000   \n",
              "mean     -0.006468     0.003788     0.009499     0.000348     0.000350   \n",
              "std       0.996915     1.002202     1.020454     0.997887     0.998885   \n",
              "min      -3.790821    -3.770978    -3.064302    -4.018464    -3.873330   \n",
              "25%      -0.056009    -0.082276    -0.338326     0.079914    -0.037164   \n",
              "50%       0.101209     0.117351     0.076626     0.203001     0.158499   \n",
              "75%       0.333790     0.374456     0.503395     0.339243     0.389801   \n",
              "max       7.557755     5.300598    10.442460     1.660611     3.634852   \n",
              "\n",
              "       resnet_2043  resnet_2044  resnet_2045  resnet_2046  resnet_2047  \n",
              "count  8188.000000  8188.000000  8188.000000  8188.000000  8188.000000  \n",
              "mean     -0.002252    -0.001438     0.014741     0.002789     0.003109  \n",
              "std       0.997893     0.997449     1.008723     1.004005     1.002574  \n",
              "min      -3.959652    -2.733606    -3.152796    -3.783271    -3.555566  \n",
              "25%       0.020537    -0.371475    -0.317793    -0.103602    -0.168467  \n",
              "50%       0.187056     0.002821     0.033302     0.147938     0.106878  \n",
              "75%       0.365166     0.436455     0.479247     0.427628     0.439890  \n",
              "max       4.637922    12.214691     8.230393     6.199707     6.018793  \n",
              "\n",
              "[8 rows x 2056 columns]"
            ]
          },
          "execution_count": 19,
          "metadata": {},
          "output_type": "execute_result"
        }
      ],
      "source": [
        "x_val_scaled.describe() #everything scaled"
      ]
    },
    {
      "cell_type": "markdown",
      "metadata": {
        "id": "MaSSOrsHvYuj"
      },
      "source": [
        "Separate CNN image features since we only want to apply the PCA on the image features."
      ]
    },
    {
      "cell_type": "code",
      "execution_count": null,
      "metadata": {
        "id": "C910J69R7Zlq"
      },
      "outputs": [],
      "source": [
        "features = ['beds', 'baths', 'LOTSIZE', 'sqft_finished', 'AGE', 'GARAGE', 'LNG', 'LAT']\n",
        "\n",
        "x_train_scaled_cnn = x_train_scaled.drop(features, axis=1)\n",
        "x_val_scaled_cnn = x_val_scaled.drop(features, axis=1)\n",
        "\n",
        "x_train_scaled = x_train_scaled[features]\n",
        "x_val_scaled = x_val_scaled[features]"
      ]
    },
    {
      "cell_type": "markdown",
      "metadata": {
        "id": "9jQfQ4EMwAT-"
      },
      "source": [
        "Test different numbers of PCA components to see what works best."
      ]
    },
    {
      "cell_type": "code",
      "execution_count": null,
      "metadata": {
        "id": "g5U1bH7B82iX"
      },
      "outputs": [],
      "source": [
        "pca = PCA().fit(x_train_scaled_cnn)"
      ]
    },
    {
      "cell_type": "code",
      "execution_count": null,
      "metadata": {
        "colab": {
          "base_uri": "https://localhost:8080/",
          "height": 472
        },
        "id": "hymVQMsR8_LV",
        "outputId": "89cc9b92-9f1c-4d5b-82e7-d6daeb23fafb"
      },
      "outputs": [
        {
          "data": {
            "image/png": "[encoded data removed]",
            "text/plain": [
              "<Figure size 640x480 with 1 Axes>"
            ]
          },
          "metadata": {},
          "output_type": "display_data"
        }
      ],
      "source": [
        "num_com = 4 #best since others overfit\n",
        "plt.plot(range(1, 21), np.cumsum(pca.explained_variance_ratio_[:20]), 'o-')\n",
        "plt.axvline(x=num_com)\n",
        "plt.xlabel('# components')\n",
        "plt.ylabel('Cumulative Variance Explained Ratio')\n",
        "plt.title('Principle Components');"
      ]
    },
    {
      "cell_type": "markdown",
      "metadata": {
        "id": "kUEknJFZwTUE"
      },
      "source": [
        "Apply PCA using chosen number of components."
      ]
    },
    {
      "cell_type": "code",
      "execution_count": null,
      "metadata": {
        "id": "WwpT0mdK-pnV"
      },
      "outputs": [],
      "source": [
        "pca = PCA(num_com).fit(x_train_scaled_cnn)\n",
        "x_train_scaled_cnn_pca = pd.DataFrame(pca.transform(x_train_scaled_cnn), columns=[f\"com_{i}\" for i in range(num_com)])\n",
        "x_val_scaled_cnn_pca = pd.DataFrame(pca.transform(x_val_scaled_cnn), columns=[f\"com_{i}\" for i in range(num_com)])\n",
        "\n",
        "x_train_scaled_pca = pd.concat([x_train_scaled,x_train_scaled_cnn_pca], axis=1)\n",
        "x_val_scaled_pca = pd.concat([x_val_scaled,x_val_scaled_cnn_pca], axis=1)"
      ]
    },
    {
      "cell_type": "markdown",
      "metadata": {
        "id": "DinazkKyqzsc"
      },
      "source": [
        "First explore different models trying to fit without image features."
      ]
    },
    {
      "cell_type": "code",
      "execution_count": null,
      "metadata": {
        "colab": {
          "base_uri": "https://localhost:8080/"
        },
        "id": "wOQvthsKlt0h",
        "outputId": "825177af-8f4e-4611-e662-698025fa86f6"
      },
      "outputs": [
        {
          "data": {
            "text/plain": [
              "(0.9843629356712171, 0.8002204313685043, 0.8054841732510433)"
            ]
          },
          "execution_count": 21,
          "metadata": {},
          "output_type": "execute_result"
        }
      ],
      "source": [
        "dt = GridSearchCV(estimator=DecisionTreeRegressor(),\n",
        "                  param_grid={'max_depth': range(1,20)},\n",
        "                  cv=5).fit(x_train_scaled, y_train)\n",
        "\n",
        "cv_score = cross_val_score(dt, x_train_scaled, y_train, scoring='r2', cv=5)\n",
        "\n",
        "dt.score(x_train_scaled, y_train), cv_score.mean(), dt.score(x_val_scaled, y_val)"
      ]
    },
    {
      "cell_type": "code",
      "execution_count": null,
      "metadata": {
        "colab": {
          "base_uri": "https://localhost:8080/"
        },
        "id": "BqWQk9ErOsh5",
        "outputId": "a1ee519e-a5c0-4c30-b1f2-770e4d1ac002"
      },
      "outputs": [
        {
          "name": "stdout",
          "output_type": "stream",
          "text": [
            "16\n"
          ]
        }
      ],
      "source": [
        "#get best depth from best decision tree\n",
        "best_depth = dt.best_params_['max_depth']\n",
        "print(best_depth)"
      ]
    },
    {
      "cell_type": "code",
      "execution_count": null,
      "metadata": {
        "colab": {
          "base_uri": "https://localhost:8080/"
        },
        "id": "KaSPW20AnnyL",
        "outputId": "bb2c3899-fb4d-44bb-e159-a40520114e02"
      },
      "outputs": [
        {
          "data": {
            "text/plain": [
              "(0.9823319124250162, 0.8699941664319691, 0.8859920166374474)"
            ]
          },
          "execution_count": 23,
          "metadata": {},
          "output_type": "execute_result"
        }
      ],
      "source": [
        "#winner here with highest R2 on test data!\n",
        "rf = RandomForestRegressor(max_depth=2*best_depth,\n",
        "                           n_estimators=500,\n",
        "                           max_features='sqrt',\n",
        "                           oob_score=True,\n",
        "                           random_state=123).fit(x_train_scaled, y_train)\n",
        "\n",
        "cv_score = cross_val_score(rf, x_train_scaled, y_train, scoring='r2', cv=5)\n",
        "\n",
        "rf.score(x_train_scaled, y_train), cv_score.mean(), rf.score(x_val_scaled, y_val)"
      ]
    },
    {
      "cell_type": "code",
      "execution_count": null,
      "metadata": {
        "colab": {
          "base_uri": "https://localhost:8080/"
        },
        "id": "TxLVJ879rKoV",
        "outputId": "19896af0-071b-4a7e-b4c7-4e815dfc63ff"
      },
      "outputs": [
        {
          "data": {
            "text/plain": [
              "(0.967955945262825, 0.8668736021703249, 0.8791098527017788)"
            ]
          },
          "execution_count": 24,
          "metadata": {},
          "output_type": "execute_result"
        }
      ],
      "source": [
        "rf2 = RandomForestRegressor(max_depth=best_depth,\n",
        "                           n_estimators=500,\n",
        "                           max_features='sqrt',\n",
        "                           oob_score=True,\n",
        "                           random_state=123).fit(x_train_scaled, y_train)\n",
        "\n",
        "cv_score = cross_val_score(rf2, x_train_scaled, y_train, scoring='r2', cv=5)\n",
        "\n",
        "rf2.score(x_train_scaled, y_train), cv_score.mean(), rf2.score(x_val_scaled, y_val)"
      ]
    },
    {
      "cell_type": "code",
      "execution_count": null,
      "metadata": {
        "colab": {
          "base_uri": "https://localhost:8080/"
        },
        "id": "Y0QOFiydXTf4",
        "outputId": "84d038ba-ad1c-43ce-d9f7-68cc2f2d8bbc"
      },
      "outputs": [
        {
          "data": {
            "text/plain": [
              "(0.9990093759017529, 0.8153767927100434, 0.8080437062661711)"
            ]
          },
          "execution_count": 25,
          "metadata": {},
          "output_type": "execute_result"
        }
      ],
      "source": [
        "gb = GradientBoostingRegressor(n_estimators=500,\n",
        "                               max_depth=2*best_depth,\n",
        "                               random_state=123).fit(x_train_scaled, y_train)\n",
        "\n",
        "cv_score = cross_val_score(gb, x_train_scaled, y_train, scoring='r2', cv=5)\n",
        "\n",
        "gb.score(x_train_scaled, y_train), cv_score.mean(), gb.score(x_val_scaled, y_val)"
      ]
    },
    {
      "cell_type": "code",
      "execution_count": null,
      "metadata": {
        "colab": {
          "base_uri": "https://localhost:8080/"
        },
        "id": "4S2kMrgvrgaB",
        "outputId": "2c5c6570-2628-4e50-963e-24390b0dd05b"
      },
      "outputs": [
        {
          "data": {
            "text/plain": [
              "(0.9990091487464836, 0.8357877046983239, 0.8187156275593419)"
            ]
          },
          "execution_count": 26,
          "metadata": {},
          "output_type": "execute_result"
        }
      ],
      "source": [
        "gb2 = GradientBoostingRegressor(n_estimators=500,\n",
        "                               max_depth=best_depth,\n",
        "                               random_state=123).fit(x_train_scaled, y_train)\n",
        "\n",
        "cv_score = cross_val_score(gb2, x_train_scaled, y_train, scoring='r2', cv=5)\n",
        "\n",
        "gb2.score(x_train_scaled, y_train), cv_score.mean(), gb2.score(x_val_scaled, y_val)"
      ]
    },
    {
      "cell_type": "markdown",
      "metadata": {
        "id": "aT1nBNMSrxa9"
      },
      "source": [
        "Now try models including image features with PCA."
      ]
    },
    {
      "cell_type": "code",
      "execution_count": null,
      "metadata": {
        "colab": {
          "base_uri": "https://localhost:8080/"
        },
        "id": "v5F5Si7ACJjZ",
        "outputId": "9b2a39f4-2ec3-4632-f786-e97eabf89dfc"
      },
      "outputs": [
        {
          "data": {
            "text/plain": [
              "(0.9439519889791114, 0.7814071342305807, 0.8197865906978916)"
            ]
          },
          "execution_count": 27,
          "metadata": {},
          "output_type": "execute_result"
        }
      ],
      "source": [
        "dt_pca = GridSearchCV(estimator=DecisionTreeRegressor(),\n",
        "                  param_grid={'max_depth': range(1,20)},\n",
        "                  cv=5).fit(x_train_scaled_pca, y_train)\n",
        "\n",
        "cv_score = cross_val_score(dt_pca, x_train_scaled_pca, y_train, scoring='r2', cv=5)\n",
        "\n",
        "dt_pca.score(x_train_scaled_pca, y_train), cv_score.mean(), dt_pca.score(x_val_scaled_pca, y_val)"
      ]
    },
    {
      "cell_type": "code",
      "execution_count": null,
      "metadata": {
        "colab": {
          "base_uri": "https://localhost:8080/"
        },
        "id": "-r4swLMorLi_",
        "outputId": "c678e866-4dd0-44ff-b4a6-12e1652e37ab"
      },
      "outputs": [
        {
          "name": "stdout",
          "output_type": "stream",
          "text": [
            "12\n"
          ]
        }
      ],
      "source": [
        "best_depth_pca = dt_pca.best_params_['max_depth']\n",
        "print(best_depth_pca)"
      ]
    },
    {
      "cell_type": "code",
      "execution_count": null,
      "metadata": {
        "colab": {
          "base_uri": "https://localhost:8080/"
        },
        "id": "uwN1bQfPCfvx",
        "outputId": "8673c348-6101-498a-9a45-a2c27dba8c5a"
      },
      "outputs": [
        {
          "data": {
            "text/plain": [
              "(0.9791569193866932, 0.8409200923337978, 0.8730454013147179)"
            ]
          },
          "execution_count": 29,
          "metadata": {},
          "output_type": "execute_result"
        }
      ],
      "source": [
        "rf_pca = RandomForestRegressor(max_depth=2*best_depth_pca,\n",
        "                           n_estimators=500,\n",
        "                           max_features='sqrt',\n",
        "                           oob_score=True,\n",
        "                           random_state=123).fit(x_train_scaled_pca, y_train)\n",
        "\n",
        "cv_score = cross_val_score(rf_pca, x_train_scaled_pca, y_train, scoring='r2', cv=5)\n",
        "\n",
        "rf_pca.score(x_train_scaled_pca, y_train), cv_score.mean(), rf_pca.score(x_val_scaled_pca, y_val)"
      ]
    },
    {
      "cell_type": "code",
      "execution_count": null,
      "metadata": {
        "colab": {
          "base_uri": "https://localhost:8080/"
        },
        "id": "HuiwbkqKGnLZ",
        "outputId": "7e0da9e7-b00a-4ff9-b334-d08444959898"
      },
      "outputs": [
        {
          "data": {
            "text/plain": [
              "(0.9242388695547061, 0.8097291744051051, 0.842652554431844)"
            ]
          },
          "execution_count": 30,
          "metadata": {},
          "output_type": "execute_result"
        }
      ],
      "source": [
        "rf2_pca = RandomForestRegressor(max_depth=best_depth_pca,\n",
        "                           n_estimators=500,\n",
        "                           max_features='sqrt',\n",
        "                           oob_score=True,\n",
        "                           random_state=123).fit(x_train_scaled_pca, y_train)\n",
        "\n",
        "cv_score = cross_val_score(rf2_pca, x_train_scaled_pca, y_train, scoring='r2', cv=5)\n",
        "\n",
        "rf2_pca.score(x_train_scaled_pca, y_train), cv_score.mean(), rf2_pca.score(x_val_scaled_pca, y_val)"
      ]
    },
    {
      "cell_type": "code",
      "execution_count": null,
      "metadata": {
        "colab": {
          "base_uri": "https://localhost:8080/"
        },
        "id": "S3jveSvpDCiw",
        "outputId": "7b3c05fc-a688-4d42-9013-a8489e548c35"
      },
      "outputs": [
        {
          "data": {
            "text/plain": [
              "(0.9997657343097573, 0.791398376460537, 0.8287715333505414)"
            ]
          },
          "execution_count": 31,
          "metadata": {},
          "output_type": "execute_result"
        }
      ],
      "source": [
        "gb_pca = GradientBoostingRegressor(n_estimators=500,\n",
        "                               max_depth=2*best_depth_pca,\n",
        "                               random_state=123).fit(x_train_scaled_pca, y_train)\n",
        "\n",
        "cv_score = cross_val_score(gb_pca, x_train_scaled_pca, y_train, scoring='r2', cv=5)\n",
        "\n",
        "gb_pca.score(x_train_scaled_pca, y_train), cv_score.mean(), gb_pca.score(x_val_scaled_pca, y_val)"
      ]
    },
    {
      "cell_type": "code",
      "execution_count": null,
      "metadata": {
        "colab": {
          "base_uri": "https://localhost:8080/"
        },
        "id": "lEhPYQoKBtaV",
        "outputId": "508c06ff-70d6-4a99-909d-98b2f4daff25"
      },
      "outputs": [
        {
          "data": {
            "text/plain": [
              "(0.9996219268377537, 0.8492443415788056, 0.8793279557296546)"
            ]
          },
          "execution_count": 32,
          "metadata": {},
          "output_type": "execute_result"
        }
      ],
      "source": [
        "#winning model when include image features\n",
        "gb2_pca = GradientBoostingRegressor(n_estimators=500,\n",
        "                               max_depth=best_depth_pca,\n",
        "                               random_state=123).fit(x_train_scaled_pca, y_train)\n",
        "\n",
        "cv_score = cross_val_score(gb2_pca, x_train_scaled_pca, y_train, scoring='r2', cv=5)\n",
        "\n",
        "gb2_pca.score(x_train_scaled_pca, y_train), cv_score.mean(), gb2_pca.score(x_val_scaled_pca, y_val)"
      ]
    },
    {
      "cell_type": "markdown",
      "metadata": {
        "id": "lzf8JanixfhT"
      },
      "source": [
        "Now that selected best model with and without image features, refit with all the data and then pickle models."
      ]
    },
    {
      "cell_type": "code",
      "execution_count": 10,
      "metadata": {
        "colab": {
          "base_uri": "https://localhost:8080/"
        },
        "id": "8MFganm7Bmmn",
        "outputId": "3be91976-6ad6-4039-a4c8-6911b31e0952"
      },
      "outputs": [
        {
          "data": {
            "text/plain": [
              "0.9832184443854469"
            ]
          },
          "execution_count": 10,
          "metadata": {},
          "output_type": "execute_result"
        }
      ],
      "source": [
        "cnn_features_lst = list(cnn_features.columns)\n",
        "cnn_features_lst.append('SOLDPRICE')\n",
        "\n",
        "best_depth = 16\n",
        "\n",
        "#fit final selected model without CNN features and w/ all data\n",
        "x = data.drop(cnn_features_lst, axis=1)\n",
        "y = data.SOLDPRICE\n",
        "\n",
        "pipe = Pipeline([('scaler', StandardScaler()),\n",
        "                 ('rf', RandomForestRegressor(max_depth=2*best_depth,\n",
        "                           n_estimators=500,\n",
        "                           max_features='sqrt',\n",
        "                           oob_score=True,\n",
        "                           random_state=123))])\n",
        "\n",
        "pipe.fit(x,y)\n",
        "pipe.score(x,y)"
      ]
    },
    {
      "cell_type": "code",
      "execution_count": 13,
      "metadata": {
        "id": "jYAT0g7tlA42"
      },
      "outputs": [],
      "source": [
        "with open('best_model.pkl', 'wb') as f:\n",
        "    pickle.dump(pipe, f)"
      ]
    },
    {
      "cell_type": "code",
      "execution_count": null,
      "metadata": {
        "id": "zoJFYDDOnzyy"
      },
      "outputs": [],
      "source": [
        "with bz2.BZ2File('best_model.pbz2', 'wb') as f:\n",
        "    pickle.dump(pipe, f)"
      ]
    },
    {
      "cell_type": "code",
      "execution_count": 14,
      "metadata": {
        "colab": {
          "base_uri": "https://localhost:8080/"
        },
        "id": "GTTaWu6XEXxI",
        "outputId": "817bf485-713b-4866-e350-657c4f4734af"
      },
      "outputs": [
        {
          "data": {
            "text/plain": [
              "0.9995552399681134"
            ]
          },
          "execution_count": 14,
          "metadata": {},
          "output_type": "execute_result"
        }
      ],
      "source": [
        "from sklearn.compose import ColumnTransformer\n",
        "\n",
        "best_depth = 12\n",
        "num_comp = 4\n",
        "\n",
        "#fit final selected model w/ CNN features and w/ all data\n",
        "x = data.drop('SOLDPRICE', axis=1)\n",
        "y = data.SOLDPRICE\n",
        "\n",
        "#apply PCA only on image features and allow other variables to pass through\n",
        "pca_transformer = ColumnTransformer([('pca', PCA(num_comp),\n",
        "                                      [i for i in range(38,2056)])], remainder='passthrough')\n",
        "\n",
        "pipe_pca = Pipeline([('scaler', StandardScaler()),\n",
        "                     ('pca', pca_transformer),\n",
        "                     ('gb', GradientBoostingRegressor(n_estimators=500,\n",
        "                               max_depth=best_depth,\n",
        "                               random_state=123))])\n",
        "\n",
        "pipe_pca.fit(x,y)\n",
        "pipe_pca.score(x,y)"
      ]
    },
    {
      "cell_type": "code",
      "execution_count": null,
      "metadata": {
        "id": "nkfwBxbTXWvn"
      },
      "outputs": [],
      "source": [
        "with bz2.BZ2File('best_model_cnn.pbz2', 'wb') as f:\n",
        "    pickle.dump(pipe_pca, f)"
      ]
    },
    {
      "cell_type": "code",
      "execution_count": 16,
      "metadata": {
        "id": "eI4mHhRfnWva"
      },
      "outputs": [],
      "source": [
        "with open('best_model_cnn.pkl', 'wb') as f:\n",
        "    pickle.dump(pipe_pca, f)"
      ]
    }
  ],
  "metadata": {
    "accelerator": "GPU",
    "colab": {
      "machine_shape": "hm",
      "provenance": []
    },
    "kernelspec": {
      "display_name": "Python 3",
      "name": "python3"
    },
    "language_info": {
      "name": "python"
    }
  },
  "nbformat": 4,
  "nbformat_minor": 0
}
